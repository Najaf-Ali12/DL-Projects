{
  "cells": [
    {
      "cell_type": "markdown",
      "id": "8ab85ff9",
      "metadata": {
        "id": "8ab85ff9"
      },
      "source": [
        "# Problem Description\n",
        "Analyzing sentiments related to various products such as Tablet, Mobile and various other gizmos can be fun and difficult especially when collected across various demographics around the world. In this weekend hackathon, we challenge the machinehackers community to develop a machine learning model to accurately classify various products into 4 different classes of sentiments based on the raw text review provided by the user. Analyzing these sentiments will not only help us serve the customers better but can also reveal lot of customer traits present/hidden in the reviews.\n",
        "The sentiment analysis requires a lot to be taken into account mainly due to the preprocessing involved to represent raw text and make them machine-understandable. Usually, we stem and lemmatize the raw information and then represent it using TF-IDF, Word Embeddings, etc. However, provided the state-of-the-art NLP models such as Transformer based BERT models one can skip the manual feature engineering like TF-IDF and Count Vectorizers.\n",
        "In this short span of time, we would encourage you to leverage the ImageNet moment (Transfer Learning) in NLP using various pre-trained models.\n",
        "\n",
        "# Dataset Description:\n",
        "Train.csv - 6364 rows x 4 columns (Inlcudes Sentiment Columns as Target)\n",
        "Test.csv - 2728 rows x 3 columns\n",
        "Sample Submission.csv - Please check the Evaluation section for more details on how to generate a valid submission\n",
        "\n",
        "# Attribute Description:\n",
        "Text_ID - Unique Identifier\n",
        "Product_Description - Description of the product review by a user\n",
        "Product_Type - Different types of product (9 unique products)\n",
        "Class - Represents various sentiments\n",
        "0 - Cannot Say\n",
        "1 - Negative\n",
        "2 - Positive\n",
        "3 - No Sentiment\n",
        "\n",
        "# Skills Required:\n",
        "NLP, Sentiment Analysis\n",
        "Feature extraction from raw text using TF-IDF, CountVectorizer\n",
        "Using Word Embedding to represent words as vectors\n",
        "Using Pretrained models like Transformers, BERT\n",
        "Optimizing multi-class log loss to generalize well on unseen data"
      ]
    },
    {
      "cell_type": "markdown",
      "id": "71281eb0",
      "metadata": {
        "id": "71281eb0"
      },
      "source": [
        "# Importing Libraries"
      ]
    },
    {
      "cell_type": "code",
      "execution_count": 2,
      "id": "c43cf7bc",
      "metadata": {
        "id": "c43cf7bc"
      },
      "outputs": [],
      "source": [
        "import pandas as pd\n",
        "import numpy as np\n",
        "import matplotlib.pyplot as plt\n",
        "from sklearn.preprocessing import LabelEncoder\n",
        "from sklearn.metrics import accuracy_score,classification_report,confusion_matrix\n",
        "from tensorflow.keras.layers import LSTM\n",
        "from tensorflow.keras.layers import Dense\n",
        "from tensorflow.keras.models import Sequential\n",
        "from tensorflow.keras.layers import Embedding\n",
        "from tensorflow.keras.layers import ReLU\n",
        "from tensorflow.keras.layers import Dropout\n",
        "from tensorflow.keras.optimizers import Adam\n",
        "from nltk.corpus import stopwords\n",
        "from nltk.stem import PorterStemmer\n",
        "from nltk.tokenize import word_tokenize,sent_tokenize"
      ]
    },
    {
      "cell_type": "markdown",
      "id": "82f4b3d7",
      "metadata": {
        "id": "82f4b3d7"
      },
      "source": [
        "# Importing the Dataset\n"
      ]
    },
    {
      "cell_type": "code",
      "execution_count": 3,
      "id": "4c2b74aa",
      "metadata": {
        "colab": {
          "base_uri": "https://localhost:8080/",
          "height": 206
        },
        "id": "4c2b74aa",
        "outputId": "40669225-14a8-448a-d92a-6eb190de62d0"
      },
      "outputs": [
        {
          "data": {
            "text/html": [
              "<div>\n",
              "<style scoped>\n",
              "    .dataframe tbody tr th:only-of-type {\n",
              "        vertical-align: middle;\n",
              "    }\n",
              "\n",
              "    .dataframe tbody tr th {\n",
              "        vertical-align: top;\n",
              "    }\n",
              "\n",
              "    .dataframe thead th {\n",
              "        text-align: right;\n",
              "    }\n",
              "</style>\n",
              "<table border=\"1\" class=\"dataframe\">\n",
              "  <thead>\n",
              "    <tr style=\"text-align: right;\">\n",
              "      <th></th>\n",
              "      <th>Text_ID</th>\n",
              "      <th>Product_Description</th>\n",
              "      <th>Product_Type</th>\n",
              "      <th>Sentiment</th>\n",
              "    </tr>\n",
              "  </thead>\n",
              "  <tbody>\n",
              "    <tr>\n",
              "      <th>0</th>\n",
              "      <td>3057</td>\n",
              "      <td>The Web DesignerÛªs Guide to iOS (and Android...</td>\n",
              "      <td>9</td>\n",
              "      <td>2</td>\n",
              "    </tr>\n",
              "    <tr>\n",
              "      <th>1</th>\n",
              "      <td>6254</td>\n",
              "      <td>RT @mention Line for iPad 2 is longer today th...</td>\n",
              "      <td>9</td>\n",
              "      <td>2</td>\n",
              "    </tr>\n",
              "    <tr>\n",
              "      <th>2</th>\n",
              "      <td>8212</td>\n",
              "      <td>Crazy that Apple is opening a temporary store ...</td>\n",
              "      <td>9</td>\n",
              "      <td>2</td>\n",
              "    </tr>\n",
              "    <tr>\n",
              "      <th>3</th>\n",
              "      <td>4422</td>\n",
              "      <td>The lesson from Google One Pass: In this digit...</td>\n",
              "      <td>9</td>\n",
              "      <td>2</td>\n",
              "    </tr>\n",
              "    <tr>\n",
              "      <th>4</th>\n",
              "      <td>5526</td>\n",
              "      <td>RT @mention At the panel: &amp;quot;Your mom has a...</td>\n",
              "      <td>9</td>\n",
              "      <td>2</td>\n",
              "    </tr>\n",
              "  </tbody>\n",
              "</table>\n",
              "</div>"
            ],
            "text/plain": [
              "   Text_ID                                Product_Description  Product_Type  \\\n",
              "0     3057  The Web DesignerÛªs Guide to iOS (and Android...             9   \n",
              "1     6254  RT @mention Line for iPad 2 is longer today th...             9   \n",
              "2     8212  Crazy that Apple is opening a temporary store ...             9   \n",
              "3     4422  The lesson from Google One Pass: In this digit...             9   \n",
              "4     5526  RT @mention At the panel: &quot;Your mom has a...             9   \n",
              "\n",
              "   Sentiment  \n",
              "0          2  \n",
              "1          2  \n",
              "2          2  \n",
              "3          2  \n",
              "4          2  "
            ]
          },
          "execution_count": 3,
          "metadata": {},
          "output_type": "execute_result"
        }
      ],
      "source": [
        "data=pd.read_csv(\"Train.csv\")\n",
        "data.head()\n"
      ]
    },
    {
      "cell_type": "markdown",
      "id": "6cf4f09f",
      "metadata": {
        "id": "6cf4f09f"
      },
      "source": [
        "WHAT IS INCLUDED IN EDA\n",
        "\n",
        "Understanding the Dataset\n",
        "\n",
        "Checking Missing Values\n",
        "\n",
        "Data Types and Structure\n",
        "\n",
        "Summary Statistics\n",
        "\n",
        "Outlier Detection\n",
        "\n",
        "Data Visualization (Histograms, Boxplots, Heatmaps, etc.)"
      ]
    },
    {
      "cell_type": "markdown",
      "id": "716a4cb9",
      "metadata": {
        "id": "716a4cb9"
      },
      "source": [
        "# Exploratory Data Analysis (EDE)\n",
        "Data shape is (6364, 4)\n",
        "dtypes: int64(3), object(1)\n",
        "id column has nothing to do with our model so it will be removed.\n",
        "Most of the products belong to product type 9.\n",
        "Most of the reviews in the datase are 2 means positive\n",
        "Text data deals with words, not numbers — so traditional outlier detection (like boxplots) doesn't make sense.\n",
        "Data has no missing values"
      ]
    },
    {
      "cell_type": "code",
      "execution_count": 4,
      "id": "28dbe95c",
      "metadata": {
        "colab": {
          "base_uri": "https://localhost:8080/"
        },
        "id": "28dbe95c",
        "outputId": "9063f86c-098f-4bb6-ca2e-120766cbee2e"
      },
      "outputs": [
        {
          "data": {
            "text/plain": [
              "(6364, 4)"
            ]
          },
          "execution_count": 4,
          "metadata": {},
          "output_type": "execute_result"
        }
      ],
      "source": [
        "data.shape"
      ]
    },
    {
      "cell_type": "code",
      "execution_count": 5,
      "id": "02c2e210",
      "metadata": {
        "colab": {
          "base_uri": "https://localhost:8080/"
        },
        "id": "02c2e210",
        "outputId": "6f1a212a-7970-46a7-df89-cbcd284597d5"
      },
      "outputs": [
        {
          "name": "stdout",
          "output_type": "stream",
          "text": [
            "<class 'pandas.core.frame.DataFrame'>\n",
            "RangeIndex: 6364 entries, 0 to 6363\n",
            "Data columns (total 4 columns):\n",
            " #   Column               Non-Null Count  Dtype \n",
            "---  ------               --------------  ----- \n",
            " 0   Text_ID              6364 non-null   int64 \n",
            " 1   Product_Description  6364 non-null   object\n",
            " 2   Product_Type         6364 non-null   int64 \n",
            " 3   Sentiment            6364 non-null   int64 \n",
            "dtypes: int64(3), object(1)\n",
            "memory usage: 199.0+ KB\n"
          ]
        }
      ],
      "source": [
        "data.info()"
      ]
    },
    {
      "cell_type": "code",
      "execution_count": 6,
      "id": "2cf5bd64",
      "metadata": {
        "colab": {
          "base_uri": "https://localhost:8080/",
          "height": 209
        },
        "id": "2cf5bd64",
        "outputId": "4dd98348-7434-4df0-a7c4-9ea3a1015af7"
      },
      "outputs": [
        {
          "data": {
            "text/plain": [
              "Text_ID                0\n",
              "Product_Description    0\n",
              "Product_Type           0\n",
              "Sentiment              0\n",
              "dtype: int64"
            ]
          },
          "execution_count": 6,
          "metadata": {},
          "output_type": "execute_result"
        }
      ],
      "source": [
        "# Checking missing values\n",
        "data.isnull().sum()"
      ]
    },
    {
      "cell_type": "code",
      "execution_count": 7,
      "id": "cac700d7",
      "metadata": {
        "colab": {
          "base_uri": "https://localhost:8080/"
        },
        "id": "cac700d7",
        "outputId": "7817f13d-22f8-4938-8457-1729795e7c7e"
      },
      "outputs": [
        {
          "data": {
            "text/plain": [
              "2"
            ]
          },
          "execution_count": 7,
          "metadata": {},
          "output_type": "execute_result"
        }
      ],
      "source": [
        "# Summary Statics\n",
        "data[\"Product_Type\"].mode()[0]\n",
        "data[\"Sentiment\"].mode()[0]"
      ]
    },
    {
      "cell_type": "markdown",
      "id": "25b6efc9",
      "metadata": {
        "id": "25b6efc9"
      },
      "source": [
        "## Data Visualization\n",
        "### Histogram\n",
        "Shows the distribution (spread) of a single variable.\n",
        "\n",
        "Helps to see where values are centered, whether data is skewed, or if there are peaks (modes).\n"
      ]
    },
    {
      "cell_type": "code",
      "execution_count": null,
      "id": "7cb7f4a3",
      "metadata": {
        "id": "7cb7f4a3"
      },
      "outputs": [],
      "source": []
    },
    {
      "cell_type": "code",
      "execution_count": 8,
      "id": "fdb9568d",
      "metadata": {
        "colab": {
          "base_uri": "https://localhost:8080/",
          "height": 472
        },
        "id": "fdb9568d",
        "outputId": "af91d2d3-3d62-45f1-961f-1873e91b28ab"
      },
      "outputs": [
        {
          "data": {
            "image/png": "[encoded data removed]",
            "text/plain": [
              "<Figure size 640x480 with 1 Axes>"
            ]
          },
          "metadata": {},
          "output_type": "display_data"
        }
      ],
      "source": [
        "plt.hist(x=data[\"Sentiment\"],color=\"orange\",edgecolor=\"black\",bins=10)\n",
        "plt.title(\"Sentiment Distribution\")\n",
        "plt.xlabel(\"Sentiment Type\")\n",
        "plt.ylabel(\"Frequency\")\n",
        "plt.grid(True)  # grid means the bars or boxes in backside\n",
        "plt.show()"
      ]
    },
    {
      "cell_type": "markdown",
      "id": "ee23f20b",
      "metadata": {
        "id": "ee23f20b"
      },
      "source": [
        "# Boxplot\n",
        "Summarizes data based on 5 statistics: minimum, first quartile (Q1), median (Q2), third quartile (Q3), maximum.\n",
        "\n",
        "Detects outliers and shows data spread."
      ]
    },
    {
      "cell_type": "markdown",
      "id": "2862c576",
      "metadata": {
        "id": "2862c576"
      },
      "source": [
        "# Data Preprocessing\n",
        "## Missing Values\n",
        "No missing Values"
      ]
    },
    {
      "cell_type": "code",
      "execution_count": 9,
      "id": "3939feb4",
      "metadata": {
        "colab": {
          "base_uri": "https://localhost:8080/",
          "height": 209
        },
        "id": "3939feb4",
        "outputId": "c2ba6b8a-1e15-43b1-dfc8-6a5bc4272aba"
      },
      "outputs": [
        {
          "data": {
            "text/plain": [
              "Text_ID                0\n",
              "Product_Description    0\n",
              "Product_Type           0\n",
              "Sentiment              0\n",
              "dtype: int64"
            ]
          },
          "execution_count": 9,
          "metadata": {},
          "output_type": "execute_result"
        }
      ],
      "source": [
        "data.isnull().sum()"
      ]
    },
    {
      "cell_type": "markdown",
      "id": "a1acba20",
      "metadata": {
        "id": "a1acba20"
      },
      "source": [
        "# Data Distribution\n"
      ]
    },
    {
      "cell_type": "code",
      "execution_count": 10,
      "id": "472ab758",
      "metadata": {
        "colab": {
          "base_uri": "https://localhost:8080/"
        },
        "id": "472ab758",
        "outputId": "bfe36591-deda-43a2-d426-384ce92f631d"
      },
      "outputs": [
        {
          "data": {
            "text/plain": [
              "Index(['Text_ID', 'Product_Description', 'Product_Type', 'Sentiment'], dtype='object')"
            ]
          },
          "execution_count": 10,
          "metadata": {},
          "output_type": "execute_result"
        }
      ],
      "source": [
        "data.columns"
      ]
    },
    {
      "cell_type": "code",
      "execution_count": 11,
      "id": "6ed78766",
      "metadata": {
        "id": "6ed78766"
      },
      "outputs": [],
      "source": [
        "# Removing unnecessary columns\n",
        "data=data.drop([\"Product_Type\",\"Text_ID\"],axis=1)"
      ]
    },
    {
      "cell_type": "code",
      "execution_count": 12,
      "id": "5d205cb0",
      "metadata": {
        "id": "5d205cb0"
      },
      "outputs": [],
      "source": [
        "X=data[\"Product_Description\"]\n",
        "y=data[\"Sentiment\"]"
      ]
    },
    {
      "cell_type": "code",
      "execution_count": 13,
      "id": "KJHfRPwnLson",
      "metadata": {
        "colab": {
          "base_uri": "https://localhost:8080/"
        },
        "id": "KJHfRPwnLson",
        "outputId": "d6909876-19b8-430d-a826-934b5d3d5225"
      },
      "outputs": [
        {
          "name": "stderr",
          "output_type": "stream",
          "text": [
            "[nltk_data] Error loading stopwords: <urlopen error [Errno 11001]\n",
            "[nltk_data]     getaddrinfo failed>\n"
          ]
        },
        {
          "data": {
            "text/plain": [
              "False"
            ]
          },
          "execution_count": 13,
          "metadata": {},
          "output_type": "execute_result"
        }
      ],
      "source": [
        "import nltk\n",
        "nltk.download('stopwords')"
      ]
    },
    {
      "cell_type": "markdown",
      "id": "6d848fbe",
      "metadata": {
        "id": "6d848fbe"
      },
      "source": [
        "# NLP\n",
        "## Stemming\n"
      ]
    },
    {
      "cell_type": "code",
      "execution_count": 14,
      "id": "7a6969aa",
      "metadata": {
        "colab": {
          "base_uri": "https://localhost:8080/"
        },
        "id": "7a6969aa",
        "outputId": "6194e7fd-002f-4e6a-9d64-cd025b46ee57"
      },
      "outputs": [
        {
          "data": {
            "text/plain": [
              "['web design guid io android app today mention link sxsw',\n",
              " 'rt mention line ipad longer today yesterday sxsw get line today fun',\n",
              " 'crazi appl open temporari store austin tomorrow handl rabid sxsw eye pad seeker',\n",
              " 'lesson googl one pass digit environ user want purchas across everi platform one tool sxsw elonsxsw',\n",
              " 'rt mention panel quot mom ipad design boomer quot sxsw',\n",
              " 'rt mention think ef hubbi line ipad someon point toward line wife number sxswi sxsw',\n",
              " 'quot android user iphon user use option menu contextu menu quot mention sxsw',\n",
              " 'wow rt mention interrupt regularli schedul sxsw geek program big news link googl circl',\n",
              " 'googl launch new social network call circl possibl today link link sxsw',\n",
              " 'mention welcom enjoy sxsw ride anywher austin dwnld groundlink app link booth',\n",
              " 'rt mention appl plan keep austin wire open pop appl store sxsw link',\n",
              " 'yeay rt mention new ubersoci iphon app store includ uberguid sxsw sponsor masha link',\n",
              " 'know sxsw season app updat whenev open iphon app store',\n",
              " 'rt mention rt mention arriv us sxsw look microsim data iphon recommend mention',\n",
              " 'mention rumor appl open temporari store downtown austin sxsw ipad launch link',\n",
              " 'horribl repress memori appl spin beach ball come back progressbar talk sxsw',\n",
              " 'mention saw man drop iphon gutter last year sxsw',\n",
              " 'rt mention social import googl screw big launch circu link via mention sxsw',\n",
              " 'rt mention second day busi appl pop store appear trend sxsw vb mention appl store sxsw pic link',\n",
              " 'brace audio onslaught sxsw enjoy free music sampler itun link featuredartist',\n",
              " 'sxsw enchant mention quot sell dream steve job say iphon part amp made ppl suicid chines',\n",
              " 'thank heathcar digit mention publish news new medic app showcas sxsw link sxswh',\n",
              " 'tomorrow charl chen speak android chromeo access mention googl booth exhibit hall mention pm sxsw',\n",
              " 'ipad hand awesom dude gave cutsi hour line austin appl sxsw win',\n",
              " 'adapt retail appl open pop shop sxsw skill done cupertino link',\n",
              " 'realli like sxsw iphon app thank make event app appear work well',\n",
              " 'rt mention tweet regist exclus pass event parti ipad sxsw quot give cont link',\n",
              " 'rt mention rt mention travel sxsw ipad',\n",
              " 'win free ipad webdoc com sxsw rt awesom tech right',\n",
              " 'ouch googl v bing mention respect bing guy invit fill third chair sxsw',\n",
              " 'rt mention best thing heard wknd sxsw quot gave ipad money japan relief need ipad quot',\n",
              " 'austin get full sxsw underway tell iphon intermitt brick crowd',\n",
              " 'sxsw tweet android user attendong sxsw pleas report scene bannka app link',\n",
              " 'rt mention barton hollow free song download amp featur album mention mention featur mix link itun sxsw',\n",
              " 'sxsw recommend engin session fantast thank googl pandora youtub stumbledupon',\n",
              " 'coupl evo vs iphon video sxsw link',\n",
              " 'sxsw mention parti mention lustr pearl bar team android sxsw w mention mention link',\n",
              " 'rt mention need late night snack mention discov fill option sxswi recap day link sxsw yum',\n",
              " 'appl plan keep austin wire open pop appl store sxsw link',\n",
              " 'mention sxsw ipad talk along line ipad talk idev basic differ content',\n",
              " 'n love town link code valid p infektd sxsw necro',\n",
              " 'smoke way much yesterday hahaha austin wakenbak paint android parti tonight sxsw androidsxsw link',\n",
              " 'n time alway us link code valid p infektd sxsw necro',\n",
              " 'like see mention appli technolog art project sxsw',\n",
              " 'mention claim android phone everywher last year sxsw dude io android ratio like iphon everywher',\n",
              " 'hitlanti ipad cool song explor app hitlanti com sxsw musicviz',\n",
              " 'rt mention woman plane next nook blackberri curv android ipad purs sxsw',\n",
              " 'true rt mention tablet phone laptop evid sxsw might well call countri unit state appl sxswsa',\n",
              " 'link guy kawasaki talk enchant sxsw know stuff book internet appl sxsw',\n",
              " 'sxsw need best android dev html js issu need solv quickli handsom reward love grab',\n",
              " 'rt mention saw preview new mention ipad app awesom sxsw',\n",
              " 'rt mention diller would product ipad one form factor today multichannel multi platform world sxsw ketchsx',\n",
              " 'friend austin mention sxsw buffalo new ipad',\n",
              " 'rt mention rt mention mention launch major new social network call circl possibl today link sxsw smm gt gt realli googl',\n",
              " 'rt mention appl set squar foot temporari store sxsw sell new ipad test potenti traffic link',\n",
              " 'mani good place rt mention race around sxsw best fuel great local fare link',\n",
              " 'mention might need go appl today think quot quot quot x quot quot w quot key worn sxsw',\n",
              " 'great sxsw ipad app mention link',\n",
              " 'abl afford attend sxsw buy ipad today consid save japan earthquak relief sayin fb',\n",
              " 'enjoy sxsw california hollywood silicon valley meet nyc sunni austin pool cowboy boot ipad vibe sxswi',\n",
              " 'marissa mayer googl connect digit amp physic world mobil link sxsw',\n",
              " 'head mention pvhous first snacker tweet us amp find one popchick win iphon case sxsw',\n",
              " 'rt mention appl open pop store austin sxsw aapl link',\n",
              " 'want buy ipad temporari appl store open austin sxsw link',\n",
              " 'mention mention thank love show us iphon via twitpic share love zazzlesxsw sxsw',\n",
              " 'rt mention rt mention rt mention googl launch major new social network call circl possibl today link sxsw cool',\n",
              " 'pop appl store seem pop ipad sxsw',\n",
              " 'indi song rock variou artist sxsw featur artist link itun',\n",
              " 'pack mani appl devic alarm set see ya sxsw psych meet final mani guy',\n",
              " 'pen paper iphon amp ipad immedi use session media analyt need hit sxsw wall',\n",
              " 'discuss pubsubhubbub link fsw sxsw',\n",
              " 'sound fantast rt mention googl parti awesom sxsw',\n",
              " 'rt mention googl circl take facebook link circl sxsw',\n",
              " 'googl parti photo booth fun sxsw link',\n",
              " 'wonder mani ipad appl sell sxsw link',\n",
              " 'quantter launch iphon app soon particip launchrock comp sxsw link',\n",
              " 'download free mention sampler band play sxsw link',\n",
              " 'rt mention check design ipad interfac new navig schema sxsw link sxsw uxd',\n",
              " 'mention googl launch major new social network call circl possibl today link sxsw hnwsxsw',\n",
              " 'keep new japan quak iphon sxsw nhk world tv live link',\n",
              " 'need buy ipad austin sxsw sure need q austin appl store',\n",
              " 'ipad success appl popup store austin appl sxsw link',\n",
              " 'ask quot n get ipad quot earlier today far peopl get thought sxsw sxswi',\n",
              " 'line around austin appl pop store unbeliev sxsw technolog junki',\n",
              " 'build android io applic got tool sxsw ballroom',\n",
              " 'mention quot south quot drive babi adventur sxsw ipad fb link',\n",
              " 'guy next care studi quot best parti sxsw quot spreadsheet made ipad ipad n b',\n",
              " 'rt mention special appl store open th congress sxsw amp ipad launch www appl com retail thedomain appl ipad sxsw fb',\n",
              " 'restor appl made smart phone unleash hell sxsw',\n",
              " 'line move fast rt mention seen two impress line sinc sxsw one appl store amp mention parti',\n",
              " 'mike tyson appear sxsw promot iphon ipad game link seo sem game miketyson topnew',\n",
              " 'def could use ipad sxsw today tweet via iphon sorta pretti much sux',\n",
              " 'first tweet plane feedback gogo registr via fb connect twitter paypal googl integr pay sxsw',\n",
              " 'sxsw come privacybootcamp startup mention mention googl facebook acc abc start sxswi',\n",
              " 'rt mention ipad tablet etc aid greater adopt mobil devic screen size larger mobilefarm sxsw',\n",
              " 'lonelyplanet austin iphon app free godsend gp awar map citi without need g wifi sxsw',\n",
              " 'download day lone planet austin free limit time link iphon',\n",
              " 'mention mention pop appl store austin still ipad stock lazyweb sxsw',\n",
              " 'head free googl sponsor happi hour semant web austin mention fogo de ch sxsw',\n",
              " 'like mention download freak jet iphon hilari see learn new stuff sxsw',\n",
              " 'rt mention domo io android got releas mention domo tonchidot boom sxsw',\n",
              " 'rt mention hey sxsw tri earli iphon android beta hitcheri let us know think link',\n",
              " 'rt mention appl like pay long gadget like mani close system work pnid sxsw',\n",
              " 'rt mention kick sxswi mention give away ipad visit fb page enter link sxsw',\n",
              " 'ye googl parti glow cup sxsw link',\n",
              " 'mention thank appl store sxsw retweet',\n",
              " 'rt mention rt mention googl launch major new social network call circl possibl today link sxsw',\n",
              " 'sxsw novelti ipad news app fade fast among digit deleg link',\n",
              " 'googl real time locat data layer googl earth give breathtak visual data sxsw',\n",
              " 'think sxsw taken upon make clear gen iphon gonna cut anymor',\n",
              " 'get ipad discuss sxsw',\n",
              " 'essenti app sxsw beyond underwir wire com link socialmedia iphon android',\n",
              " 'would via mention appl open pop store austin nerd mention sxsw get new ipad link cnet',\n",
              " 'googl map use mobil sxsw',\n",
              " 'check great amp v effect enviro app mention bin link iphon gs sxsw sxswi greatergood',\n",
              " 'googl prefer launch hype new social featur meh bang via tc link sxsw',\n",
              " 'free quot payment android platform quot webinar march th regist today link sxsw mr',\n",
              " 'regist privat beta win appl tv sxsw visit link detail',\n",
              " 'hhaha mention intimid iphon app develop meetup leav sxsw',\n",
              " 'line might start bit slow pm easili wrap around ipad sxsw gadget link',\n",
              " 'mention know googl develop day sxsw link austin sxsw mention',\n",
              " 'whoa hang saw someon without iphon sxsw',\n",
              " 'earli purchas ipad awesom sweepstak giveaway game sxsw detail come soon',\n",
              " 'leav bag home today travel light ipad hand realli need lug around impedimenta sxsw',\n",
              " 'appl open temp store th congress downtown austin ipad releas sxsw sxsw',\n",
              " 'rt mention sxsw tradeshow floor engag w multi touch interact wall take part augment realiti enter win ipad',\n",
              " 'guy get tattoo compani logo win ipad link sxsw',\n",
              " 'googl marissa mayer quot mobil phone cursor connect physic digit world quot sxsw link',\n",
              " 'q amp googl mention amp bing mention rank sxsw session mon pm link',\n",
              " 'iphon android app keep groov sxsw link',\n",
              " 'line ipad sxsw link',\n",
              " 'nice find rsq mention link sxsw ipad app',\n",
              " 'true rt mention best hungri sxsw tip mekong river great vietnames link th st till pm via mention',\n",
              " 'googl get social texa link chrismessina facebook googl googlecircl sxsw twitter',\n",
              " 'fsw sxsw want know spec pars ajax link link',\n",
              " 'happi pi day googl launch circl pi day exist sxsw',\n",
              " 'sxsw social hackathon session googl bing webtrend chzbrgr go figur mpl st paul bolinsxsw',\n",
              " 'look like may abl fork cash new ipad sxsw link',\n",
              " 'love mention sxsw quot appl come cool technolog one ever heard go confer quot',\n",
              " 'rt mention readwriteweb report googl might launch new social network sxsw today link',\n",
              " 'marissa meyer demo googl augment realiti sxsw link',\n",
              " 'mention rumor appl open temporari store downtown austin sxsw ipad launch bit ly g mzb',\n",
              " 'win openbeta ipad mention sxsw panel link today mention usguy cc mention dgtltribe sxswbuffalo',\n",
              " 'msc page guy get tattoo sxsw could win free ipad link sxsw tattoo ipad link allshar',\n",
              " 'left sxsw tradeshow demo mention googl theatr ok get see present use',\n",
              " 'come ladi mention mention rt mention austin convent center w mention show iphon game sxsw',\n",
              " 'sq see facebook googl competit via mention checkin sxsw',\n",
              " 'ahhh darn rt mention mention mention accord mention googl confirm launch sxsw',\n",
              " 'wow lt lt mention googl launch major new social network call circl possibl today link sxsw',\n",
              " 'rt mention appl sell ipad sxsw california great build cult follow link',\n",
              " 'even begin appl win sxsw link via mention',\n",
              " 'threw togeth keep ipad attempt keep hour stuff weekend sxsw link',\n",
              " 'platform concertgo launch android app time sxsw link via mention music event liveshow',\n",
              " 'itun free sxsw sampler featur select year perform link',\n",
              " 'rt mention win awesom ipad quibid custom mention case catch sxsw wear openbeta vip badg',\n",
              " 'rt mention rt mention lose hour tonight sxsw attende blame microsoft appl get credit fix christma',\n",
              " 'st injuri sxsw bicycl stupid concret ouch link fortun still abl type iphon schedul',\n",
              " 'rt mention beluga iphon app highlight sxsw excel way coordin sxsw japan relief effort',\n",
              " 'bore sxsw tri iphon app link',\n",
              " 'mention mention mention thank make great product great make sxsw parti podcast link',\n",
              " 'third time charm gt gt gt googl launch new social network sxsw cnet news link',\n",
              " 'ten percent crowd quot design ipad interfac quot alreadi ipad sxsw',\n",
              " 'aight wed thur list sxsw possibl link hope see twitter bud atx week',\n",
              " 'anyon know android dev sxsw let know startup need help',\n",
              " 'ha rt mention rumor appl open temporari store downtown austin sxsw amp ipad launch link',\n",
              " 'classiest fascist compani exist kara swisher sxsw appl',\n",
              " 'rt mention abt surpris custom wait line appl store austin ipad mention sxsw cbatsxsw awesom',\n",
              " 'rt mention temp appl store th st austin sxsw close night quot stuff say austin cop bar door',\n",
              " 'rt enter contest mayb win ipad mention sxsw',\n",
              " 'sxsw apptast link android app develop io iphon smartphon',\n",
              " 'mention mention googl place mention one check need check aggreg sxsw sxswedu',\n",
              " 'rt mention use ipad someon give otherwis iphon actual task sxsw',\n",
              " 'rt mention googl launch major new social network call circl possibl today link sxsw',\n",
              " 'love sxsw alt univers everyon use appl product mention fastest way reach someon',\n",
              " 'googl announc check in sxsw locat base geo fenc applic link ireport wssxsw sxsw scrm sm market',\n",
              " 'hope may someday keynot swsx rt mention bore keynot sxsw ipad link',\n",
              " 'grab mention betainvit sxsw mention new android camera rais valley player bit ly ea zgd via mention',\n",
              " 'meet guy bought first ipad sxsw appl pop store link via mention',\n",
              " 'rt mention less hour announc detail ipad giveaway sxsw sxswi',\n",
              " 'love googl analyt thank follow sxsw took time check new post',\n",
              " 'come parti w mention googl tonight sxsw link band food art ice cream nifti interact map',\n",
              " 'googl collect data type request receiv govern global privacybootcamp sxsw',\n",
              " 'forget disneyland appl pop store austin happiest place earth sxsw',\n",
              " 'rt mention googl preview updat blogger interfac sxsw link',\n",
              " 'sxsw quot shape citi expand contract real time data quot googl develop encourag audienc googl quot map japan quot',\n",
              " 'mention takin galaxi g test drive mention sxsw n c tmobil g hold pack downtown atx austintx samsunggalaxi android',\n",
              " 'enjoy resurg mention austin convent center today w mention fam show new iphon game sxsw',\n",
              " 'help decid panel go next futur social photographi googl doodl burn man pac man beyond sxsw',\n",
              " 'mention mention mention googl launch major new social network call circl rww f bcet sxsw',\n",
              " 'someon go ask bing copi googl search result qagb sxsw seo',\n",
              " 'googl recreat code pac man doodl origin bug includ sxsw googledoodl',\n",
              " 'nice mention iphon app behav today crash yesterday ridicul sxsw',\n",
              " 'check ipad mention sxsw pop store mention appl store sxsw w other link',\n",
              " 'appl store downtown austin open til midnight sxsw',\n",
              " 'rt mention sxsw mention rock casbah mention mention partylikeit digit right link',\n",
              " 'expect mob scene w th st amp congress link sxsw ipad',\n",
              " 'rt mention even begin appl win sxsw link gt gonna get sum via mention',\n",
              " 'bout time rt mention new ubersoci iphon app store includ uberguid sxsw sponsor cont link',\n",
              " 'tristan h aptur fast amp iter w news content mean googl find first sxsw hacknew drumbeat mojo',\n",
              " 'ad linkedin hootsuit mobil sxsw updat iphon blackberri amp android link',\n",
              " 'want win ticket sxsw parti rule simpl link android unit android news mass android',\n",
              " 'ok seen two impress line sinc sxsw one appl store yesterday amp mention parti cc mention',\n",
              " 'two ipad observ sxsw vast major peopl use seen lot today look nice appletakingoverworld',\n",
              " 'mention say feel sexier use mention product sxsw influenc',\n",
              " 'usa today ipad make good use digit shortcut still look like newspap mention tapworthi sxsw',\n",
              " 'took day unplug visit famili anyon sxsw highlight googl reader burst seam',\n",
              " 'compil sxsw list one googl doc take lot longer thought mani parti mani good musician',\n",
              " 'mention vs mention vs mention sxsw thing heat quot googl offer check reward amp titl quot link lb',\n",
              " 'ipad purchas sunni tan squar far good sxsw',\n",
              " 'grate aclu googl earplug right sxsw',\n",
              " 'head sxsw want share gather contact info link turn iphon link',\n",
              " 'line form popup appl store sign appl yet sxsw link',\n",
              " 'mention gt rt mention new ubersoci iphon app store includ uberguid sxsw cont link',\n",
              " 'smart mention hollergram ipad app sxsw link may leav vuvuzela home',\n",
              " 'googl heat map global search sxsw hotpot link',\n",
              " 'rt mention slide sxsw talk quot ipad design headach quot link tapworthi realli interest design well',\n",
              " 'anyon know mention store sxsw still ipad stock',\n",
              " 'arriv sxsw mention issu resolv die use iphon app cant login rt mention mention',\n",
              " 'watch mention cover ipad launch live appl pop store austin sxsw link',\n",
              " 'rt mention ipad live unbox front sxsw appl store video link',\n",
              " 'win pictur android googl sxsw link',\n",
              " 'rt mention marissa mayer googl connect digit amp physic world mobil link sxsw',\n",
              " 'mention mention quot get feedback sxsw group amp push android fix grill chees stand yesterday quot',\n",
              " 'googl launch social network sxsw today',\n",
              " 'googl launch major new social network call circl possibl today link circl sxsw',\n",
              " 'engag sxsw filter mention iphon ipod twitter app youkidshavefun',\n",
              " 'appl open pop temporari store sxsw ipad launch link via mention',\n",
              " 'check mention rout link rsvp gt http www facebook com event php eid sxswi sxsw',\n",
              " 'mention saw lax head sxsw wife iphon ipad download app freespeech mention',\n",
              " 'white ipad gig wifi avail austin sxsw appl popup store right wait',\n",
              " 'rumor sxsw could true googl launch secret new social network call quot circl quot link',\n",
              " 'ipad loung recharg coffe h ipad art show free daili sxsw e th congress austin detail link',\n",
              " 'mention ipad sold went new buyer report link sxsw socialmedia tech ipad media',\n",
              " 'dl calyp app get calyp casa sxsw free mobil app avail itun app store amp android market see u',\n",
              " 'appl open pop store austin sxsw link via mention',\n",
              " 'play gun bro xperia play googl leagu event park lot teamandroid event xperiaplay sunday sxsw mention',\n",
              " 'knew pli mention beer stogi last night weasel way team android parti tonight success sxsw',\n",
              " 'put ipad idiot smcomedyfyeah sxsw',\n",
              " 'sxsw folk look ipad pop appl store still stock colleagu pick one protip',\n",
              " 'contest juan win last mention commut case iphon gift card left cbatsxsw sxsw',\n",
              " 'someon start austin mention group googl group pre sxsw great idea',\n",
              " 'mention guy kawasaki former appl evangelist wanw sxsw',\n",
              " 'kind funni sad ipad releas line longer parti line saw sxsw last night sheepl',\n",
              " 'rt mention sxsw forget come privacybootcamp startup mention mention mention aclu acc abc',\n",
              " 'stuck inthat long line appl store come check us next block across driskil appl sxsw wam',\n",
              " 'record sxsw experi iphon link',\n",
              " 'radio look new band radio show listen link link nowplay newmus sxsw pl rt',\n",
              " 'rt find hottest spot mention w mention hot spot sxsw app wp link iphon link',\n",
              " 'hello gigant line outsid googl v bing seo session sxsw sxswi',\n",
              " 'mention hey line sxsw appl',\n",
              " 'listen offici sxsw mixtap link',\n",
              " 'gsd amp googl sit tree link sxsw gsdm',\n",
              " 'rt mention line sxsw appl pop store',\n",
              " 'softlay blog softlay sxsw server challeng video link tri yet ipad could',\n",
              " 'success blah panel found open outlet charg old ipad sxsw fb',\n",
              " 'googl launch major new social network call circl possibl today updat sxsw link',\n",
              " 'look forward hear googl mention present today sxsw',\n",
              " 'mention quot omg gonna miss panel sxsw stand line panel play new ipad worth poni quot',\n",
              " 'interview w marissa mayer sxsw googl work larri differ work eric link',\n",
              " 'wow shakespear pub th st delet button iphon video camera sxsw',\n",
              " 'sxsw pepsi max market street team shown popup appl store line hand drink amp tshirt link',\n",
              " 'rt mention hire market design creativ social media pro come see aquent booth sxsw trade show might win ipad',\n",
              " 'mention sxsw folk pretti kool aid drink bunch think android tablet hardcor linux nerd let know',\n",
              " 'rt mention sxsw line outsid appl pop store sixth amp congress',\n",
              " 'geniu move appl open temp store downtown austin sxsw link via mention ipad',\n",
              " 'rt mention blogger due updat googl take action showcas new design sxsw link',\n",
              " 'shout ladi hold ipad free sxsw show take photo sip free beer cc mention',\n",
              " 'rt mention sxsw meet author host android dev sat pm hilton room ab',\n",
              " 'marissa mayer googl map better custom servic quicker respons sxsw fh',\n",
              " 'rt mention listen mention discuss new interact paradigm design ipad uxd sxsw',\n",
              " 'sure link doubl rainbow kind day right googl sxsw',\n",
              " 'mention head austin sxsw mention austin guid iphon free limit time link lp travel',\n",
              " 'mention recount batshit insan doubl quot creativ quot ensur quot suck quot googl michael room groupon sxsw',\n",
              " 'midday iphon mid batteri outlet block immobil booth serv purpos taunt sxsw link',\n",
              " 'sxsw macallan formula success day sxsw good session ipad glass macallan singl malt link',\n",
              " 'rt mention sxsw appl school market expert link via mention sxsw appl market',\n",
              " 'hey mention roll tractor trailer full ipad sxsw bet would sell entir inventori justsay',\n",
              " 'shock see googl showcas blogger sxsw thought complet forgot servic',\n",
              " 'anyon attend googl amp aclu parti mention sxsw could plz pictur thank sxsw',\n",
              " 'wait line ipad said may left cross finger sxsw',\n",
              " 'rt mention time sxsw mention nfc enabl googl place door sticker link',\n",
              " 'rt mention ipad thing addit place print mention cut sxsw b newsapp panel',\n",
              " 'rt mention sxsw conf everi peopl mac ipad includ happen pc becom obsolet',\n",
              " 'david carr nyt austin give drunken interview cnn want app transport around nyc sit ipad sxsw',\n",
              " 'damn appl know like even begin appl win sxsw link via mention sxsw',\n",
              " 'go without say googl bread go amaz sxsw googlebread',\n",
              " 'sxsw tradeshow floor engag w multi touch interact wall take part augment realiti enter win ipad',\n",
              " 'everi outlet bar iphon charger sxsw mention driskil hotel bar w other pic link',\n",
              " 'googl save user year time gp navig use altern rout w traffic sxsw',\n",
              " 'rt mention get hot latest version whrrl avail today android iphon blackberri whrrl blackberri sxsw',\n",
              " 'peopl think rumor quot social network quot program googl call circl late game sxsw',\n",
              " 'popup store de gadget da appl sxsw link',\n",
              " 'link tc googl sxsw marissa mayer googl map usag mobil million link',\n",
              " 'rt mention googl art project like street view except art museum around world incl billion pixel imag starri night dang sxsw',\n",
              " 'g sketchi austin sxsw yet mention still work iphon know sure need love',\n",
              " 'hootsuit mobil sxsw updat iphon blackberri amp android link',\n",
              " 'offici peopl use ipad take photo look weird sxsw',\n",
              " 'ipad left appl store sxsw anyon know',\n",
              " 'great blog latest news sxsw like open appl store link sxsw mention',\n",
              " 'rt mention shut rt mention rumor appl open temp store downtown austin sxsw amp ipad launch link',\n",
              " 'flipboard next platform iphon ceo mention say sxsw',\n",
              " 'wanna quot chines dude bff bring effen iphon charger sxsw',\n",
              " 'interest rt mention appl open pop shop sxsw link sxsw sxswi popupshop appl',\n",
              " 'check link cool geo locat app iphon mix music parti sxsw map go next year',\n",
              " 'mention iphon price point make even explos carrier work plan sxsw bolinsxsw',\n",
              " 'rt mention googl launch major new social network call circl possibl today sxsw link',\n",
              " 'rt mention appl set temporari austin store serv hord ipad purchas sxsw link',\n",
              " 'kinda giddi theindustryparti googl amp gsdm final fun come us non swsurrog sxsw notpout',\n",
              " 'reason keep parakeet employ link keep track ladi sxsw link mention',\n",
              " 'appl popup store sxsw mention appl store sxsw link photo',\n",
              " 'wonder googl place hotpot impact usag thing like yelp marissagoogl sxsw',\n",
              " 'rt mention sxsw quot day ipad interfac design quot relat discover quot ipad digit',\n",
              " 'googl doodl aim bring peopl togeth social promot commun experi sxsw googledoodl',\n",
              " 'play quot peopl peopl quot googl sxsw parti depech mode ftw',\n",
              " 'rt mention awesom free iphon app keep track friend meet find peopl sxsw link',\n",
              " 'rt mention rt mention tweet regist exclus pass event parti ipad sxsw liberti free sxswpass',\n",
              " 'googl circl new social network platform link new facebook sxsw',\n",
              " 'lot googl effort help japan mani global issu rt mention rt mention wtf w peopl sxsw',\n",
              " 'line googl bing pagerank session crazi sxsw',\n",
              " 'port everyth new ipad head sxsw sunday sync k song take appl',\n",
              " 'attend tv new media formula success sxsw see lot ipad around',\n",
              " 'arriv earli get prime seat present googl marissa mayer sxsw kek',\n",
              " 'mention know lightbox android app sxsw hhr',\n",
              " 'googl launch major new social network call circl possibl today mention link via mention sxsw screenfutur',\n",
              " 'walk past suppos appl sxsw temp store downstair mention appl cult outsid take photo iphon',\n",
              " 'googl launch secret new social network call quot circl quot sxsw',\n",
              " 'night end firesid pictionari w ipad sxsw werdork',\n",
              " 'sound like buzz rebrand w inner circl rt mention googl launch new social network quot circl quot link sxsw',\n",
              " 'googl launch major new social network call circl possibl today link sxsw quot',\n",
              " 'droid surpris rt mention spot sxsw tabl three peopl phone ipad macbook gadgetoverload',\n",
              " 'tomorrow go back appl store sigh sxsw',\n",
              " 'rt mention media circu guy walk appl popup store sxsw st ipad austin th amp congress link',\n",
              " 'googl launch major new social network call circl possibl today sxsw link sxsw nfusion',\n",
              " 'rt mention happi woman day make love fuss link edchat musedchat sxsw sxswi classic newtwitt',\n",
              " 'googl launch major new social network call circl possibl today link sxsw pakistan cwc',\n",
              " 'rt mention ipad take sxsw video mention link',\n",
              " 'get badg find food drink figur mention iphon roam sxsw unpack prioriti',\n",
              " 'rt mention parti android mention sxsw mention lustr pearl link',\n",
              " 'rt mention sxsw ipad store sold everyth except gig wifi white',\n",
              " 'rt mention love mention sxsw quot appl come cool technolog one ever heard go confer quot',\n",
              " 'mention quot googl tweet quot new quot think speak quot mark belinski tweet panel sxsw',\n",
              " 'interest tidbit appl design ipad case design actual devic sxsw',\n",
              " 'rt mention notatsxsw sxsw link free download meet nearbi pep',\n",
              " 'look cool new iphon twitter app track action sxsw week check link tweetignit',\n",
              " 'rt mention googl marissa mayer quot mobil phone cursor connect physic digit world quot sxsw',\n",
              " 'give ad valu locat base servic need battl check fatigu googl pnid sxsw',\n",
              " 'googl reveal new social network call circl googl facebook twitter sxsw link via mention',\n",
              " 'buy new ipad mention geekdat appl sxsw ipad',\n",
              " 'appl open popup shop sxsw link via mention brand valu design innov',\n",
              " 'ipad rival stack link bnet biz ipad appl sxsw ipad tablet xoom tech laptop pic sale',\n",
              " 'someon austin let borrow iphon charger short time heart long time sxsw',\n",
              " 'rt mention googl quot product gatekeep quot marissa mayer locat base quot fast fun futur quot link ht mention sxsw',\n",
              " 'per rumor googl may preview big social strategi theme costum parti sxsw yep link cnet',\n",
              " 'instagram photo iamtimbak googl sxsw parti mention link',\n",
              " 'check q amp googl amp bing websit rank sxsw qagb',\n",
              " 'rt mention gear make splash mention launch quot groupon live social type quot reward sxsw link',\n",
              " 'even secur guard popup appl store austin love new ipad sxsw link',\n",
              " 'epic one guy wait line ipad austin sxsw link sxsw ipad ipad',\n",
              " 'final pictur rt mention appl open pop shop sxsw report link sxsw',\n",
              " 'mention seem hold well surprisingli big event sxsw lxh googl',\n",
              " 'look forward delici mobil g austin iphon user struggl anyth sxsw',\n",
              " 'sxsw anyon need iphon cabl extra tweet',\n",
              " 'one lone dude await ipad appl sxsw store link appl ipad sxsw tablet',\n",
              " 'use question answer ask receiv kind model ipad app design give take entic ask mention tapworthi sxsw',\n",
              " 'skore gt mention heard appl pop store downtown austin pic alreadi gowalla link sxsw ipad',\n",
              " 'via mention sxsw googl bing smackdown bloodi banal link',\n",
              " 'nd place fandango karaok st prize yr fandango tkt useless canada nd prize use ipad sxsw',\n",
              " 'line crazi long sxsw appl store ipad',\n",
              " 'art ipad view daili sxsw free coffe idevic recharg mention austin detail link',\n",
              " 'mashabl talk line taker mani spent better part ipad sxsw gadget link',\n",
              " 'head sxsw hear talk integr social network dynam team synergi got ipad readi go',\n",
              " 'love googl said quot want know quot sxsw',\n",
              " 'appl congress nice rt mention appl set open popup shop core sxsw action link sxsw appl',\n",
              " 'rt mention googl launch new social network circl link u close peep u connect w possibl today mention sxsw',\n",
              " 'startup talk captiv audienc appl store line smart idea sxsw',\n",
              " 'ever seen someon pay guy wait line appl devic yeah lame sxsw',\n",
              " 'rt mention googl marissa mayer demo ing quot contextu discoveri quot use histori time search refin result sxsw',\n",
              " 'wonder mani sold sxsw ipad sold went new buyer report link',\n",
              " 'ipad unload sxsw popup store awesom link',\n",
              " 'hey sxsw exhibitor captur booth experi retrollect disc popular disc win ipad link',\n",
              " 'speak sxsw appl store th congress great perman',\n",
              " 'say pretti smart time appl drop ipad right top sxsw nearli anyon talk',\n",
              " 'appl open temporari store downtown austin march accommod sxsw attende god fuck smart',\n",
              " 'ha rt mention mention sxsw quot appl come cool technolog one ever heard go confer quot',\n",
              " 'appl open pop shop sxsw link lt cool concept spend sxsw wait ipad',\n",
              " 'pretti excit appl pop store come sxsw link',\n",
              " 'tri convinc mention watch launch googl social network sxsw know go comedi',\n",
              " 'rt mention next sxsw head design ipad app babi boomer wish app yet tg',\n",
              " 'googledoodl sxsw googl doodl simpl surfac complex intric underneath',\n",
              " 'hour later retreat back hotel bushwhack ringo deathstarr never seen mani effect pedal sxsw link',\n",
              " 'need sxsw ipad iphon laptop dictaphon vid camera wow love meet real cerebellum charg peopl',\n",
              " 'egad guy get ahold seem like lot men ballroomd crush mention realli googl sxsw',\n",
              " 'rt mention ipad design headach josh clark tapworthi sxsw link',\n",
              " 'rt mention quot appl come cool technolog one ever heard go confer quot sxsw pseudoretweet',\n",
              " 'rt mention kawasaki quot pagemak save appl quot oh day sxsw jwtatl enchant',\n",
              " 'googl hotpot new app let peopl rate guess logic busi progress marissagoogl sxsw',\n",
              " 'marissamey googl go abl get content back sure heard right sxsw',\n",
              " 'qrafter better paid free qr code app scan vcard also download qrcode iphon sxsw',\n",
              " 'todo mention q amp googl mention amp bing mention rank sxsw mon pm link',\n",
              " 'wonder get kick sxsw iphon ipod ipad ianyth',\n",
              " 'mention fyi past u op met citeren quot mention googl launch product sxsw link',\n",
              " 'comput droid rt mention agnerd confess use laptop ipad blackberri follow sxsw afar see agchat',\n",
              " 'may man sxsw without iphon',\n",
              " 'tweet sxsw pretti non exist today thank mention iphon app fail hootsuit epic replac owllov',\n",
              " 'mention bahrain govt turn googl earth result peopl learn govt turn back sxsw',\n",
              " 'switch offic ipad next session flipboard gamechang pass fad mention like one sxsw',\n",
              " 'rt mention sxsw tip day turn iphon screen bright way conservebatterylif peac mention',\n",
              " 'improv websit rank advic googl bing sxsw poynter link',\n",
              " 'mention thought point ipad carri around sxsw',\n",
              " 'believ went aussi sxsw rt mention ipad sold went new buyer report link',\n",
              " 'ok come build custom map googl map night sxsw organ parti itinerari product',\n",
              " 'awesom meet mention mention mention stand appl queue sxsw yesterday day',\n",
              " 'iphon ipad mac oh agchat sxsw',\n",
              " 'amp give away amaz prize iphon android kindl tablet amaz happen sheraton sxsw',\n",
              " 'goal day knock govern talk instal android sdk amp pray sencha phonegap workshop android sxsw',\n",
              " 'sxsw knew would happen ipad launch actual realli funni irl link',\n",
              " 'arriv us wednesday sxsw look microsim use data iphon anyon know option',\n",
              " 'user drive b mile year googl map navig jr sxsw',\n",
              " 'rt mention best thing heard wknd sxsw quot gave ipad japan relief need ipad quot mention mention',\n",
              " 'line around block sxsw pop appl store mention appl store sxsw link photo',\n",
              " 'follow bing googl seo session qagb sxsw buddi mention seo',\n",
              " 'free track itun sxsw featur artist link via mention',\n",
              " 'sweet siren call gsdm googl parti start downstair wrap sxsw work desk help obi wan hope',\n",
              " 'check q amp googl amp bing websit rank sxsw qagb raidsxsw',\n",
              " 'dispatch ipad front line link aspengrov aspengrov austin line sxsw tx',\n",
              " 'rt mention mention spread word sxsw festiv explor app live free link',\n",
              " 'rt mention rumor appl open temporari store downtown austin sxsw ipad l link',\n",
              " 'sxsw interact googl mobil futur elus power link via mention',\n",
              " 'rt mention sxsw free app festiv explor help find band want see base music tast link',\n",
              " 'rt mention cnnmoney sxsw comput devic bigger ipad pass mobil space buzz link wssxsw',\n",
              " 'appl geniu pun intend check sxsw link',\n",
              " 'may still rt mention new post busi card dead send card via hashabl sxsw link',\n",
              " 'austin pal mention lost phone pleas help rt mention left white iphon g cab austin sxsw internet pleas help',\n",
              " 'rt mention appl set open popup shop core sxsw action link ipad ground',\n",
              " 'sxsw slide gruber keep desk appl extend keyboard discontinu loud feel like write better',\n",
              " 'great idea behind circl rt mention amp mention googl launch secret new social network call circl link sxsw',\n",
              " 'ooooo appl rumor open temporari store sxsw link',\n",
              " 'virtualwallet sxsw paypal get physic good cut appl get softwar virtual good',\n",
              " 'ipad take sxsw video mention link',\n",
              " 'googl throw may last stop night sxsw',\n",
              " 'googl smentisc novit arrivo rt mention launch product sxsw plenti els link',\n",
              " 'start think blackberri like abacu phone damn u iphon sxsw want abacu',\n",
              " 'print gt tablet gt web tablet need bridg gap touchingstori sxsw ipad',\n",
              " 'failur googl buzz googl latitud googl circl serious googl need concentr search fail googl sxsw',\n",
              " 'best thing abt mention sxsw sherri patio amp plenti free park min n quot mess quot link',\n",
              " 'nut rt mention ipad hand awesom dude gave cutsi hour line austin appl sxsw win',\n",
              " 'mention best thing heard sxsw quot gave ipad money japan relief need ipad mention mention sxswgood',\n",
              " 'rt mention look forward smcdalla pre sxsw parti wed hope win ipad result shameless promot chevysmc',\n",
              " 'see new texa observ ipad app sxswi sheraton sxsw',\n",
              " 'ipad design headach interfac metaphor look like book make behav like book simpl stuff often forgotten sxsw',\n",
              " 'compani embrac nfc today googl nfc window decal amp nexu nokia willinclud smartphon sxsw mcommerc',\n",
              " 'awesom rt mention sxsw mention come check mention get free custom iphon case mention grill',\n",
              " 'buy ipad turn ur ipad appl store wipe clean donat school mr job idea appl ipad sxsw',\n",
              " 'day bank america launch iphon app got k new custom bankinnov sxsw',\n",
              " 'saw giant line thought movi premier appl store ipad heard scream premier sxsw',\n",
              " 'grate twitterstream mostli full empathi concern event ipad sxsw',\n",
              " 'nice peopl go sxsw fun check twit twig mention mention mention android podcast',\n",
              " 'comprando mi ipad en el sxsw mention appl store sxsw w other link',\n",
              " 'soni area buffalo billard tweet googl tv sxsw',\n",
              " 'mention iphon get sxsw go app',\n",
              " 'put word quot food quot googl map search phone yeah sxsw',\n",
              " 'sxsw ad schedul android sxsw go app handi',\n",
              " 'sxswnui sxsw laptop denot work ipad denot fun',\n",
              " 'akqa hire find front design ipad interfac new navig schema ballroom sxsw',\n",
              " 'dens una vuelta por socialfuel sxsw para ver la gran diferencia rt mention quot revolut clumsili translat googl quot',\n",
              " 'rt mention get free coverag sxsw app know austin get best cellular data connect sxsw link',\n",
              " 'mention bigger iphon smaller pc good big event like sxsw meeti link',\n",
              " 'sxsw csr report janecek microsoft give chariti appl give noth everyon room iphon drive decis',\n",
              " 'mention wifi android geek nearbi sxsw pleas tri share frostwir link issu updat',\n",
              " 'go sxsw sign filmast iphon app code quot sxsw quot get cool shirt site link',\n",
              " 'augment realiti pah mayer googl call quot contextu discoveri quot search without search user permiss sxsw',\n",
              " 'wonder fit ipad luggag pack austin hmmm sxsw',\n",
              " 'rt mention import make sure donat japanes red cross japan link sxsw quak',\n",
              " 'ok sxsw garag band ipad notic stun sxsw',\n",
              " 'retail head sxsw month check mention googl sxsw twitter presenc sxsw',\n",
              " 'rt mention anoth great spreadsheet sxsw parti link',\n",
              " 'lightbox photo want new android camera app sxsw techcrunch link sxsw android',\n",
              " 'mention mention industri parti present gsdm amp googl austin tx sxsw',\n",
              " 'rt mention enjoy sxsw california hollywood silicon valley meet nyc sunni austin pool cowboy boot ipad vibe sxswi',\n",
              " 'mention amp mention becom competitor mention start realiz checkin cool sxsw sxswi',\n",
              " 'bad button rt mention know sxsw time abnorm amount app updat iphon',\n",
              " 'aapl alreadi big winner sxsw link',\n",
              " 'miss googl vp search marissa mayer last week listen interview link sxsw',\n",
              " 'rt mention appl intel genentech atari cisco quot someth ventur quot trace risk taker wrote check link sxsw',\n",
              " 'rt mention happi exist go tri whole sxsw trip w laptop iphon amp ipad link',\n",
              " 'attend design ipad interfac new navig schema akqa lynn teo ballroom ye hire sxsw',\n",
              " 'alway use camera iphon b c imag stabil mode suggest ipad cam app w featur sxsw sxswi',\n",
              " 'rt mention free itun sxsw link take mention itun store link',\n",
              " 'rt mention rt mention googl launch major new social network call circl possibl today mention sxsw link via mentionw',\n",
              " 'mention rt mention gari start new show quot daili grape quot iphon mention thankyouecon sxsw',\n",
              " 'accord marissa mayer googl map usag mobil sxsw',\n",
              " 'youtub second largest search engin global googl say mention discotalk sxsw',\n",
              " 'rt mention rt mention new ubersoci iphon app store includ uberguid sxsw sponsor mashabl cont link',\n",
              " 'rt mention order ipad excit sxsw seem silli happen japan right',\n",
              " 'googl map search mobil sxsw mention acc ballroom w other link',\n",
              " 'k view rt mention appl secur guy lock store sxsw link',\n",
              " 'rt mention use googl map mobil marissa mayer sxsw lt use time suxsw',\n",
              " 'mention danger iphon app sxsw link',\n",
              " 'rt mention sxsw bound keep eye may give away mention iphon case atx land',\n",
              " 'rt mention appl open pop store sxsw releas ipad quit scene geek power link',\n",
              " 'quot googl bing q amp panel like world expens seo consult quot mention sxsw',\n",
              " 'rt mention met three girl appl itun connect team mention iphon develop meetup got talk would chang itc sxsw',\n",
              " 'set pop shop mention sxsw smartest move ipad imho develop matter ipad link',\n",
              " 'quot mention sxsw googl launch major new social network call circl possibl today mention link via mention',\n",
              " 'ok interest rt mention googl launch major new social network call circl possibl today link sxsw',\n",
              " 'look forward iphon android design session sxsw wait drink give away stuff get paid',\n",
              " 'best thing abt mention sxsw bad ass brunch w patio amp plenti free park min n quot mess quot link',\n",
              " 'rt mention come singapor roar parti th street link sgroar sxswi sxsw',\n",
              " 'friend come austin sxsw link austin sxsw',\n",
              " 'credit card compani know year like get divorc mention googl sxsw urbanmyth',\n",
              " 'googl search local inform googl tri fill need place hotpot servic sxsw',\n",
              " 'googl view final end rather tool point user sourc make decis marissagoogl sxsw',\n",
              " 'got ipad gave red cross japan first day sxsw',\n",
              " 'brain zombi like content googl quot content rule quot mention sxsw',\n",
              " 'think someon make lot money week iphon intern roam charg sxsw',\n",
              " 'mention expect engag ipad visual social delv experi sxsw sxfl',\n",
              " 'good peopl mention cover ipad launch live appl pop store austin sxsw link',\n",
              " 'rt mention good morn sxsw r u talk abt twitter accord mention mention ipad design geogam design headach',\n",
              " 'mission failur dri roast beef sandwich soggi tomato oh well sat chevi loung charg iphon power mat sxsw',\n",
              " 'sxsw q android webkit lag safari webkit mention want acceler pervas browserwar',\n",
              " 'rt mention rumor appl open temporari store dt austin sxsw amp ipad launch link',\n",
              " 'mention upsid sxsw start today ipad releas',\n",
              " 'audioboo american dream bust link ipad sxsw bum begger us socialart document',\n",
              " 'rt mention mention put gun mention head give iphon sxsw link',\n",
              " 'brutal question serv marissa mayer jc penney map get rerout maci uncomfort mention sxsw',\n",
              " 'score sign print jule vern googl doodl thank mention sxsw googledoodl link',\n",
              " 'nfc technolog googl test use sticker store window tap get info sxsw',\n",
              " 'rt mention interest rt mention mention launch major new social network call circl possibl today link sxsw',\n",
              " 'sxsw potenti breakout gadget app amp appl ipad pop store festiv begin tomorrow link',\n",
              " 'hmmm rt mention rt mention googl launch major new social network call circl possibl today link sxsw',\n",
              " 'rt mention set pop shop mention sxsw smartest move ipad imho develop matter ipad link',\n",
              " 'anyon know appl store sxsw still ipad like run today',\n",
              " 'hey austin know littl iphon android love music amp wanna make hour sxsw pleas let know',\n",
              " 'bought ipad yet go sxsw check appl pop store link',\n",
              " 'winner rt mention awesom got ipad sxsw link via mention mention',\n",
              " 'want line unconfirm appl pop store ipad sxsw',\n",
              " 'pick backup iphon batteri charger airport also got pair shoe yesterday hello sxsw',\n",
              " 'sxsw applestor mention appl store sxsw link',\n",
              " 'mention make feel better googl wannab fanboi act like giggl schoolgirl front marissa mayer day sxsw',\n",
              " 'head austin sxsw wkend love mention set pop store th amp congress deal mass geek influx ipad releas',\n",
              " 'rt mention appl secur guy lock store sxsw link',\n",
              " 'quot appl like pay appl like quot barri diller sxsw mention acc ballroom pic link',\n",
              " 'rt mention mention sxsw appl open pop store austin sxsw link',\n",
              " 'look forward learn ipad design sxsw',\n",
              " 'lie chanc watch peopl actual use ipad sxsw make want one',\n",
              " 'rt mention rumor appl open temporari store downtown austin sxsw ipad launch link hardcor',\n",
              " 'mention near zen guadalup pm trailer space night play iphon mauric friend mention sxsw',\n",
              " 'detail ipad giveaway come tonight rt sxsw sxswi',\n",
              " 'go game launch iphon scaveng hunt link via mention mention li fb sxsw',\n",
              " 'tomlinson tx observ say appl subscript data hold biggest impedi success newsapp sxsw',\n",
              " 'rt mention abl afford attend sxsw buy ipad today consid save cont link',\n",
              " 'rt mention surviv sxsw mention live music app iphon android link',\n",
              " 'brandnew googl tri social network time circl launch mention sxsw perhap wha cont link',\n",
              " 'biggest mistak sinc south southwest last year writin book bout iphon photographi instead makin photographi iphon app sxsw',\n",
              " 'iphon ipad feel unequip compar everyon els dang sxsw',\n",
              " 'rt mention rt mention interrupt regularli schedul sxsw geek program big news link googl circl',\n",
              " 'mention think may coin new term quot apptrophi quot happen unus iphon app disus apptrophi sxsw',\n",
              " 'quot start googl doc crowdsourc arab voic egyptian world took shift help translat quot mention arabspr sxsw',\n",
              " 'rt globalbestaward holler gram ipad itun store link via mention sxsw ster great app madebymani',\n",
              " 'aol mobil launch play android app link via mention sxsw',\n",
              " 'googl launch new social network call circl south southwest today link sxsw circl googl',\n",
              " 'got given free portabl iphon charger sweet thx powermat sxsw',\n",
              " 'lone planet releas free austin citi guid iphon app sxsw like enough app clutter handset',\n",
              " 'sxsw ux ipad uxd rememb ultim awar audienc app target toward unexpect experi good',\n",
              " 'rt mention internet blur link ipad fade link mention sxsw',\n",
              " 'appl open temporari store downtown austin sxsw amp ipad launch link sourc statesman com',\n",
              " 'celebr beauti web mention msft ie launch amp play new html game win ipad link sxsw',\n",
              " 'ux uxd talk realli explor wild wild west ipad design sxsw',\n",
              " 'yen rt mention import make sure donat japanes red cross link sxswcare sxsw quak',\n",
              " 'long line ginger man bathroom save sxsw pop appl store close right midnight walk',\n",
              " 'even begin appl win sxsw past week major dilemma link',\n",
              " 'rt mention rumor appl open temporari store downtown austin sxsw amp ipad launch link',\n",
              " 'iphon rt mention find one gadget go bag sxsw link',\n",
              " 'peopl listen googl sxsw mention link',\n",
              " 'iphon app peopl use sxsw schedul mention awesom app flummox',\n",
              " 'mention one shirt say win rofl angrybird iphon ipad sxsw',\n",
              " 'technolog googl launch new social network sxsw report claim googl might use sxsw event link tech',\n",
              " 'nice rt mention knit staircas attend sxsw parti tomo pm host mention amp mention link',\n",
              " 'googl incap disrupt innov acquir startup last year mention leanstartup sxsw',\n",
              " 'rt mention rt mention gear make splash mention launch quot groupon live social type quot reward sxsw link',\n",
              " 'appl two austin store week downtown presenc chang sxsw popup store link mention',\n",
              " 'rt mention rt mention googl launch major new social network call circl possibl today link sxsw mention',\n",
              " 'rt mention interrupt regularli schedul sxsw geek program big news link googl circl',\n",
              " 'rt mention oooorkut rt mention rt mention googl launch major new social network call circl possibl today link sxsw',\n",
              " 'curiou know dev think ref iphon vs android develop sxsw buzz still seem favour iphon year',\n",
              " 'pack hous sxsw session quot q amp w googl amp bing websit rank quot w mention mention hilton salon j link',\n",
              " 'rt mention win soni xperia play android phone sxsw tuesday detail link',\n",
              " 'also limit abil balanc rt mention mention ipad cheaper laptop newsapp sxsw',\n",
              " 'hey sxsw peep go hang w burner link burn b q pan american park pm link cc mention',\n",
              " 'percept googl street view big brother tri transpar data give user control mention sxsw',\n",
              " 'googl hotpot demo sxsw seem whole lot like yelp innov left outa game show heat map link',\n",
              " 'first talk day ipad design headach sxsw',\n",
              " 'think googl circl effect crop circl sxsw randomli',\n",
              " 'san jose austin surround appl googl peep everi tech nerd dream time turn charm find new bff sxsw',\n",
              " 'rt mention feel like iphon alway alway someth run batteri fast sxsw',\n",
              " 'whoa dude front use googl wave sxsw xplat',\n",
              " 'success sxsw trip learn ton lot new insight knowledg new read list playlist wrote amp submit new iphon app',\n",
              " 'mention set team android event sxsw',\n",
              " 'rt mention longest line sxsw appl store cours link',\n",
              " 'rt mention mention spill bean next platform flipboard iphon team start work sxflip sxsw sxswi',\n",
              " 'pretti content nat geo pretti articl ipad cooler twitter list current arctic explor flipboard sxsw',\n",
              " 'rt mention rumor appl open temp store downtown austin sxsw amp ipad launch link',\n",
              " 'mention mean percentag io vs android vs blackberri etc sxsw mention',\n",
              " 'awesom rt mention appl temporari megastor sxsw could model futur confer event link',\n",
              " 'rt mention ipad sold retail store except sxsw pop store austin igottagetit',\n",
              " 'quot one say appl drupal tribe know peopl care children amp power quot mention dgtltribe sxsw',\n",
              " 'like googl googl rt mention giggl someon check today gowalla sxsw sxswi',\n",
              " 'quot appl eleg fascist corpor america today quot kara swisher sxsw flipboard',\n",
              " 'mention interview mention sxsw far cat total agre ur comm appl brand love word',\n",
              " 'appl store get anoth mention link rt mention sxsw downtown austin appl store congress amp west th street',\n",
              " 'googl search local inform mayer sxsw',\n",
              " 'kick style mention parti mention mention sxsw link link',\n",
              " 'quot foosspot quot ap iphon look pretti good food guid sxsw use later',\n",
              " 'wait mention trollfoot appear sxsw appl store c mon',\n",
              " 'rt mention guy couch play white ipad mashbash parti around make statement dammit sxsw',\n",
              " 'queue appl store austin four block long crazi stuff sxsw',\n",
              " 'quot googl tweet quot new quot think speak quot mark belinski tweet panel sxsw',\n",
              " 'bu leav googl parti head power plant parti w ave sxsw',\n",
              " 'quot brain zombi content googl get enough quot sxsw contentrul',\n",
              " 'rt mention within hour buy ipad glenda watson hyatt cerebr palsi abl commun stranger public sxsw poursit',\n",
              " 'fret iphon owner appl open temporari store sxsw link via mention',\n",
              " 'post sxsw make jealou btw sxsw auto correct ass ipad joke check',\n",
              " 'good work mention mention check latest stream appl store sxsw link ipad come playsxsw',\n",
              " 'theophilu london mix parti iphon swag sxsw',\n",
              " 'sound like job sxsw detail new bomb iphon app would love earli ado link',\n",
              " 'ipad line half block sxsw popup store link',\n",
              " 'appl pop shop lavaca th sxsw ye line wrap around block mention appl store sxsw link',\n",
              " 'lynn teo new nav schema ipad link sxsw uxd',\n",
              " 'hear marissa mayer googl speak row back cool sxsw googl',\n",
              " 'heard android app bizzi challeng tdg check sxsw read link',\n",
              " 'rt mention mention work mention creat open sourc fill gap need locat base applic use nosql db model sxsw',\n",
              " 'googl launch secret new social network call quot circl quot link sxsw',\n",
              " 'rt mention hashabl rock mention sxsw new quot cloud quot busi card iphon android',\n",
              " 'line popup appl store th amp congress still block long sxsw',\n",
              " 'rt mention mention appl great exampl retail store lay futur regist checkout line sxsw',\n",
              " 'avoid long line amp jam pack parti sxsw hurrican parti new iphon app link smm geo market',\n",
              " 'mention parti good colleg parti feel sxsw',\n",
              " 'love appl pop store sxsw freak smart one question amp bring truck signal pleas say ye',\n",
              " 'new sq look like go rock updat iphon android push tonight link sxsw keepaustinweird',\n",
              " 'fantastico rt mention marissa mayer googl connect digit amp physic world mobil link sxsw',\n",
              " 'rt mention nfb film app android avail download link link time sxsw',\n",
              " 'marissa mayer present sxsw demo googl map version mobil pretti impress',\n",
              " 'anoth hard call morn design ipad read write genet code go latter sxsw',\n",
              " 'industri parti gsdm googl grand affair sxsw',\n",
              " 'iphon blackberri amp android hootsuit app updat sxsw link via hootsuit',\n",
              " 'mention peter cashmor ipad minor improv worth unless money burn sxsw',\n",
              " 'mashabl ipad take sxsw video ipad sxsw gadget link link',\n",
              " 'rt mention someon go ask bing copi googl search result qagb sxsw seo',\n",
              " 'join link friend ur citi mention end sxsw win ipad c mon mention help mention chng world',\n",
              " 'rt mention co founder googl teacher academi bring hs student austin show use tech link sxsw educ',\n",
              " 'sxsw appl school market expert link sxsw essdub',\n",
              " 'ye rt mention lol u r gadgetzilla fun mention sxsw festiv time omg scare got netbook ipad amp droid',\n",
              " 'interview mike mccue co founder flipboard ipad user tune link smc sxsw',\n",
              " 'new post iphon app use south southwest interact sxsw sxswi link',\n",
              " 'mention lol sxsw appl pop store ipad fli shelv hipster feed frenzi',\n",
              " 'rt mention bump mention austin sxswi accelerat link tech sxsw',\n",
              " 'rt mention hey sxsw offer ya link',\n",
              " 'display tonit link gsdm googl industri parti link sxsw',\n",
              " 'mention tell sxsw friend send ireport today even fun photo use cnn app upload iphon',\n",
              " 'anoth great panel pm hilton austin mention nik daftari left brain search googl right brain search x sxsw',\n",
              " 'tonight mention check kill mention check gsd amp googl parti come say hi sxsw sxswi music',\n",
              " 'googl test check offer sxsw link via mention googl sxsw app',\n",
              " 'monday night sxsw sxswbuffalo win ipad link',\n",
              " 'build quot sprout quot new googl map mobil sxsw',\n",
              " 'mention googl circl rumour mention say launch product sxsw',\n",
              " 'iphon dead find secret batphon sxsw',\n",
              " 'rt mention woohoo rt mention go game launch iphon scaveng hunt link via mention see sxsw',\n",
              " 'airport delay sxsw introduc mention catphys feel like drug pusher first ipad play free',\n",
              " 'collect valu user use softwar amp hardwar amazon googl sxsw timoreilli',\n",
              " 'whoa rt mention googl launch major new social network call circl possibl today link sxsw',\n",
              " 'rt mention marissa mayer googl connect digit amp physic world mobil link sxsw',\n",
              " 'heck googl map use browser geo locat miss somehow use chrome mention sxsw startupbu',\n",
              " 'free music sampler sxsw link itun',\n",
              " 'what name song link imthetyp ipad imthetyp sxsw',\n",
              " 'free itun store track sxsw featur artist link grab gone thank appl',\n",
              " 'sweet appl open pop shop scarbrough build congress ipad link via mention sxsw',\n",
              " 'ye hate fanboy still valid tho wait ipad instead enjoy sxsw link via mention',\n",
              " 'woot rt mention mention spill bean next platform flipboard iphon team start work sxflip sxsw',\n",
              " 'rt mention mention mention appl set open popup shop core sxsw action link ipad',\n",
              " 'line ipad sxsw look bad wait hour iphon link',\n",
              " 'smart compani appl set open pop shop core sxsw action link appl',\n",
              " 'rt mention minut til mention sxsw parti free beer free maudi taco free ipad android tablet amp kindl giveaway bit ly aj',\n",
              " 'googl soll noch heut social network googl circl starten link sxsw via mention mention',\n",
              " 'appl pop store line final dwindl time check ipad sxsw',\n",
              " 'rt mention includ emot thing ipad barrydil sxsw pnid',\n",
              " 'lot drink amp draw googl sketchup parti sxsw',\n",
              " 'new iphon app mention call dailygrap replac winelibrari tv mobil content amp video help make wine choic sxsw',\n",
              " 'rt mention bore keynot sxsw use ipad draw pictur even good artist link sxswi',\n",
              " 'festiv explor austin edit help keep track sxsw band want see amp make recommend link fb sxsw',\n",
              " 'sxsw friend forget download sxswgo iphon ipad app link',\n",
              " 'appl hp pop sxsw set temp site link austin atx austinbusi',\n",
              " 'rt mention tip mention iphon user turn screen bright way conserv batteri power huge differ sxsw',\n",
              " 'new ubersoci iphon app store includ uberguid sxsw sponsor mashabl link appl',\n",
              " 'even begin appl win sxsw techcrunch link sxsw',\n",
              " 'appl open temporari store close sxsw sell ipad get influenc concept link mention',\n",
              " 'first stop sxsw mention amp mention hunt austin java get spi game chanc win ipad',\n",
              " 'matter time googleto launch social network may call googl circl link via mention sxsw',\n",
              " 'best session seen far sxsw morn music ixd design ipad interfac win',\n",
              " 'rt mention check free mention sampler itun link sxsw',\n",
              " 'rt mention mention mention check link sxsw googl',\n",
              " 'jealou see peopl ipad take photo iwantacameraonmyipad sxsw',\n",
              " 'think sucess mention googl possibl launch new social network sxsw link',\n",
              " 'rt mention quot mention appl classiest fascist compani america realli eleg quot sxsw rji',\n",
              " 'mention walk around sxsw stare iphon like everyon els ummmm ditto',\n",
              " 'got ipad courtesi random stranger street appl investor sxsw thank utter link',\n",
              " 'appar sxsw appl store line minut moment',\n",
              " 'rt mention calvin geek charli sheen goddess mention mention mention googl sxsw',\n",
              " 'jesu hockey mask wors thought sxsw mention appl store sxsw link',\n",
              " 'come visit milyoni booth right big googl sign sxsw link',\n",
              " 'rt mention quot explan appl continu surviv exist god quot guykawasaki sxsw',\n",
              " 'yet walk confer room look like appl ad think noth els sxsw',\n",
              " 'mention price discrimin android user contact doingsocialmediawrong sxsw',\n",
              " 'head link pm cst today win vip access acoust solo set sxsw tonight nokiaconnect',\n",
              " 'rt mention build custom android home screen sxsw sxswi stuff must have link',\n",
              " 'everyon buy ipad feel like dinosaur version blackberri pc sxsw like appl convent sxsw',\n",
              " 'mention thank share news mention thought news mention link sxsw',\n",
              " 'group text war heat fast societi launch new android app updat iphon app sxsw link',\n",
              " 'rt mention sxsw buy appleatxdt popup store anyth ipad',\n",
              " 'rt mention appl quot classiest fascist compani america quot kara swisher sxsw',\n",
              " 'chang mind need ipad infektd need wider screen detect zombi sxsw',\n",
              " 'still think awesom smileyparti sxsw go give ipad pleas',\n",
              " 'curiou googl surpris usag delet button gmail mobil app sxswdad sxsw',\n",
              " 'rt mention googl launch major new social network call circl possibl today link sxsw buzz lol',\n",
              " 'mobil mayhem rt mention hoot new blog post hootsuit mobil sxsw updat iphon blackberri amp android link',\n",
              " 'rt mention co founder googl teacher academi bring hs student austin show use tech sxsw educ',\n",
              " 'town sxsw sure check us use googl place foursquar kick ass deal foursquar googleplac',\n",
              " 'mention need appl popup store walk distanc sxsw',\n",
              " 'sxsw friend u iphon charger mention borrow tonight cc mention mention mention anniem maura',\n",
              " 'past minut ipad liter bump mention street think buy lotteri ticket sxsw',\n",
              " 'googl bing search smackdown panel giant room enough chair hope search quot floor sit quot sxsw',\n",
              " 'ask googl chrome team ie feeback anyth rais bar browser perform good thing tell ie fast sxsw',\n",
              " 'googl reportedli unveil new social network call circl like launch may link googlecircl googlem sxsw',\n",
              " 'love new ipad seem much faster fluid origin seem natur hold excit use sxsw week',\n",
              " 'head sole sxsw event aclu dotright googl parti',\n",
              " 'inoffici sxsw torrent avail link',\n",
              " 'rt mention hm need anoth rt mention googl launch major new social network call circl possibl today link sxsw',\n",
              " 'rt mention also function ipad mention sure lot ipad flight mention nerdsunit sxsw',\n",
              " 'rachael harri saw drive nut thank googl sxsw',\n",
              " 'new ubersoci iphon app store includ uberguid sxsw sponsor mashabl link',\n",
              " 'rt mention killer thought mention pay servic probabl sold ref googl tv ad etc sxsw psfk',\n",
              " 'new version googl map mobil pretti amaz vector base amp fast sxsw',\n",
              " 'new moos tracker googl discuss import locat mobil link sxsw',\n",
              " 'anybodi troubl download sxsw pak mention app iphon',\n",
              " 'pick quot mophi quot iphon charg case sxsw tradeshow doubt use time great long day',\n",
              " 'appl quot pop quot store sxsw event link via mention sxsw',\n",
              " 'line ipad mention mention sxsw',\n",
              " 'cours rt mention sxsw ipad store sold everyth except gig wifi white',\n",
              " 'appl popup store sxsw link gonnagetanipad',\n",
              " 'quot pop quot appl store pack sxsw',\n",
              " 'googl two main seo factor topic site author via mention sxsw',\n",
              " 'sxsw appl school market expert link via mention',\n",
              " 'rt mention sxsw ipad design headach take two tablet call morn link',\n",
              " 'mention googl analyt visit ipad iphon rank top way peopl access newsapp sxsw',\n",
              " 'mad alreadi downtown st day sxsw appl popup store seem brisk biz',\n",
              " 'u smart pack extra rt mention way sunni austin sxsw extra iphon stow case mention mention',\n",
              " 'mention someth call googl place hotpot work recommend engin sxsw',\n",
              " 'appl brought water ipad line sxsw',\n",
              " 'technew win sxsw hint answer everi year link tech news bill murray iphon sxsw tech',\n",
              " 'wow folk make sure iphon ringer turn way u pre sunris flight internalalarmclockftw sxsw',\n",
              " 'came school last thursday febuari link ipad sxsw',\n",
              " 'crowd control appl pop sxsw link',\n",
              " 'social technolog amaz googl set person finder english japanes link sxsw',\n",
              " 'mention check googletv ipad app connect tv experi link sxsw connectedtv',\n",
              " 'mention rt mention googl launch new social network call circl possibl today link sxsw report buzz',\n",
              " 'quot googl product need condens quot merissa mayor sxsw confer link',\n",
              " 'parti like googl parti caus googl parti got taco n ice cream sxsw',\n",
              " 'find stupid stupid game ipad current special sxsw sale link',\n",
              " 'rt mention mention wanna sign beta link sxsw hhr gt gt',\n",
              " 'among thing miss sxsw googl aclu danc parti',\n",
              " 'mention link get sxsw app yet android version schedul',\n",
              " 'sxsw demo samsung tv control android phone link',\n",
              " 'rt mention sxsw hootsuit chilltab tablet stand rock canadian social media ipad best mention link',\n",
              " 'mention goodguid iphon app scan barcod rank environment respons compani nice pressur smmnextgen sxsw',\n",
              " 'homeless guy outsid pop sxsw appl store hold sign quot save ipad quot ask photo',\n",
              " 'ipad sync complet live livingthedream sxsw',\n",
              " 'rt mention agre novelti ipad news app fade fast among digit deleg link media sxsw via mention',\n",
              " 'iphon go sleep prepar sleep minut sxsw pr',\n",
              " 'mention heard downtown locat sold merchandis last night sxsw appl ipad',\n",
              " 'tech appl head sxsw set temporari store austin link',\n",
              " 'austin surpris popular accessori seem ipad close follow bbq pork waffl cone sxsw',\n",
              " 'rt mention farmer mobil phone smartphon marketshar bb android iphon mobilefarm sxsw',\n",
              " 'mention mention nc buzz ipad geekdom austin sxsw elev smart appl',\n",
              " 'group next ppl mention tabl everyon use thier phone ipad instead take sxsw',\n",
              " 'accord googl marissa mayer futur locat augment realiti contextu discoveri make smartphon smarter sxsw fb',\n",
              " 'soni samsung follow appl hp lead sxsw link tech',\n",
              " 'get see googl fail social anoth day rt mention okay googl circl debut sxsw today',\n",
              " 'true rt mention way truli understand materi make thing jonathan ive appl vp design sxsw',\n",
              " 'quot futur touch user interfac design quot wonder present microsoft employe mention ipad sxsw',\n",
              " 'mention sxsw provid iphon charger chang mind go next year',\n",
              " 'full hous appar peopl care googl rank synthet life tsk tsk peopl qagb sxsw',\n",
              " 'got green check mention live austin sxsw check show schedul gt link',\n",
              " 'technew sxsw appl school market expert link tech news appl job co sxsw tech',\n",
              " 'ipad week w ipad sinc gave mention sxsw withdraw',\n",
              " 'await keynot speaker chri pool sxsw iphon twitpict link',\n",
              " 'guess mention excus get ipad link sxsw',\n",
              " 'give next person come sxsw tell cool android look around look hard',\n",
              " 'post interview mention mention stori realli fun link appsavvi sxsw',\n",
              " 'matthew davi design ipad quot web like strip mall content quot sxsw',\n",
              " 'rt mention thank mention publish news new medic app sxswi conf blog link sxsw sxswh mhealth',\n",
              " 'rt mention mention mention austin street closur sxsw googl map form link sxsw austin',\n",
              " 'drink call alan ture make lego robot oh googl sxsw mention speakeasi link',\n",
              " 'fulli anticip everi geek douch tote ipad sxsw peopl also worth go',\n",
              " 'wait see mention mention big news link googl circl sxsw',\n",
              " 'googl launch major new social network call circl possibl today sxsw link',\n",
              " 'flipboard develop iphon version android say mention sxsw',\n",
              " 'use ipad set list sxsw band',\n",
              " 'realli find enjoy ipad design principl well done tapworthi use clear point throughout sxsw',\n",
              " 'join mention soon pm hilton ab sxsw rt mention go android develop meetup',\n",
              " 'rt mention appl employe show forc sxsw popup appl store ipad',\n",
              " 'houston airport sxsw number peep text away hyster one iphon user covet electr outlet lol',\n",
              " 'two appl store atx rt mention ipad goe sale next friday austin appl store go busi sxsw',\n",
              " 'austin wk amp need iphon ipad fix find guy w sign hilton cnr near conventionctr sxsw link',\n",
              " 'rt mention rt mention googl launch major new social network call circl link sxsw nptech',\n",
              " 'appl set open popup shop core sxsw action downtown austin link ipad',\n",
              " 'rt mention lack collabor amp opportun rt mention latin america produc next mention mention latism latam sxsw',\n",
              " 'interview artist behind ogilvynot ogilvi sydney sxsw podcast ep ausxsw link',\n",
              " 'googl launch major new social network call circl possibl today mention link via mention sxsw',\n",
              " 'jut time sxsw gt group text war heat fast societi launch new android app updat iphon app link',\n",
              " 'rt mention finish take photo googl photobooth know heart sxsw mention maggi mae w other link',\n",
              " 'rt mention sxsw mention talk demo ing googl place w hotpot integr rate recommend system android iphon cool stuff',\n",
              " 'rt mention rt mention interest googl mobil stat sxsw googl map user mm cont link',\n",
              " 'mention googl parti tonight go tri make mani event sxswi sxsw',\n",
              " 'cc mention rt mention new ubersoci iphon app store includ uberguid sxsw link',\n",
              " 'panel believ daili deal ultim go self serv w caveat kelt liken googl adword interest dailyd sxsw fh',\n",
              " 'stop let us make custom iphon case zazzlesxsw sxsw sxswi link link',\n",
              " 'rt mention mention retir wine librari tv move onto daili grape get app yr iphon thankyouecon sxsw',\n",
              " 'rt mention download free track mention music sampler mention includ mention link sxsw',\n",
              " 'welcom tx make friend spend lotsa money amp importantli look ur iphon occasion u expect get run sxsw',\n",
              " 'way quot ipad design headach quot sure bloggabl sure interest sxsw link',\n",
              " 'sxsw conf everi peopl mac ipad includ happen pc becom obsolet',\n",
              " 'rt mention googl latina see find porn first impress peopl get us latism sxsw sxswlatam latinasintech',\n",
              " 'mani austin follow mention find googler sxsw link',\n",
              " 'headlin quot ipad must gadget sxsw quot hmm could seen one come link gadget',\n",
              " 'way love discuss appl breed midst pre sxsw mad',\n",
              " 'appl hp popup sxsw gee wonder get traffic link',\n",
              " 'line ppl around block sxsw parti appl store insan link',\n",
              " 'tweet regist exclus pass event parti ipad sxsw quot give liberti free sxswpass pleas rt quot',\n",
              " 'rt mention mention rainey street nice altern th street sxsw parti walk direct convent center link',\n",
              " 'rt mention sam unlock tightasstravel achiev sxsw use googl map transit instruct',\n",
              " 'check poke like amp tweet googl love stori sxsw link sxsw sxsw sxswic',\n",
              " 'rt mention mention launch social network call circl possibl today link sxsw via mention interest jl',\n",
              " 'technologist think quot search histori see person line get quot googl bing speak rank quot sxsw',\n",
              " 'hope best thing come sxsw fact peopl flew austin pick ipad',\n",
              " 'rt mention mention go beyond hour amp share posit action world download earthhour iphon app link sxsw',\n",
              " 'social proof power market motiv see white earbud headphon cabl know appl mention sxsw',\n",
              " 'woohoo rt mention detail ipad giveaway come tonight rt sxsw sxswi',\n",
              " 'quot fond ipad quot mention sxswi sxsw',\n",
              " 'rt mention new ipad app speech therapi commun showcas sxsw confer link sxswi sxsh sxswh hcsm slp',\n",
              " 'rt mention googl marissa mayer extol cool googl mobil map v quot mobil surpass desktop usag st time year quot sxsw sxswi',\n",
              " 'follow buzz hee hee googl drip feed inform facebook rival circl sxsw',\n",
              " 'rt mention best thing heard weekend sxsw quot gave ipad money japan relief need ipad quot',\n",
              " 'rt mention googl launch major new social network call circl possibl today link sxsw mention',\n",
              " 'mention thank good tidbit confer thank share sxsw googl',\n",
              " 'wonder sxsw creep everi year still manag know stop pleas googl',\n",
              " 'rt mention shini new mention mention mention app new garyve book pop ipad store sxsw christma nerd',\n",
              " 'awesom convers network line sxsw appl store',\n",
              " 'temp appl store kill austin sell earli everi day sxsw',\n",
              " 'like vega ce iphon best use hand warmer sxsw',\n",
              " 'rt mention want free juic pack air iphon sxsw give away announc locat stay tune',\n",
              " 'join heav river flow see marissa mayer googl sxsw',\n",
              " 'quot want undivid attent pleas take mobil phone ipad quot mention sxsw leanstartup',\n",
              " 'rt mention appl open temporari store downtown austin sxsw ipad launch link',\n",
              " 'rt mention awesom present digit magazin link touchingstori sxsw gsdm',\n",
              " 'dear sxsw iphon app suck year sitbi us great includ film session',\n",
              " 'mayer make clear googl go straight foursquar amp gowalla googl hotpot sxsw',\n",
              " 'thx rt mention rt mention bad want go home read googl reader feed geek sxsw',\n",
              " 'gari vaynerchuck l gger ner winelibrari tv och sl pper st llet iphon appen daili grape thankyoueconomi sxsw swesxsw',\n",
              " 'even born yet rt mention googl sxsw parti theme quot parti like quot mention maggi mae pic link',\n",
              " 'sxsw post mobil social parti mention link via mention could win photographi gear amp ipad',\n",
              " 'appl open pop shop sxsw report link sxsw',\n",
              " 'parti thrown googl aclu tell dad sxsw mention maggi mae w other link',\n",
              " 'new social media tool rt mention googl launch major new social network quot circl quot possibl today link sxsw',\n",
              " 'line alreadi form appl pop store austin peopl see festiv link sxsw',\n",
              " 'hour wait makeshift appl store ipad fail sxsw',\n",
              " 'rt mention follow bing googl seo session qagb sxsw buddi mention seo',\n",
              " 'rt mention hey foodi austin sxsw download new arw iphon android app use guid dine town sxsw',\n",
              " 'mention wow gold gym underneath appl store kind nutshel right sxsw',\n",
              " 'wait eagerli googl launch secret new social network call circl today sxsw gt gt new updat',\n",
              " 'ever wonder googl map captur street view sxsw link',\n",
              " 'tapworthi win tigerblood tenet ipad design sxsw',\n",
              " 'tim reilli web definit compani surviv built valu consum gener data ebay amazon googl sxsw',\n",
              " 'rt mention sxsw slide gruber keep desk appl extend keyboard discontinu loud feel like write better',\n",
              " 'rt mention wow mention develop ipad app k newsapp sxsw',\n",
              " 'cool new band alert sxsw check hous home googl link',\n",
              " 'rt mention check daili recap sxsw mention amp mention mention hotspot link',\n",
              " 'nice rt mention appl open pop store sxsw festiv link sxsw ipad mac',\n",
              " 'quot googl test checkin offer sxsw quot mention link link coupon sq',\n",
              " 'listen twit live mention sxsw also went boxe keg parti googl robot event saw tim ferri speak check ebay hackathon',\n",
              " 'rt mention meet guy bought first ipad sxsw appl pop store link mention',\n",
              " 'googl map mobil go next releas look awesom sxsw',\n",
              " 'sxsw need qr code app iphon read vcard get qrafter gt link qrcode',\n",
              " 'gear make splash mention launch quot groupon live social type quot reward sxsw link via mention',\n",
              " 'mention yet see someon pc dell otherwis mention sxsw appl macbook pro ipad sxsw b soon',\n",
              " 'mention mention googl circl new social media site wow sxsw',\n",
              " 'pack sxsw ipad iphon blackberri laptop video camera need stylish belt clip gadget holster oxymoron',\n",
              " 'catch mention hotel room day sxsw also tweet new ipad',\n",
              " 'mistak made build netflix iphon netflixiphon mention sxsw',\n",
              " 'mention got ipad sxsw appl store thank much',\n",
              " 'rt mention launch product sxsw plenti els link',\n",
              " 'search sxsw via twitter work check googl real time search least get result sxsw',\n",
              " 'appl sxsw pop store ipad gb wifi gb wifi amp wifi g',\n",
              " 'rt mention googl launch major new social network call circl possibl today mention sxsw sxswi link via mention',\n",
              " 'good news break iphon bad news screw budg replac batteri hope stand sxsw',\n",
              " 'tech sxsw appl school market expert link',\n",
              " 'give away ipad kick time sxsw visit fb page info link',\n",
              " 'sxsw hope year festiv crashi year iphon app sxsw',\n",
              " 'see googl new social network quot circl quot today link sxsw sxswi',\n",
              " 'rumor appl open temporari store downtown austin sxsw ipad launch link',\n",
              " 'mention check iphon app nice check link fun sxsw',\n",
              " 'mention alreadi line ipad arriv sxsw',\n",
              " 'rt mention pat sxsw know talk pleas googl julia sweeney learn',\n",
              " 'tell sxsw happen iphon app updat day',\n",
              " 'googl launch major new social network call circl possibl today link sxswi sxsw via mention',\n",
              " 'googl plan launch major new social network call circl preview far super posit sxsw link',\n",
              " 'overload info deliv googl kill discoveri googl say ppl lose curios wonder need serendip sxsw',\n",
              " 'rt mention man googl launch circl sxsw talk strike iron hot mention mention',\n",
              " 'rt mention tweet regist exclus pass event parti ipad sxsw quot give liberti free sxswpass quot',\n",
              " 'quot p r n g quot rt mention gsd amp googl sit tree link sxsw gsdm',\n",
              " 'close front ipad line sxsw appl popup store',\n",
              " 'nice mention sxsw highlight thu far made friend w istock ux develop singular blow mind oy googl own',\n",
              " 'googl marissa mayer quot mobil phone cursor connect physic digit world quot sxsw',\n",
              " 'mention googl deni work project releas sxsw',\n",
              " 'rt mention rt mention sxsw googl launch major new social network call circl possibl today mention link',\n",
              " 'use googl profil fb entri point fb person tri digg googl reader draw peopl hirem sxsw',\n",
              " 'noth say douch cake like walk around ipad like iphon sxsw',\n",
              " 'lawn chair perfect keyboard dan drummer mist giant sxsw locat link link',\n",
              " 'go sxsw doesnt matter place give away appl product link',\n",
              " 'rt mention rt mention appl head sxsw set temporari store austin link',\n",
              " 'rt mention googl launch major new social network call circl possibl today mention sxsw link via mention socialmedia',\n",
              " 'rt mention pack hous go lynn design ipad interfac new navig schema sxsw uxd link',\n",
              " 'appl pop store sxsw goe impuls control j mp h',\n",
              " 'rt mention idea combin googl analyt tool know websit program someth sxsw bavcid',\n",
              " 'realli great mophi experi sxsw user month highli recommend iphon batteri goodcustomerservic',\n",
              " 'launchrock launch ipod ipad sky grab mention sxsw join find locat launch link via mention',\n",
              " 'tech appl save sxsw set open pop store link technolog',\n",
              " 'hurrah sxswi festiv begun met mozilla googl folk tonight mention event sxsw',\n",
              " 'lazi f feed listen sxsw band iphon woefulli unprepar music mention spreadsheet notwithstand',\n",
              " 'rt mention pepsicostag yesterday check bag may ipad screen tell mine sxsw',\n",
              " 'appl quarter music industri digit sale touchingstori tbwasxsw sxsw',\n",
              " 'line wait temp appl store open sxsw miss product launch',\n",
              " 'pleas see josh clark featur mention client ipad design present sxsw',\n",
              " 'metric determin engag sxsw session ipad batteri drain use session',\n",
              " 'someon ask leo ipad sxsw say email send one free',\n",
              " 'still big line outsid appl pop shop day ipad debut sxsw',\n",
              " 'understand buzz sxsw group text groupm ipad appl deni crowley',\n",
              " 'oh excus rt mention rt mention sxsw quot appl come cool technolog go confer quot',\n",
              " 'win ipad via mention video clipcon see intro reel link sxsw suasxsw sxswaccel entrepreneur smallbiz ceokidschat',\n",
              " 'socialnetwork googl noch heut mit circl facebook konkurr link via mention und link sxsw',\n",
              " 'wow iphon drop side iron cactu balconi screen shatter amaz sxsw fb',\n",
              " 'dude thought buddi figur put keyboard ipad told netbook guy unconvinc obvious wast sxsw',\n",
              " 'rt mention iphon autocorrect quot sxsw quot quot scar quot foreshadow sxsw',\n",
              " 'rt mention fyi break googl launch major new social network call circl today link via mention sxsw socialmedia',\n",
              " 'best hungri sxsw tip mekong river great vietnames link th btw brazo amp san jacinto till pm via mention',\n",
              " 'great xml visual skier use googl locat data sxsw',\n",
              " 'rt mention love mention sxsw quot appl come w cool technolog one ever heard go confer quot',\n",
              " 'mention get android updat sxsw least alpha need tester',\n",
              " 'anoth late start sxsw sxswi damn googl rock parti',\n",
              " 'marissa mayer googl map usag mobil million mobil user link via mention sxsw goog',\n",
              " 'pop appl store sxsw pop bar call dickbar',\n",
              " 'jessede know fludapp awesom ipad iphon app like appreci design also give free ts sxsw',\n",
              " 'gowalla launch quot groupon live social type quot reward sxsw link',\n",
              " 'rt mention appl pop store sxsw link',\n",
              " 'hoot rt mention new blog post hootsuit mobil sxsw updat iphon b',\n",
              " 'way truli understand materi make thing jonathan ive appl vp design sxsw',\n",
              " 'even secur guard austin enjoy ipad time sxsw cc mention link',\n",
              " 'quot tattoo ipad quot chalk pavement mean sxsw applefanat',\n",
              " 'rt mention sxsw mention splendor dancin spazzmat aclu googl partylikeit link',\n",
              " 'rt mention line might well popup appl store austin sxsw ipad',\n",
              " 'could fun provid sxsw mi direct w fictiti parti amp giveaway wtf appl give away ipad ihop',\n",
              " 'sxsw indieauthor sander quot one author talk technolog stori facebook iphon show stori quot',\n",
              " 'rt mention appl head sxsw set temporari store austin link news sxsw bastard bring temptat',\n",
              " 'half hour futureoftouch first mention ipad microsoft speaker sxsw',\n",
              " 'rt mention startup free premium servic st job post link lean leanux leanstartup sxsw sxswi launch startup founder',\n",
              " 'check poke like amp tweet googl love stori sxsw sxsw sxsw sxswic',\n",
              " 'said ipad appl store sxsw photo mention mention mention mention sheltongreen ericschu ra link',\n",
              " 'mention parti photobooth sxsw donthat link mention',\n",
              " 'tx rt mention link rt mention googl launch major new social network call circl sxsw',\n",
              " 'googl find new way help small busi say place page sxsw overview link',\n",
              " 'met rebecca moor fr googl mention amaz womenintech come see room ab austin conf ctr sxswi sxsw',\n",
              " 'rt mention sxsw give away ipad creator popular disc interact creat disc amp share twitter',\n",
              " 'met three girl appl itun connect team mention iphon develop meetup got talk would chang itc sxsw',\n",
              " 'line outsid sxsw appl pop store wasteoftimeatsxsw link',\n",
              " 'jadi penasaran rt mention googl launch major new social network call circl possibl today link sxsw',\n",
              " 'cult appl emot respons experi magic work art control ecosystem sxsw technopriest',\n",
              " 'rt mention conan asst lot hipster look man w fedora ipad lol sxsw',\n",
              " 'iphon charg parti hallway ux ia profession unit sxsw',\n",
              " 'rt mention rt mention texa observ tomlinson say would doubl revenu per issu ipad subscript newsapp sxsw',\n",
              " 'rt mention rt mention mention iphon app use south southwest interact link sxsw sxswi',\n",
              " 'million mobil googl map user mention sxsw',\n",
              " 'sxsw tougher crowd colin quinn rt mention hey marissa mayer pleas tell us someth new product googl launch month ago',\n",
              " 'en rout austin tx sxsw accompani fedora instrument weird haircut appl product',\n",
              " 'appl sxsw pop store ipad sayeth mention link',\n",
              " 'via mention appl set open temp store downtown austin sxsw link ipad',\n",
              " 'got shini new ipad sxsw discov new music link built html flash look great ipad',\n",
              " 'rt mention per rumor googl may preview big social strategi mention theme costum parti sxsw yep link cnet',\n",
              " 'amp happen rt mention mention put gun mention head give iphon sxsw link',\n",
              " 'mention panel hashtag mom ipad yourmom sxsw win',\n",
              " 'miss mention check googl doodl burn man pac man beyond link sxsw',\n",
              " 'locat pixieengin rt mention googl say futur locat locat locat link sxsw cnn',\n",
              " 'rt mention news sxswi appl temporari ipad store sxsw wth',\n",
              " ...]"
            ]
          },
          "execution_count": 14,
          "metadata": {},
          "output_type": "execute_result"
        }
      ],
      "source": [
        "import re\n",
        "corpus=[]\n",
        "ps=PorterStemmer()\n",
        "for i in range(0,len(X)):\n",
        "    review=re.sub(\"[^a-zA-Z]\",\" \",X[i])  # this will take all string that match given pattern of regular expressio\n",
        "    review=review.lower()   # lowercase all words\n",
        "    review=review.split()  # split paragraph in sentences and sentences in word\n",
        "    # review=[print(word) for word in review] # take each word from each review\n",
        "    review=[ps.stem(word) for word in review if word not in stopwords.words(\"english\")] # will stem only those words which are not in stopwords\n",
        "    review=\" \".join(review)\n",
        "    corpus.append(review)\n",
        "\n",
        "corpus"
      ]
    },
    {
      "cell_type": "code",
      "execution_count": 15,
      "id": "57f75709",
      "metadata": {},
      "outputs": [
        {
          "name": "stdout",
          "output_type": "stream",
          "text": [
            "['web', 'design', 'guid', 'io', 'android', 'app', 'today', 'mention', 'link', 'sxsw']\n",
            "\n",
            "\n",
            "['rt', 'mention', 'line', 'ipad', 'longer', 'today', 'yesterday', 'sxsw', 'get', 'line', 'today', 'fun']\n",
            "\n",
            "\n",
            "['crazi', 'appl', 'open', 'temporari', 'store', 'austin', 'tomorrow', 'handl', 'rabid', 'sxsw', 'eye', 'pad', 'seeker']\n",
            "\n",
            "\n",
            "['lesson', 'googl', 'one', 'pass', 'digit', 'environ', 'user', 'want', 'purchas', 'across', 'everi', 'platform', 'one', 'tool', 'sxsw', 'elonsxsw']\n",
            "\n",
            "\n",
            "['rt', 'mention', 'panel', 'quot', 'mom', 'ipad', 'design', 'boomer', 'quot', 'sxsw']\n",
            "\n",
            "\n"
          ]
        }
      ],
      "source": [
        "# Tokenization for model better performance \n",
        "from nltk.tokenize import word_tokenize\n",
        "\n",
        "tokenized_corpus = []  # This will store tokenized versions\n",
        "\n",
        "for each in corpus:\n",
        "    tokens = word_tokenize(each)  # Split into words\n",
        "    tokenized_corpus.append(tokens)\n",
        "\n",
        "# Optional: To check\n",
        "for tokens in tokenized_corpus[:5]:  # just showing first 5 examples\n",
        "    print(tokens)\n",
        "    print(\"\\n\")\n"
      ]
    },
    {
      "cell_type": "markdown",
      "id": "9860da26",
      "metadata": {
        "id": "9860da26"
      },
      "source": [
        "## One hot ecoding of text"
      ]
    },
    {
      "cell_type": "code",
      "execution_count": 16,
      "id": "855a5e14",
      "metadata": {
        "colab": {
          "base_uri": "https://localhost:8080/"
        },
        "id": "855a5e14",
        "outputId": "04910d23-383e-4b2d-afb7-56bf447a0ba0"
      },
      "outputs": [
        {
          "name": "stdout",
          "output_type": "stream",
          "text": [
            "[1667, 3286, 1943, 2232, 297, 3674, 454, 2046, 3237, 4846]\n"
          ]
        }
      ],
      "source": [
        "# Suppose tokenized_corpus is already made using word_tokenize()\n",
        "\n",
        "from tensorflow.keras.preprocessing.text import one_hot\n",
        "\n",
        "voc_size = 5000\n",
        "\n",
        "# JOIN each token list into a string and then one_hot to avoid error of \" list has no attribute .lower()\"\n",
        "one_hot_repr = [one_hot(\" \".join(tokens), voc_size) for tokens in tokenized_corpus]\n",
        "\n",
        "print(one_hot_repr[0])\n"
      ]
    },
    {
      "cell_type": "markdown",
      "id": "5906c469",
      "metadata": {
        "id": "5906c469"
      },
      "source": [
        "# Padding\n",
        "Making all sentences of same size so that they can be provided as the input to model"
      ]
    },
    {
      "cell_type": "code",
      "execution_count": 17,
      "id": "599326f9",
      "metadata": {
        "colab": {
          "base_uri": "https://localhost:8080/"
        },
        "id": "599326f9",
        "outputId": "f980b464-9772-4e28-fe90-790ebad0be40"
      },
      "outputs": [
        {
          "data": {
            "text/plain": [
              "array([[   0,    0,    0, ..., 2046, 3237, 4846],\n",
              "       [   0,    0,    0, ..., 4972,  454, 1234],\n",
              "       [   0,    0,    0, ..., 2977, 1738, 3594],\n",
              "       ...,\n",
              "       [   0,    0,    0, ...,  462, 3237, 4846],\n",
              "       [   0,    0,    0, ..., 2874, 1651, 4846],\n",
              "       [   0,    0,    0, ..., 1690, 4846, 4760]])"
            ]
          },
          "execution_count": 17,
          "metadata": {},
          "output_type": "execute_result"
        }
      ],
      "source": [
        "from tensorflow.keras.preprocessing.sequence import pad_sequences\n",
        "max_sentence_length=20\n",
        "same_sized_sentence=pad_sequences(one_hot_repr,padding=\"pre\",maxlen=max_sentence_length)\n",
        "same_sized_sentence"
      ]
    },
    {
      "cell_type": "markdown",
      "id": "c261eae8",
      "metadata": {
        "id": "c261eae8"
      },
      "source": [
        "# Deep Learning + NLP\n",
        "## Model Creation, adding Embedding layer and LSTM RNN"
      ]
    },
    {
      "cell_type": "code",
      "execution_count": 18,
      "id": "0904d099",
      "metadata": {
        "colab": {
          "base_uri": "https://localhost:8080/",
          "height": 241
        },
        "id": "0904d099",
        "outputId": "2a4f3c1e-d76b-4277-bcfa-b1bea4651117"
      },
      "outputs": [
        {
          "data": {
            "text/plain": [
              "Sentiment\n",
              "2    3765\n",
              "3    2089\n",
              "1     399\n",
              "0     111\n",
              "Name: count, dtype: int64"
            ]
          },
          "execution_count": 18,
          "metadata": {},
          "output_type": "execute_result"
        }
      ],
      "source": [
        "y.value_counts()"
      ]
    },
    {
      "cell_type": "code",
      "execution_count": 19,
      "id": "b9859111",
      "metadata": {
        "id": "b9859111"
      },
      "outputs": [
        {
          "name": "stderr",
          "output_type": "stream",
          "text": [
            "e:\\vs code software\\python\\Lib\\site-packages\\keras\\src\\layers\\core\\embedding.py:90: UserWarning: Argument `input_length` is deprecated. Just remove it.\n",
            "  warnings.warn(\n"
          ]
        }
      ],
      "source": [
        "model=Sequential()\n",
        "each_word_vectors=10\n",
        "model.add(Embedding(input_dim=voc_size,output_dim=each_word_vectors,input_length=max_sentence_length))\n",
        "model.add(LSTM(30))\n",
        "model.add(Dense(4,activation=\"softmax\"))\n",
        "model.compile(loss=\"sparse_categorical_crossentropy\", metrics=[\"accuracy\"],optimizer=\"adam\")"
      ]
    },
    {
      "cell_type": "code",
      "execution_count": 20,
      "id": "nmpguVtiNHwc",
      "metadata": {
        "colab": {
          "base_uri": "https://localhost:8080/",
          "height": 225
        },
        "id": "nmpguVtiNHwc",
        "outputId": "f3da1c07-41b2-4847-96a8-982d08b9b360"
      },
      "outputs": [
        {
          "data": {
            "text/html": [
              "<pre style=\"white-space:pre;overflow-x:auto;line-height:normal;font-family:Menlo,'DejaVu Sans Mono',consolas,'Courier New',monospace\"><span style=\"font-weight: bold\">Model: \"sequential\"</span>\n",
              "</pre>\n"
            ],
            "text/plain": [
              "\u001b[1mModel: \"sequential\"\u001b[0m\n"
            ]
          },
          "metadata": {},
          "output_type": "display_data"
        },
        {
          "data": {
            "text/html": [
              "<pre style=\"white-space:pre;overflow-x:auto;line-height:normal;font-family:Menlo,'DejaVu Sans Mono',consolas,'Courier New',monospace\">┏━━━━━━━━━━━━━━━━━━━━━━━━━━━━━━━━━┳━━━━━━━━━━━━━━━━━━━━━━━━┳━━━━━━━━━━━━━━━┓\n",
              "┃<span style=\"font-weight: bold\"> Layer (type)                    </span>┃<span style=\"font-weight: bold\"> Output Shape           </span>┃<span style=\"font-weight: bold\">       Param # </span>┃\n",
              "┡━━━━━━━━━━━━━━━━━━━━━━━━━━━━━━━━━╇━━━━━━━━━━━━━━━━━━━━━━━━╇━━━━━━━━━━━━━━━┩\n",
              "│ embedding (<span style=\"color: #0087ff; text-decoration-color: #0087ff\">Embedding</span>)           │ (<span style=\"color: #00d7ff; text-decoration-color: #00d7ff\">None</span>, <span style=\"color: #00af00; text-decoration-color: #00af00\">20</span>, <span style=\"color: #00af00; text-decoration-color: #00af00\">10</span>)         │        <span style=\"color: #00af00; text-decoration-color: #00af00\">50,000</span> │\n",
              "├─────────────────────────────────┼────────────────────────┼───────────────┤\n",
              "│ lstm (<span style=\"color: #0087ff; text-decoration-color: #0087ff\">LSTM</span>)                     │ (<span style=\"color: #00d7ff; text-decoration-color: #00d7ff\">None</span>, <span style=\"color: #00af00; text-decoration-color: #00af00\">30</span>)             │         <span style=\"color: #00af00; text-decoration-color: #00af00\">4,920</span> │\n",
              "├─────────────────────────────────┼────────────────────────┼───────────────┤\n",
              "│ dense (<span style=\"color: #0087ff; text-decoration-color: #0087ff\">Dense</span>)                   │ (<span style=\"color: #00d7ff; text-decoration-color: #00d7ff\">None</span>, <span style=\"color: #00af00; text-decoration-color: #00af00\">4</span>)              │           <span style=\"color: #00af00; text-decoration-color: #00af00\">124</span> │\n",
              "└─────────────────────────────────┴────────────────────────┴───────────────┘\n",
              "</pre>\n"
            ],
            "text/plain": [
              "┏━━━━━━━━━━━━━━━━━━━━━━━━━━━━━━━━━┳━━━━━━━━━━━━━━━━━━━━━━━━┳━━━━━━━━━━━━━━━┓\n",
              "┃\u001b[1m \u001b[0m\u001b[1mLayer (type)                   \u001b[0m\u001b[1m \u001b[0m┃\u001b[1m \u001b[0m\u001b[1mOutput Shape          \u001b[0m\u001b[1m \u001b[0m┃\u001b[1m \u001b[0m\u001b[1m      Param #\u001b[0m\u001b[1m \u001b[0m┃\n",
              "┡━━━━━━━━━━━━━━━━━━━━━━━━━━━━━━━━━╇━━━━━━━━━━━━━━━━━━━━━━━━╇━━━━━━━━━━━━━━━┩\n",
              "│ embedding (\u001b[38;5;33mEmbedding\u001b[0m)           │ (\u001b[38;5;45mNone\u001b[0m, \u001b[38;5;34m20\u001b[0m, \u001b[38;5;34m10\u001b[0m)         │        \u001b[38;5;34m50,000\u001b[0m │\n",
              "├─────────────────────────────────┼────────────────────────┼───────────────┤\n",
              "│ lstm (\u001b[38;5;33mLSTM\u001b[0m)                     │ (\u001b[38;5;45mNone\u001b[0m, \u001b[38;5;34m30\u001b[0m)             │         \u001b[38;5;34m4,920\u001b[0m │\n",
              "├─────────────────────────────────┼────────────────────────┼───────────────┤\n",
              "│ dense (\u001b[38;5;33mDense\u001b[0m)                   │ (\u001b[38;5;45mNone\u001b[0m, \u001b[38;5;34m4\u001b[0m)              │           \u001b[38;5;34m124\u001b[0m │\n",
              "└─────────────────────────────────┴────────────────────────┴───────────────┘\n"
            ]
          },
          "metadata": {},
          "output_type": "display_data"
        },
        {
          "data": {
            "text/html": [
              "<pre style=\"white-space:pre;overflow-x:auto;line-height:normal;font-family:Menlo,'DejaVu Sans Mono',consolas,'Courier New',monospace\"><span style=\"font-weight: bold\"> Total params: </span><span style=\"color: #00af00; text-decoration-color: #00af00\">55,044</span> (215.02 KB)\n",
              "</pre>\n"
            ],
            "text/plain": [
              "\u001b[1m Total params: \u001b[0m\u001b[38;5;34m55,044\u001b[0m (215.02 KB)\n"
            ]
          },
          "metadata": {},
          "output_type": "display_data"
        },
        {
          "data": {
            "text/html": [
              "<pre style=\"white-space:pre;overflow-x:auto;line-height:normal;font-family:Menlo,'DejaVu Sans Mono',consolas,'Courier New',monospace\"><span style=\"font-weight: bold\"> Trainable params: </span><span style=\"color: #00af00; text-decoration-color: #00af00\">55,044</span> (215.02 KB)\n",
              "</pre>\n"
            ],
            "text/plain": [
              "\u001b[1m Trainable params: \u001b[0m\u001b[38;5;34m55,044\u001b[0m (215.02 KB)\n"
            ]
          },
          "metadata": {},
          "output_type": "display_data"
        },
        {
          "data": {
            "text/html": [
              "<pre style=\"white-space:pre;overflow-x:auto;line-height:normal;font-family:Menlo,'DejaVu Sans Mono',consolas,'Courier New',monospace\"><span style=\"font-weight: bold\"> Non-trainable params: </span><span style=\"color: #00af00; text-decoration-color: #00af00\">0</span> (0.00 B)\n",
              "</pre>\n"
            ],
            "text/plain": [
              "\u001b[1m Non-trainable params: \u001b[0m\u001b[38;5;34m0\u001b[0m (0.00 B)\n"
            ]
          },
          "metadata": {},
          "output_type": "display_data"
        }
      ],
      "source": [
        "model.build((None,20))\n",
        "model.summary()"
      ]
    },
    {
      "cell_type": "markdown",
      "id": "e27cea5f",
      "metadata": {},
      "source": [
        "## Balancing the Data due to being unbalanced model considers everything positive\n",
        "This is the best way in Deep learning to tell model where to focus more\n"
      ]
    },
    {
      "cell_type": "code",
      "execution_count": 21,
      "id": "1f0ba6e9",
      "metadata": {},
      "outputs": [],
      "source": [
        "#Class weights help the model to pay more attention to the underrepresented classes (minority classes) \n",
        "# and less attention to the overrepresented classes (majority classes).\n",
        "from sklearn.utils import class_weight\n",
        "class_weights=class_weight.compute_class_weight(class_weight=\"balanced\",\n",
        "            classes=np.unique(y),\n",
        "            y=y\n",
        "            )\n",
        "class_weights=dict(enumerate(class_weights))"
      ]
    },
    {
      "cell_type": "markdown",
      "id": "bb61035d",
      "metadata": {
        "id": "bb61035d"
      },
      "source": [
        "## Model Training"
      ]
    },
    {
      "cell_type": "code",
      "execution_count": 22,
      "id": "c25085dd",
      "metadata": {
        "id": "c25085dd"
      },
      "outputs": [],
      "source": [
        "X_final=np.array(same_sized_sentence)\n",
        "y_final=np.array(y)"
      ]
    },
    {
      "cell_type": "code",
      "execution_count": 23,
      "id": "fb1e9784",
      "metadata": {
        "id": "fb1e9784"
      },
      "outputs": [],
      "source": [
        "from sklearn.model_selection import train_test_split\n",
        "X_train,X_test,y_train,y_test=train_test_split(X_final,y_final,train_size=0.8, random_state=42)"
      ]
    },
    {
      "cell_type": "code",
      "execution_count": 24,
      "id": "249af63f",
      "metadata": {},
      "outputs": [],
      "source": [
        "# Oversampling the minority class increases the number of examples from the minority class.\n",
        "# I apply this technique b/c most of the setiment in my dataset is positive and that's model predict positive even for negative sentiments.\n",
        "# It will increase the number of negative sentiments in the dataset.\n",
        "from imblearn.over_sampling import SMOTE\n",
        "\n",
        "# Apply SMOTE (Synthetic Minority Over-sampling Technique)\n",
        "smote = SMOTE(sampling_strategy='auto')  # 'auto' means balance all classes\n",
        "X_resampled, y_resampled = smote.fit_resample(X_train, y_train)"
      ]
    },
    {
      "cell_type": "code",
      "execution_count": 25,
      "id": "6f14d746",
      "metadata": {
        "colab": {
          "base_uri": "https://localhost:8080/"
        },
        "id": "6f14d746",
        "outputId": "54da2e9b-8d69-4a77-c45d-059a5738a38d"
      },
      "outputs": [
        {
          "name": "stdout",
          "output_type": "stream",
          "text": [
            "Epoch 1/10\n",
            "\u001b[1m102/102\u001b[0m \u001b[32m━━━━━━━━━━━━━━━━━━━━\u001b[0m\u001b[37m\u001b[0m \u001b[1m14s\u001b[0m 17ms/step - accuracy: 0.4700 - loss: 1.3580\n",
            "Epoch 2/10\n",
            "\u001b[1m102/102\u001b[0m \u001b[32m━━━━━━━━━━━━━━━━━━━━\u001b[0m\u001b[37m\u001b[0m \u001b[1m2s\u001b[0m 15ms/step - accuracy: 0.5596 - loss: 1.3082\n",
            "Epoch 3/10\n",
            "\u001b[1m102/102\u001b[0m \u001b[32m━━━━━━━━━━━━━━━━━━━━\u001b[0m\u001b[37m\u001b[0m \u001b[1m1s\u001b[0m 8ms/step - accuracy: 0.5344 - loss: 1.1359\n",
            "Epoch 4/10\n",
            "\u001b[1m102/102\u001b[0m \u001b[32m━━━━━━━━━━━━━━━━━━━━\u001b[0m\u001b[37m\u001b[0m \u001b[1m1s\u001b[0m 8ms/step - accuracy: 0.5983 - loss: 1.0348\n",
            "Epoch 5/10\n",
            "\u001b[1m102/102\u001b[0m \u001b[32m━━━━━━━━━━━━━━━━━━━━\u001b[0m\u001b[37m\u001b[0m \u001b[1m1s\u001b[0m 9ms/step - accuracy: 0.6873 - loss: 0.8207\n",
            "Epoch 6/10\n",
            "\u001b[1m102/102\u001b[0m \u001b[32m━━━━━━━━━━━━━━━━━━━━\u001b[0m\u001b[37m\u001b[0m \u001b[1m1s\u001b[0m 9ms/step - accuracy: 0.7044 - loss: 0.7795\n",
            "Epoch 7/10\n",
            "\u001b[1m102/102\u001b[0m \u001b[32m━━━━━━━━━━━━━━━━━━━━\u001b[0m\u001b[37m\u001b[0m \u001b[1m1s\u001b[0m 8ms/step - accuracy: 0.7323 - loss: 0.6452\n",
            "Epoch 8/10\n",
            "\u001b[1m102/102\u001b[0m \u001b[32m━━━━━━━━━━━━━━━━━━━━\u001b[0m\u001b[37m\u001b[0m \u001b[1m1s\u001b[0m 10ms/step - accuracy: 0.7705 - loss: 0.5119\n",
            "Epoch 9/10\n",
            "\u001b[1m102/102\u001b[0m \u001b[32m━━━━━━━━━━━━━━━━━━━━\u001b[0m\u001b[37m\u001b[0m \u001b[1m1s\u001b[0m 9ms/step - accuracy: 0.7772 - loss: 0.4729\n",
            "Epoch 10/10\n",
            "\u001b[1m102/102\u001b[0m \u001b[32m━━━━━━━━━━━━━━━━━━━━\u001b[0m\u001b[37m\u001b[0m \u001b[1m1s\u001b[0m 10ms/step - accuracy: 0.7938 - loss: 0.4004\n"
          ]
        },
        {
          "data": {
            "text/plain": [
              "<keras.src.callbacks.history.History at 0x1b8b458dd90>"
            ]
          },
          "execution_count": 25,
          "metadata": {},
          "output_type": "execute_result"
        }
      ],
      "source": [
        "model.fit(X_train,y_train, epochs=10,batch_size=50,class_weight=class_weights)"
      ]
    },
    {
      "cell_type": "markdown",
      "id": "badc7e3f",
      "metadata": {
        "id": "badc7e3f"
      },
      "source": [
        "## Getting Predictions and Accuracy score\n",
        "Note: When you use softmax function , it results in probabilites not direct class numbers.\n",
        "\n",
        "You have to convert probabilities to class labels before calculating accuracy or any metric."
      ]
    },
    {
      "cell_type": "code",
      "execution_count": 26,
      "id": "00e4df0e",
      "metadata": {
        "colab": {
          "base_uri": "https://localhost:8080/"
        },
        "id": "00e4df0e",
        "outputId": "2912237c-aa25-4f45-a77c-73fb68fa246f"
      },
      "outputs": [
        {
          "name": "stdout",
          "output_type": "stream",
          "text": [
            "\u001b[1m40/40\u001b[0m \u001b[32m━━━━━━━━━━━━━━━━━━━━\u001b[0m\u001b[37m\u001b[0m \u001b[1m1s\u001b[0m 10ms/step\n"
          ]
        },
        {
          "data": {
            "text/plain": [
              "array([[2.1944089e-04, 1.0738928e-04, 8.8995999e-01, 1.0971326e-01],\n",
              "       [3.0213309e-02, 9.4325608e-03, 3.9515954e-01, 5.6519455e-01],\n",
              "       [3.4642532e-01, 2.6243392e-03, 1.2302430e-02, 6.3864785e-01],\n",
              "       ...,\n",
              "       [3.0879709e-01, 2.7183023e-01, 2.0525640e-01, 2.1411623e-01],\n",
              "       [1.3395515e-04, 9.5989868e-05, 9.5527977e-01, 4.4490241e-02],\n",
              "       [1.3107194e-02, 9.7581511e-04, 2.7728196e-02, 9.5818871e-01]],\n",
              "      dtype=float32)"
            ]
          },
          "execution_count": 26,
          "metadata": {},
          "output_type": "execute_result"
        }
      ],
      "source": [
        "y_pred=model.predict(X_test)\n",
        "y_pred  # it contains the probability of each class"
      ]
    },
    {
      "cell_type": "code",
      "execution_count": 27,
      "id": "38afe8bc",
      "metadata": {
        "colab": {
          "base_uri": "https://localhost:8080/"
        },
        "id": "38afe8bc",
        "outputId": "ff7b6018-1cf6-4733-f588-787020a82e7e"
      },
      "outputs": [
        {
          "data": {
            "text/plain": [
              "array([2, 3, 3, ..., 0, 2, 3], dtype=int64)"
            ]
          },
          "execution_count": 27,
          "metadata": {},
          "output_type": "execute_result"
        }
      ],
      "source": [
        "# Converting the probability to class labels and then find the accuracy score\n",
        "y_pred=np.argmax(y_pred,axis=1)\n",
        "y_pred\n"
      ]
    },
    {
      "cell_type": "code",
      "execution_count": 28,
      "id": "4bbf0768",
      "metadata": {
        "colab": {
          "base_uri": "https://localhost:8080/"
        },
        "id": "4bbf0768",
        "outputId": "08da6182-3279-457b-abf7-268756cfbc54"
      },
      "outputs": [
        {
          "data": {
            "text/plain": [
              "0.589159465828751"
            ]
          },
          "execution_count": 28,
          "metadata": {},
          "output_type": "execute_result"
        }
      ],
      "source": [
        "accuracy=accuracy_score(y_test,y_pred)\n",
        "accuracy"
      ]
    },
    {
      "cell_type": "code",
      "execution_count": 41,
      "id": "5e5e0386",
      "metadata": {},
      "outputs": [
        {
          "name": "stdout",
          "output_type": "stream",
          "text": [
            "              precision    recall  f1-score   support\n",
            "\n",
            "           0       0.07      0.03      0.04        70\n",
            "           1       0.29      0.25      0.27        93\n",
            "           2       0.66      0.74      0.69       690\n",
            "           3       0.55      0.52      0.53       420\n",
            "\n",
            "    accuracy                           0.59      1273\n",
            "   macro avg       0.39      0.38      0.38      1273\n",
            "weighted avg       0.56      0.59      0.57      1273\n",
            "\n"
          ]
        }
      ],
      "source": [
        "from sklearn.metrics import classification_report\n",
        "classification_Report=classification_report(y_pred,y_test)\n",
        "print(classification_Report)"
      ]
    },
    {
      "cell_type": "code",
      "execution_count": 34,
      "id": "6e2050c9",
      "metadata": {},
      "outputs": [
        {
          "data": {
            "text/plain": [
              "array([[  2,   4,  18,   3],\n",
              "       [ 15,  23,  29,  13],\n",
              "       [ 27,  50, 508, 187],\n",
              "       [ 26,  16, 135, 217]], dtype=int64)"
            ]
          },
          "execution_count": 34,
          "metadata": {},
          "output_type": "execute_result"
        }
      ],
      "source": [
        "confusion_matrix(y_test,y_pred)"
      ]
    },
    {
      "cell_type": "markdown",
      "id": "10c8ea13",
      "metadata": {},
      "source": [
        "# Saving the model"
      ]
    },
    {
      "cell_type": "code",
      "execution_count": 30,
      "id": "9ba0bfaa",
      "metadata": {},
      "outputs": [],
      "source": [
        "model.save(\"sentiment_model.keras\")"
      ]
    },
    {
      "cell_type": "code",
      "execution_count": null,
      "id": "a0840234",
      "metadata": {},
      "outputs": [],
      "source": []
    },
    {
      "cell_type": "markdown",
      "id": "70fea898",
      "metadata": {
        "id": "70fea898"
      },
      "source": [
        "ERROR NOTE: if you get any error in traing then try to recheck the lines of codes in which you make model and then add layers to it\n"
      ]
    }
  ],
  "metadata": {
    "accelerator": "GPU",
    "colab": {
      "gpuType": "T4",
      "provenance": []
    },
    "kernelspec": {
      "display_name": "Python 3",
      "name": "python3"
    },
    "language_info": {
      "codemirror_mode": {
        "name": "ipython",
        "version": 3
      },
      "file_extension": ".py",
      "mimetype": "text/x-python",
      "name": "python",
      "nbconvert_exporter": "python",
      "pygments_lexer": "ipython3",
      "version": "3.12.3"
    }
  },
  "nbformat": 4,
  "nbformat_minor": 5
}
