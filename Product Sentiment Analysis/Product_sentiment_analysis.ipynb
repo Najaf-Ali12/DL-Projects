{
  "cells": [
    {
      "cell_type": "markdown",
      "id": "8ab85ff9",
      "metadata": {
        "id": "8ab85ff9"
      },
      "source": [
        "# Problem Description\n",
        "Analyzing sentiments related to various products such as Tablet, Mobile and various other gizmos can be fun and difficult especially when collected across various demographics around the world. In this weekend hackathon, we challenge the machinehackers community to develop a machine learning model to accurately classify various products into 4 different classes of sentiments based on the raw text review provided by the user. Analyzing these sentiments will not only help us serve the customers better but can also reveal lot of customer traits present/hidden in the reviews.\n",
        "The sentiment analysis requires a lot to be taken into account mainly due to the preprocessing involved to represent raw text and make them machine-understandable. Usually, we stem and lemmatize the raw information and then represent it using TF-IDF, Word Embeddings, etc. However, provided the state-of-the-art NLP models such as Transformer based BERT models one can skip the manual feature engineering like TF-IDF and Count Vectorizers.\n",
        "In this short span of time, we would encourage you to leverage the ImageNet moment (Transfer Learning) in NLP using various pre-trained models.\n",
        "\n",
        "# Dataset Description:\n",
        "Train.csv - 6364 rows x 4 columns (Inlcudes Sentiment Columns as Target)\n",
        "Test.csv - 2728 rows x 3 columns\n",
        "Sample Submission.csv - Please check the Evaluation section for more details on how to generate a valid submission\n",
        "\n",
        "# Attribute Description:\n",
        "Text_ID - Unique Identifier\n",
        "Product_Description - Description of the product review by a user\n",
        "Product_Type - Different types of product (9 unique products)\n",
        "Class - Represents various sentiments\n",
        "0 - Cannot Say\n",
        "1 - Negative\n",
        "2 - Positive\n",
        "3 - No Sentiment\n",
        "\n",
        "# Skills Required:\n",
        "NLP, Sentiment Analysis\n",
        "Feature extraction from raw text using TF-IDF, CountVectorizer\n",
        "Using Word Embedding to represent words as vectors\n",
        "Using Pretrained models like Transformers, BERT\n",
        "Optimizing multi-class log loss to generalize well on unseen data"
      ]
    },
    {
      "cell_type": "markdown",
      "id": "71281eb0",
      "metadata": {
        "id": "71281eb0"
      },
      "source": [
        "# Importing Libraries"
      ]
    },
    {
      "cell_type": "code",
      "execution_count": 30,
      "id": "c43cf7bc",
      "metadata": {
        "id": "c43cf7bc"
      },
      "outputs": [],
      "source": [
        "import pandas as pd\n",
        "import numpy as np\n",
        "import matplotlib.pyplot as plt\n",
        "from sklearn.preprocessing import LabelEncoder\n",
        "from sklearn.metrics import accuracy_score,classification_report,confusion_matrix\n",
        "from tensorflow.keras.layers import LSTM\n",
        "from tensorflow.keras.layers import Dense\n",
        "from tensorflow.keras.models import Sequential\n",
        "from tensorflow.keras.layers import Embedding\n",
        "from tensorflow.keras.layers import ReLU\n",
        "from tensorflow.keras.layers import Dropout\n",
        "from tensorflow.keras.optimizers import Adam\n",
        "from nltk.corpus import stopwords\n",
        "from nltk.stem import PorterStemmer\n",
        "from nltk.tokenize import word_tokenize,sent_tokenize"
      ]
    },
    {
      "cell_type": "markdown",
      "id": "82f4b3d7",
      "metadata": {
        "id": "82f4b3d7"
      },
      "source": [
        "# Importing the Dataset\n"
      ]
    },
    {
      "cell_type": "code",
      "execution_count": 31,
      "id": "4c2b74aa",
      "metadata": {
        "colab": {
          "base_uri": "https://localhost:8080/",
          "height": 206
        },
        "id": "4c2b74aa",
        "outputId": "40669225-14a8-448a-d92a-6eb190de62d0"
      },
      "outputs": [
        {
          "data": {
            "text/html": [
              "<div>\n",
              "<style scoped>\n",
              "    .dataframe tbody tr th:only-of-type {\n",
              "        vertical-align: middle;\n",
              "    }\n",
              "\n",
              "    .dataframe tbody tr th {\n",
              "        vertical-align: top;\n",
              "    }\n",
              "\n",
              "    .dataframe thead th {\n",
              "        text-align: right;\n",
              "    }\n",
              "</style>\n",
              "<table border=\"1\" class=\"dataframe\">\n",
              "  <thead>\n",
              "    <tr style=\"text-align: right;\">\n",
              "      <th></th>\n",
              "      <th>Text_ID</th>\n",
              "      <th>Product_Description</th>\n",
              "      <th>Product_Type</th>\n",
              "      <th>Sentiment</th>\n",
              "    </tr>\n",
              "  </thead>\n",
              "  <tbody>\n",
              "    <tr>\n",
              "      <th>0</th>\n",
              "      <td>3057</td>\n",
              "      <td>The Web DesignerÛªs Guide to iOS (and Android...</td>\n",
              "      <td>9</td>\n",
              "      <td>2</td>\n",
              "    </tr>\n",
              "    <tr>\n",
              "      <th>1</th>\n",
              "      <td>6254</td>\n",
              "      <td>RT @mention Line for iPad 2 is longer today th...</td>\n",
              "      <td>9</td>\n",
              "      <td>2</td>\n",
              "    </tr>\n",
              "    <tr>\n",
              "      <th>2</th>\n",
              "      <td>8212</td>\n",
              "      <td>Crazy that Apple is opening a temporary store ...</td>\n",
              "      <td>9</td>\n",
              "      <td>2</td>\n",
              "    </tr>\n",
              "    <tr>\n",
              "      <th>3</th>\n",
              "      <td>4422</td>\n",
              "      <td>The lesson from Google One Pass: In this digit...</td>\n",
              "      <td>9</td>\n",
              "      <td>2</td>\n",
              "    </tr>\n",
              "    <tr>\n",
              "      <th>4</th>\n",
              "      <td>5526</td>\n",
              "      <td>RT @mention At the panel: &amp;quot;Your mom has a...</td>\n",
              "      <td>9</td>\n",
              "      <td>2</td>\n",
              "    </tr>\n",
              "  </tbody>\n",
              "</table>\n",
              "</div>"
            ],
            "text/plain": [
              "   Text_ID                                Product_Description  Product_Type  \\\n",
              "0     3057  The Web DesignerÛªs Guide to iOS (and Android...             9   \n",
              "1     6254  RT @mention Line for iPad 2 is longer today th...             9   \n",
              "2     8212  Crazy that Apple is opening a temporary store ...             9   \n",
              "3     4422  The lesson from Google One Pass: In this digit...             9   \n",
              "4     5526  RT @mention At the panel: &quot;Your mom has a...             9   \n",
              "\n",
              "   Sentiment  \n",
              "0          2  \n",
              "1          2  \n",
              "2          2  \n",
              "3          2  \n",
              "4          2  "
            ]
          },
          "execution_count": 31,
          "metadata": {},
          "output_type": "execute_result"
        }
      ],
      "source": [
        "data=pd.read_csv(\"Train.csv\")\n",
        "data.head()\n"
      ]
    },
    {
      "cell_type": "markdown",
      "id": "6cf4f09f",
      "metadata": {
        "id": "6cf4f09f"
      },
      "source": [
        "WHAT IS INCLUDED IN EDA\n",
        "\n",
        "Understanding the Dataset\n",
        "\n",
        "Checking Missing Values\n",
        "\n",
        "Data Types and Structure\n",
        "\n",
        "Summary Statistics\n",
        "\n",
        "Outlier Detection\n",
        "\n",
        "Data Visualization (Histograms, Boxplots, Heatmaps, etc.)"
      ]
    },
    {
      "cell_type": "markdown",
      "id": "716a4cb9",
      "metadata": {
        "id": "716a4cb9"
      },
      "source": [
        "# Exploratory Data Analysis (EDE)\n",
        "Data shape is (6364, 4)\n",
        "dtypes: int64(3), object(1)\n",
        "id column has nothing to do with our model so it will be removed.\n",
        "Most of the products belong to product type 9.\n",
        "Most of the reviews in the datase are 2 means positive\n",
        "Text data deals with words, not numbers — so traditional outlier detection (like boxplots) doesn't make sense.\n",
        "Data has no missing values"
      ]
    },
    {
      "cell_type": "code",
      "execution_count": 32,
      "id": "28dbe95c",
      "metadata": {
        "colab": {
          "base_uri": "https://localhost:8080/"
        },
        "id": "28dbe95c",
        "outputId": "9063f86c-098f-4bb6-ca2e-120766cbee2e"
      },
      "outputs": [
        {
          "data": {
            "text/plain": [
              "(6364, 4)"
            ]
          },
          "execution_count": 32,
          "metadata": {},
          "output_type": "execute_result"
        }
      ],
      "source": [
        "data.shape"
      ]
    },
    {
      "cell_type": "code",
      "execution_count": 33,
      "id": "02c2e210",
      "metadata": {
        "colab": {
          "base_uri": "https://localhost:8080/"
        },
        "id": "02c2e210",
        "outputId": "6f1a212a-7970-46a7-df89-cbcd284597d5"
      },
      "outputs": [
        {
          "name": "stdout",
          "output_type": "stream",
          "text": [
            "<class 'pandas.core.frame.DataFrame'>\n",
            "RangeIndex: 6364 entries, 0 to 6363\n",
            "Data columns (total 4 columns):\n",
            " #   Column               Non-Null Count  Dtype \n",
            "---  ------               --------------  ----- \n",
            " 0   Text_ID              6364 non-null   int64 \n",
            " 1   Product_Description  6364 non-null   object\n",
            " 2   Product_Type         6364 non-null   int64 \n",
            " 3   Sentiment            6364 non-null   int64 \n",
            "dtypes: int64(3), object(1)\n",
            "memory usage: 199.0+ KB\n"
          ]
        }
      ],
      "source": [
        "data.info()"
      ]
    },
    {
      "cell_type": "code",
      "execution_count": 34,
      "id": "2cf5bd64",
      "metadata": {
        "colab": {
          "base_uri": "https://localhost:8080/",
          "height": 209
        },
        "id": "2cf5bd64",
        "outputId": "4dd98348-7434-4df0-a7c4-9ea3a1015af7"
      },
      "outputs": [
        {
          "data": {
            "text/plain": [
              "Text_ID                0\n",
              "Product_Description    0\n",
              "Product_Type           0\n",
              "Sentiment              0\n",
              "dtype: int64"
            ]
          },
          "execution_count": 34,
          "metadata": {},
          "output_type": "execute_result"
        }
      ],
      "source": [
        "# Checking missing values\n",
        "data.isnull().sum()"
      ]
    },
    {
      "cell_type": "code",
      "execution_count": 35,
      "id": "cac700d7",
      "metadata": {
        "colab": {
          "base_uri": "https://localhost:8080/"
        },
        "id": "cac700d7",
        "outputId": "7817f13d-22f8-4938-8457-1729795e7c7e"
      },
      "outputs": [
        {
          "data": {
            "text/plain": [
              "2"
            ]
          },
          "execution_count": 35,
          "metadata": {},
          "output_type": "execute_result"
        }
      ],
      "source": [
        "# Summary Statics\n",
        "data[\"Product_Type\"].mode()[0]\n",
        "data[\"Sentiment\"].mode()[0]"
      ]
    },
    {
      "cell_type": "markdown",
      "id": "25b6efc9",
      "metadata": {
        "id": "25b6efc9"
      },
      "source": [
        "## Data Visualization\n",
        "### Histogram\n",
        "Shows the distribution (spread) of a single variable.\n",
        "\n",
        "Helps to see where values are centered, whether data is skewed, or if there are peaks (modes).\n"
      ]
    },
    {
      "cell_type": "code",
      "execution_count": null,
      "id": "7cb7f4a3",
      "metadata": {
        "id": "7cb7f4a3"
      },
      "outputs": [],
      "source": []
    },
    {
      "cell_type": "code",
      "execution_count": 36,
      "id": "fdb9568d",
      "metadata": {
        "colab": {
          "base_uri": "https://localhost:8080/",
          "height": 472
        },
        "id": "fdb9568d",
        "outputId": "af91d2d3-3d62-45f1-961f-1873e91b28ab"
      },
      "outputs": [
        {
          "data": {
            "image/png": "[encoded data removed]",
            "text/plain": [
              "<Figure size 640x480 with 1 Axes>"
            ]
          },
          "metadata": {},
          "output_type": "display_data"
        }
      ],
      "source": [
        "plt.hist(x=data[\"Sentiment\"],color=\"orange\",edgecolor=\"black\",bins=10)\n",
        "plt.title(\"Sentiment Distribution\")\n",
        "plt.xlabel(\"Sentiment Type\")\n",
        "plt.ylabel(\"Frequency\")\n",
        "plt.grid(True)  # grid means the bars or boxes in backside\n",
        "plt.show()"
      ]
    },
    {
      "cell_type": "markdown",
      "id": "ee23f20b",
      "metadata": {
        "id": "ee23f20b"
      },
      "source": [
        "# Boxplot\n",
        "Summarizes data based on 5 statistics: minimum, first quartile (Q1), median (Q2), third quartile (Q3), maximum.\n",
        "\n",
        "Detects outliers and shows data spread."
      ]
    },
    {
      "cell_type": "markdown",
      "id": "2862c576",
      "metadata": {
        "id": "2862c576"
      },
      "source": [
        "# Data Preprocessing\n",
        "## Missing Values\n",
        "No missing Values"
      ]
    },
    {
      "cell_type": "code",
      "execution_count": 37,
      "id": "3939feb4",
      "metadata": {
        "colab": {
          "base_uri": "https://localhost:8080/",
          "height": 209
        },
        "id": "3939feb4",
        "outputId": "c2ba6b8a-1e15-43b1-dfc8-6a5bc4272aba"
      },
      "outputs": [
        {
          "data": {
            "text/plain": [
              "Text_ID                0\n",
              "Product_Description    0\n",
              "Product_Type           0\n",
              "Sentiment              0\n",
              "dtype: int64"
            ]
          },
          "execution_count": 37,
          "metadata": {},
          "output_type": "execute_result"
        }
      ],
      "source": [
        "data.isnull().sum()"
      ]
    },
    {
      "cell_type": "markdown",
      "id": "a1acba20",
      "metadata": {
        "id": "a1acba20"
      },
      "source": [
        "# Data Distribution\n"
      ]
    },
    {
      "cell_type": "code",
      "execution_count": 38,
      "id": "472ab758",
      "metadata": {
        "colab": {
          "base_uri": "https://localhost:8080/"
        },
        "id": "472ab758",
        "outputId": "bfe36591-deda-43a2-d426-384ce92f631d"
      },
      "outputs": [
        {
          "data": {
            "text/plain": [
              "Index(['Text_ID', 'Product_Description', 'Product_Type', 'Sentiment'], dtype='object')"
            ]
          },
          "execution_count": 38,
          "metadata": {},
          "output_type": "execute_result"
        }
      ],
      "source": [
        "data.columns"
      ]
    },
    {
      "cell_type": "code",
      "execution_count": 39,
      "id": "6ed78766",
      "metadata": {
        "id": "6ed78766"
      },
      "outputs": [],
      "source": [
        "# Removing unnecessary columns\n",
        "data=data.drop([\"Product_Type\",\"Text_ID\"],axis=1)"
      ]
    },
    {
      "cell_type": "code",
      "execution_count": 40,
      "id": "5d205cb0",
      "metadata": {
        "id": "5d205cb0"
      },
      "outputs": [],
      "source": [
        "X=data[\"Product_Description\"]\n",
        "y=data[\"Sentiment\"]"
      ]
    },
    {
      "cell_type": "code",
      "execution_count": 41,
      "id": "KJHfRPwnLson",
      "metadata": {
        "colab": {
          "base_uri": "https://localhost:8080/"
        },
        "id": "KJHfRPwnLson",
        "outputId": "d6909876-19b8-430d-a826-934b5d3d5225"
      },
      "outputs": [
        {
          "name": "stderr",
          "output_type": "stream",
          "text": [
            "[nltk_data] Downloading package stopwords to\n",
            "[nltk_data]     C:\\Users\\NEW\\AppData\\Roaming\\nltk_data...\n",
            "[nltk_data]   Package stopwords is already up-to-date!\n"
          ]
        },
        {
          "data": {
            "text/plain": [
              "True"
            ]
          },
          "execution_count": 41,
          "metadata": {},
          "output_type": "execute_result"
        }
      ],
      "source": [
        "import nltk\n",
        "nltk.download('stopwords')"
      ]
    },
    {
      "cell_type": "markdown",
      "id": "6d848fbe",
      "metadata": {
        "id": "6d848fbe"
      },
      "source": [
        "# NLP\n",
        "## Stemming\n"
      ]
    },
    {
      "cell_type": "code",
      "execution_count": null,
      "id": "7a6969aa",
      "metadata": {
        "colab": {
          "base_uri": "https://localhost:8080/"
        },
        "id": "7a6969aa",
        "outputId": "6194e7fd-002f-4e6a-9d64-cd025b46ee57"
      },
      "outputs": [
        {
          "data": {
            "text/plain": [
              "['web designer\\x89ûª guid io (and android) apps, today @mention 10 a.m! {link} #sxsw',\n",
              " 'rt @mention line ipad 2 longer today yesterday. #sxsw // get line today fun?',\n",
              " 'crazi appl open temporari store austin tomorrow handl rabid #sxsw eye pad seekers.',\n",
              " 'lesson googl one pass: digit environment, user want purchas across everi platform one tool. #sxsw #elonsxsw',\n",
              " 'rt @mention panel: &quot;your mom ipad, design boomers&quot; #sxsw',\n",
              " 'rt @mention think ef hubbi line #ipad 2. someon point toward line-up wife number #2. #sxswi #sxsw',\n",
              " '&quot;android user iphon users. (they use option menu, contextu menu)&quot; ~@mention #sxsw',\n",
              " 'wow! rt@mention interrupt regularli schedul #sxsw geek program big news {link} #googl #circl',\n",
              " 'googl launch new social network call circles, possibl today {link} {link} #sxsw #in',\n",
              " '@mention welcome! enjoy #sxsw ride anywher austin $10 . dwnld #groundlink app{link} booth 437',\n",
              " 'rt @mention appl plan keep austin wired, open pop-up appl store #sxsw {link}',\n",
              " 'yeay! rt @mention new #ubersoci #iphon app store includ uberguid #sxsw sponsor #masha {link}',\n",
              " 'know #sxsw season 10 app updat whenev open iphon app store',\n",
              " 'rt @mention rt @mention arriv us #sxsw, look microsim data iphon // recommend @mention',\n",
              " '\\x89ûï@mention rumor: appl open temporari store downtown austin #sxsw ipad 2 launch {link}',\n",
              " 'horribl repress memori appl spin beach ball come back #progressbar talk. #sxsw',\n",
              " '@mention saw man drop iphon gutter last year. #sxsw',\n",
              " 'rt @mention #social import #googl screw big launch circu {link} via @mention #sxsw',\n",
              " 'rt @mention second day business, appl pop-up store appear trending. #sxsw #vb (@mention appl store, sxsw) [pic]: {link}',\n",
              " 'brace audio onslaught #sxsw enjoy free music sampler itunes: {link} #featuredartist',\n",
              " '#sxsw #enchantment: @mention &quot;sel dream. steve job say: iphon $188 parts+at&amp;t, made ppl suicid chines',\n",
              " 'thank heathcar digit @mention publish news new medic app showcas #sxsw {link} #sxswh',\n",
              " 'tomorrow, charl chen speak android chromeo access @mention googl booth exhibit hall 3 @mention 1pm #sxsw',\n",
              " 'ipad 2 hand, awesom dude gave cutsi 3 hour line. #austin #appl #sxsw #win',\n",
              " 'adapt retail -- appl open pop-up shop #sxsw. skill done, cupertino: {link}',\n",
              " 'realli like #sxsw iphon app... thank make event app. appear work well!!!',\n",
              " 'rt @mention tweet regist exclus pass events, parti + ipad 2 #sxsw - &quot;giv m\\x89û_ (cont) {link}',\n",
              " 'rt: @mention rt @mention travel #sxsw ipad 1 3/10/2011',\n",
              " 'win free ipad 2 webdoc.com #sxsw rt (awesom tech right here)',\n",
              " 'ouch! googl v bing? @mention respect, bing guy invit fill third chair?#sxsw',\n",
              " 'rt @mention best thing heard wknd #sxsw &quot;i gave ipad 2 money #japan relief. need ipad 2.&quot;',\n",
              " 'austin get full, #sxsw underway. tell iphon intermitt brick. #crowd',\n",
              " '#sxsw tweets, android user attendong sxsw? pleas report scene bannka app. {link}',\n",
              " 'rt @mention barton hollow free song download &amp; featur album @mention @mention 2011 featur mix! {link} #itun #sxsw',\n",
              " '#sxsw recommend engin session fantastic! thank #googl #pandora #youtub #stumbledupon.',\n",
              " 'coupl evo vs. iphon video! #sxsw {link}',\n",
              " '#sxsw @mention parti (@mention lustr pearl bar team android sxsw w/ @mention @mention {link}',\n",
              " 'rt @mention need late night snack? @mention discov fill option sxswi recap day 3! {link} #sxsw #yum',\n",
              " 'appl plan keep austin wired, open pop-up appl store #sxsw {link}',\n",
              " '@mention #sxsw ipad talk along line ipad talk 360idev? basic differ content?',\n",
              " 'n33: love town {link} [code valid: 12:00-3:59:59p 03/14/11] #infektd #sxsw #necro',\n",
              " 'smoke way much yesterday! hahaha #austin #wakenbak paint android parti tonight #sxsw #androidsxsw {link}',\n",
              " 'n7: - time alway us {link} [code valid: 4:00-7:59:59p 03/11/11] #infektd #sxsw #necro',\n",
              " 'like see @mention appli technolog art project. #sxsw',\n",
              " \"@mention claim android phone everywher last year' #sxsw. dude, io android ratio like 15-to-1. iphon 4 everywher\",\n",
              " 'hitlanti ipad. cool song explor app. hitlantis.com. #sxsw #musicviz',\n",
              " 'rt: @mention woman plane next nook, blackberri curve, android ipad purse. #sxsw!',\n",
              " 'true rt @mention tablet/phone/laptop evid #sxsw might well call countri unit state apple. #sxswsa',\n",
              " \"{link} guy kawasaki talk 'enchanted' sxsw - know stuff! #book #internet #appl #sxsw\",\n",
              " '#sxsw need best android dev here. html5/j issu need solv quickly. handsom reward love grabs.',\n",
              " 'rt @mention saw preview new @mention ipad app. awesome. #sxsw',\n",
              " \"rt @mention diller: would product ipad one form factor today' multichannel, multi platform world? #sxsw #ketchsx\",\n",
              " 'friend austin @mention #sxsw, buffalo new #ipad ... there!',\n",
              " 'rt @mention rt @mention @mention launch major new social network call #circles, possibl today! {link} #sxsw #smm &gt;&gt;realli google? now?',\n",
              " 'rt @mention appl set 5,000-square-foot temporari store #sxsw sell new ipads, test potenti traffic {link}',\n",
              " 'mani good place rt @mention race around #sxsw best fuel great local fare {link}',\n",
              " '@mention might need go appl today. think &quot;s&quot; &quot;x&quot; &quot;w&quot; key worn out. #sxsw',\n",
              " 'great #sxsw ipad app @mention {link}',\n",
              " 'abl afford attend #sxsw buy ipad today, consid save $$$ japan earthquak relief. sayin. #fb',\n",
              " 'enjoy #sxsw california (hollywood + silicon valley) meet nyc sunni austin by-the-pool cowboy boot + ipad vibe. #sxswi',\n",
              " 'marissa mayer: #googl connect #digit &amp; physic world #mobil {link} #sxsw',\n",
              " 'head @mention #pvhouse? first 2 snacker tweet us &amp; find one popchick #win iphon 4 case! #sxsw',\n",
              " 'rt @mention appl open pop-up store austin #sxsw (aapl) {link}',\n",
              " 'want buy #ipad2, temporari #appl store open austin #sxsw - {link}',\n",
              " '@mention @mention thank love! show us iphon via twitpic share love ;] #zazzlesxsw #sxsw',\n",
              " 'rt @mention rt @mention rt @mention googl launch major new social network call circles, possibl today {link} #sxsw (cool)',\n",
              " 'pop-up appl store seem pop-up ipad2s. #sxsw',\n",
              " '25 indi song rock: variou artist #sxsw: featur artist - {link} #itun',\n",
              " \"packed. mani #appl devices. alarm set 5:15am. see ya'll #sxsw. psych meet (finally) mani guys!\",\n",
              " 'pen paper, iphone, &amp; ipad immedi use session media analytics. need hit #sxsw wall.',\n",
              " 'discuss pubsubhubbub: {link} #fsw #sxsw',\n",
              " 'sounds...fantastic. rt @mention googl party...awesome. #sxsw',\n",
              " 'rt @mention googl circl take facebook? {link} #circl #sxsw',\n",
              " 'googl party. photo booth fun. #sxsw {link}',\n",
              " \"wonder mani #ipad2' #appl sell #sxsw. {link}\",\n",
              " 'quantter launch iphon app soon. particip launchrock comp #sxsw {link}',\n",
              " 'download free @mention sampler band play #sxsw here: {link}',\n",
              " 'rt @mention check design ipad interfac - new navig schema sxsw. {link} #sxsw #uxd',\n",
              " '\\x89ûï@mention googl launch major new social network call circles, possibl today {link} #sxsw\\x89û\\x9d #hnwsxsw',\n",
              " 'keep new #japan quak iphon #sxsw - nhk world tv live {link}',\n",
              " 'need buy ipad2 austin #sxsw. sure need q austin appl store?',\n",
              " 'ipad success appl popup store austin! #appl #sxsw {link}',\n",
              " \"asked, &quot;whi should(n't) get ipad 2?,&quot; earlier today. far 3 peopl get 2 for. thoughts? #sxsw #sxswi\",\n",
              " 'line around austin appl pop-up store? unbelievable. #sxsw #technolog #junki',\n",
              " 'build android io applications? got tool - #sxsw ballroom 11:00',\n",
              " '@mention &quot;south by&quot; drive-bi baby!! adventure!! #sxsw #ipad #fb {link}',\n",
              " 'guy next care studi &quot;best parti #sxsw 11&quot; spreadsheet made ipad. ipad 1. n00b!',\n",
              " 'rt @mention special appl store: open 6th congress sxsw &amp; ipad 2 launch. www.apple.com/retail/thedomain/ #appl #ipad2 #sxsw #fb',\n",
              " 'restor appl made smart phone, unleash hell #sxsw.',\n",
              " '\\x89ûïline move fast! rt @mention seen two impress line sinc #sxsw one appl store &amp; @mention parti',\n",
              " 'mike tyson appear #sxsw promot iphone/ipad game {link} #seo #sem #game #miketyson #topnew',\n",
              " 'def could use ipad #sxsw today. tweet via iphon sorta pretti much sux.',\n",
              " 'first tweet plane: feedback #gogo. registr via fb connect twitter? paypal googl integr pay you? #sxsw',\n",
              " '#sxsw come #privacybootcamp startup @mention @mention google, facebook acc 9abc. start now. #sxswi',\n",
              " 'rt @mention ipad, tablet, etc aid greater adopt mobil devic screen size larger #mobilefarm #sxsw',\n",
              " '#lonelyplanet #austin iphon app (free!) godsend. gps-awar map citi without need 3g wifi! #sxsw',\n",
              " 'download day: lone planet austin, free limit time {link} #iphon',\n",
              " '@mention \\x89ûï@mention pop appl store austin still ipad2 stock? #lazyweb #sxsw\\x89û\\x9d',\n",
              " 'head free google-sponsor happi hour semant web austin @mention fogo de chìáo #sxsw',\n",
              " \"like @mention download 'freak jet' iphone. hilarious. see learn new stuff #sxsw\",\n",
              " 'rt @mention domo io android got released! @mention #domo #tonchidot #boom #sxsw',\n",
              " 'rt @mention hey #sxsw, tri earli iphone/android beta hitcheri let us know think! {link}',\n",
              " 'rt @mention appl like pay them. long gadget like many, close system work. #pnid #sxsw',\n",
              " 'rt @mention kick #sxswi @mention give away ipad 2... visit fb page enter: {link} #sxsw',\n",
              " 'yes, googl parti *does* glow cups! #sxsw {link}',\n",
              " '@mention thank appl store #sxsw retweet.',\n",
              " 'rt @mention rt @mention googl launch major new social network call circles, possibl today {link} #sxsw',\n",
              " '#sxsw 2011: novelti #ipad news app fade fast among digit deleg {link}',\n",
              " '#googl real time locat data layer googl earth give breathtak visual data #sxsw',\n",
              " \"think #sxsw taken upon make clear gen 1 iphon ain't gonna cut anymore.\",\n",
              " \"should/shouldn't get ipad 2? discuss :-) #sxsw\",\n",
              " '9 essenti app #sxsw beyond | underwir | wired.com {link} #socialmedia #iphon #android',\n",
              " \"would (via @mention apple' open pop-up store austin nerd @mention #sxsw get new ipads. {link} #cnet\",\n",
              " '40% googl map use mobil #sxsw',\n",
              " 'check out! great &amp; v. effect enviro app @mention : bin - {link} (iphon 3gs+) #sxsw #sxswi #greatergood',\n",
              " 'googl prefer launch hype new social featur meh, bang? via tc {link} #sxsw',\n",
              " 'free &quot;pay #android platform&quot; webinar march 30th - regist today! {link} #sxsw ^mr',\n",
              " 'regist privat beta win appl tv #sxsw! visit {link} detail',\n",
              " 'hhaha @mention intimid iphon app develop meetup leave. #sxsw',\n",
              " 'line might start bit slow 4:45pm easili wrap around ... #ipad #sxsw #gadget {link}',\n",
              " '@mention know this: googl develop day sxsw {link} #austin #sxsw @mention',\n",
              " 'whoa. hang on. saw someon without iphone!! #sxsw',\n",
              " 'earli purchas #ipad 2 awesom sweepstak giveaway game #sxsw! detail come soon!',\n",
              " 'leav bag home today; travel light ipad hand. realli need lug around impedimenta. #sxsw',\n",
              " 'appl open temp store 6th congress downtown austin ipad 2 releas sxsw #sxsw',\n",
              " 'rt @mention #sxsw tradeshow floor: engag w/ multi-touch interact wall, take part augment realiti 3d enter win ipad.',\n",
              " 'guy get tattoo compani #logo win ipad ... {link} #sxsw',\n",
              " \"google' marissa mayer: &quot;th mobil phone cursor connect physic digit worlds.&quot; #sxsw {link}\",\n",
              " \"q&amp;a google' @mention &amp; bing' @mention rank - #sxsw session mon 12:30pm {link}\",\n",
              " '#iphon #android app keep groov #sxsw {link}',\n",
              " 'line ipad 2 #sxsw. {link}',\n",
              " \"nice find rsq' @mention {link} #sxsw #ipad #app\",\n",
              " 'true! rt @mention best hungri #sxsw tip: mekong river, great vietnames {link} 6th st. till 11pm via @mention',\n",
              " 'googl get social texas? {link} #chrismessina #facebook #googl #googlecircl #sxsw #twitter',\n",
              " '#fsw #sxsw want know spec pars ajax link {link}',\n",
              " 'happi pi day! (if googl launch circl pi day, exist) #sxsw',\n",
              " '#sxsw social hackathon session google, bing, webtrend chzbrgr. go figur mpls/st paul #bolinsxsw',\n",
              " 'look like may abl fork cash new #ipad2 ##sxsw {link}',\n",
              " \"love it. @mention #sxsw: &quot;appl come cool technolog one' ever heard go conferences&quot;\",\n",
              " 'rt @mention readwriteweb report googl might launch new social network #sxsw today -- {link}',\n",
              " 'marissa meyer demo googl augment realiti #sxsw {link}',\n",
              " '@mention rumor: appl open temporari store downtown austin #sxsw ipad 2 launch bit.ly/g03mzb',\n",
              " 'win #openbeta6 ipad @mention #sxsw panel {link} today @mention 11! #usguy cc @mention #dgtltribe #sxswbuffalo',\n",
              " 'msc_page: guy get tattoo sxsw could win free ipad2 {link} #sxsw #tattoo #ipad\\x89û_ {link} #allshar',\n",
              " 'left #sxsw tradeshow demo @mention googl theatre. ok, get it. see present use it.',\n",
              " 'come ladies! @mention @mention rt @mention austin convent center w/ @mention show iphon game. #sxsw',\n",
              " '#4sq see facebook googl competit via @mention #checkin #sxsw',\n",
              " 'ahhh, darn :( rt @mention @mention @mention accord @mention googl confirm launch #sxsw, all.',\n",
              " 'wow&lt;&lt;\\x89ûï@ment googl launch major new social network call circles, possibl today {link} #sxsw\\x89û\\x9d',\n",
              " 'rt @mention appl sell ipad 2 #sxsw. california great build cult followings. {link}',\n",
              " 'even begins, appl win #sxsw {link} via @mention',\n",
              " 'threw togeth keep ipad attempt keep hour stuff weekend. #sxsw {link}',\n",
              " 'platform concertgo launch #android #app time #sxsw {link} via @mention #music #event #liveshow',\n",
              " \"itun #free #sxsw sampler featur select 23 year' performers. {link}\",\n",
              " 'rt @mention win awesom ipad quibid custom @mention case catch #sxsw wear openbeta vip badge!',\n",
              " 'rt @mention rt @mention lose hour tonight. #sxsw attende blame microsoft, appl get credit fix christmas.',\n",
              " '1st injuri #sxsw? bicycl + stupid + concret = ouch. {link} fortun still abl type iphone. schedule!',\n",
              " 'rt @mention beluga iphon app highlight #sxsw. excel way coordin #sxsw4japan relief effort.',\n",
              " 'bore #sxsw, tri iphon app: {link}',\n",
              " '@mention @mention @mention thank make great products! great make #sxsw parti podcast {link}',\n",
              " 'third time charm?&gt;&gt;&gt; #googl launch new social network #sxsw? - cnet news {link}',\n",
              " 'ten percent crowd &quot;design ipad interfaces&quot; alreadi ipad2. #sxsw',\n",
              " \"aight, here' wed + thur list #sxsw possibilities: {link} hope see twitter bud + atx week!\",\n",
              " \"anyon know android dev #sxsw? let know - there' startup need help.\",\n",
              " 'ha! rt @mention rumor: appl open temporari store downtown austin #sxsw &amp; ipad 2 launch {link}',\n",
              " '\\x89ûïthe classiest fascist compani existence\\x89û\\x9d - kara swisher #sxsw #appl',\n",
              " 'rt @mention abt surpris custom wait line appl store austin #ipad 2 @mention ! #sxsw #cbatsxsw / awesom',\n",
              " \"rt @mention temp appl store 6th st austin #sxsw close night &quot;they'r stuff' say austin cop bar door!\",\n",
              " 'rt enter contest mayb win ipad 2 @mention #sxsw',\n",
              " '#sxsw apptastic! {link} #android #app #develop #io #iphon #smartphon',\n",
              " '@mention @mention googl places, @mention one check to? need check-in aggregator! #sxsw #sxswedu',\n",
              " 'rt @mention use ipad 2 someon give me. otherwise, iphon actual task #sxsw',\n",
              " 'rt @mention googl launch major new social network call circles, possibl today {link} #sxsw',\n",
              " 'love #sxsw alt univers everyon use appl product @mention fastest way reach someon',\n",
              " 'googl announc check-ins: sxsw location-bas geo-fenc applic - {link} #ireport #wssxsw #sxsw #scrm #sm #market',\n",
              " 'hope may someday keynot swsx! rt @mention bore keynot #sxsw, ipad {link}',\n",
              " 'grab @mention #betainvit #sxsw! @mention new android camera, rais $1.1m valley player bit.ly/ea1zgd /via @mention',\n",
              " 'meet guy bought first #ipad 2 #sxsw #appl pop-upåêstor {link} via @mention',\n",
              " 'rt @mention less 2 hour announc detail ipad 2 giveaway! #sxsw #sxswi',\n",
              " 'love googl analytics! thank follow #sxsw took time check new post!',\n",
              " 'come parti w/ @mention googl tonight #sxsw: {link} bands, food, art, ice cream, nifti interact maps!',\n",
              " 'googl collect data type request receiv govern global - #privacybootcamp #sxsw',\n",
              " 'forget disneyland... appl pop-up store austin happiest place earth #sxsw',\n",
              " 'rt @mention googl preview updat blogger interfac #sxsw {link}',\n",
              " '#sxsw -- &quot;th shape citi expand/contract real time data&quot;. googl develop encourag audienc googl &quot;map japan&quot;.',\n",
              " \"@mention takin' #galaxys4g 4 test drive @mention #sxsw n c #tmobil #4g hold pack downtown #atx #austintx #samsunggalaxi #android\",\n",
              " 'enjoy resurg \\x89ûï@mention austin convent center today w/ @mention fam... show new iphon game. #sxsw\\x89û\\x9d',\n",
              " 'help decid panel go next: futur social photographi googl doodles: burn man pac-man beyond. #sxsw',\n",
              " '@mention @mention @mention googl launch major new social network call circles,rww.to/f6bcet #sxsw',\n",
              " \"someon go ask bing copi google' search results? #qagb #sxsw #seo\",\n",
              " 'googl recreat code pac-man doodle, origin bug included. #sxsw #googledoodl',\n",
              " 'nice @mention iphon app behav today. crash yesterday ridiculous. #sxsw',\n",
              " 'check ipad 2 @mention #sxsw pop-up store (@mention appl store, sxsw w/ 17 others) {link}',\n",
              " 'appl store downtown austin open til midnight. #sxsw',\n",
              " 'rt @mention #sxsw @mention rock casbah @mention @mention #partylikeits1986 digit right {link}',\n",
              " 'expect mob scene w 6th st &amp; congress {link} #sxsw #ipad2',\n",
              " 'rt @mention even begins, appl winsåê#sxsw, {link} -&gt; gonna get sum! via @mention',\n",
              " 'bout time! rt @mention new #ubersoci #iphon app store includ uberguid #sxsw sponsor (cont) {link}',\n",
              " 'tristan h, apture: fast &amp; iter w news content mean googl find first. #sxsw #hacknew #drumbeat #mojo',\n",
              " 'ad linkedin =) - hootsuit mobil #sxsw ~ updat iphone, blackberri &amp; android {link}',\n",
              " 'want win ticket (1) #sxsw party? rule simple! {link} | android unit - android news mass #android',\n",
              " 'ok,i seen two impress line sinc #sxsw one appl store yesterday. &amp; @mention parti cc @mention',\n",
              " 'two ipad observ #sxsw. vast major peopl use them. seen lot 2s today. look nice. #appletakingoverworld',\n",
              " '@mention say feel sexier use @mention product:-) #sxsw-influenc',\n",
              " 'usa today ipad: make good use digit shortcut still look like newspaper. @mention #tapworthi #sxsw',\n",
              " 'took day (unplugged) visit family. anyon #sxsw highlights? googl reader burst seams!',\n",
              " 'compil #sxsw list one googl doc take lot longer thought... mani parties. mani good musicians.',\n",
              " '@mention vs @mention vs @mention #sxsw. thing heat up! &quot;googl offer check-in reward &amp; titles&quot; {link} - #lb',\n",
              " 'ipad 2 purchased. 90 sunny. tan. 4square. far good #sxsw.',\n",
              " 'grate aclu/googl earplug right #sxsw',\n",
              " 'head #sxsw want share/gath contact info? {link} turn iphon a... {link}',\n",
              " 'line form popup appl store, sign appl yet. #sxsw {link}',\n",
              " '@mention -&gt; rt @mention new #ubersoci #iphon app store includ uberguid #sxsw (cont) {link}',\n",
              " 'smart @mention #hollergram ipad app #sxsw! {link} (may leav vuvuzela home now)',\n",
              " 'googl heat map global searches. #sxsw #hotpot {link}',\n",
              " 'rt @mention slide #sxsw talk, &quot;ipad design headach &quot; {link} #tapworthi . realli interest design well.',\n",
              " \"anyon know @mention store #sxsw still ipad 2' stock?\",\n",
              " 'arriv #sxsw @mention issu resolved. die use iphon app cant login. rt@mention @mention',\n",
              " 'watch @mention cover ipad 2 launch live appl pop-up store austin #sxsw {link}',\n",
              " 'rt @mention #ipad2 live unbox front #sxsw appl store [video] {link}',\n",
              " '#win pictur #android #googl #sxsw {link}',\n",
              " 'rt @mention marissa mayer: googl connect digit &amp; physic world mobil - {link} #sxsw',\n",
              " '.@mention @mention &quot;w get feedback #sxsw group &amp; push android fix grill chees stand yesterday.&quot;',\n",
              " 'googl launch social network #sxsw today?',\n",
              " 'googl launch major new social network call circles, possibl today {link} #circl #sxsw',\n",
              " 'engag #sxsw filter @mention iphone/ipod twitter app. #youkidshavefun',\n",
              " \"appl open 'pop up' temporari store #sxsw ipad 2 launch {link} via @mention\",\n",
              " 'check @mention rout {link} ; rsvp -&gt; https://www.facebook.com/event.php?eid=141164002609303 #sxswi #sxsw',\n",
              " '@mention saw lax head #sxsw wife iphon ipad download app #freespeech @mention',\n",
              " 'white #ipad2 64gig wifi avail #austin #sxsw #appl popup store right now, wait!',\n",
              " 'rumor #sxsw--could true? - googl launch secret new social network call &quot;circles&quot; {link}',\n",
              " '#ipad lounge: recharge, coffee, h2o, ipad art show-free, daili #sxsw 106 e 8th congress åç austin detail {link}',\n",
              " '\\x89ûï@mention ipad 2 sold out, 70% went new buyer [report] - {link} #sxsw #socialmedia #tech #ipad2 #media\\x89û\\x9d',\n",
              " 'dl #calyp app get #calyp casa #sxsw free mobil app avail itun app store &amp; android market. see u there!',\n",
              " 'appl open pop-up store austin #sxsw {link} (via @mention',\n",
              " 'play gun bro xperia play googl leagu event park lot #teamandroid event #xperiaplay sunday #sxsw @mention',\n",
              " 'knew pli @mention beer stogi last night weasel way team android parti tonight. #success #sxsw.',\n",
              " 'put ipad idiot! #smcomedyfyeah #sxsw',\n",
              " \"#sxsw folk look ipad 2's: pop-up appl store still stock (a colleagu pick one up) #protip\",\n",
              " 'contest juan win last @mention commut case #iphon 4 ! 2 $50 gift card left! #cbatsxsw #sxsw',\n",
              " 'someon start #austin @mention group googl groups, pre-#sxsw. great idea',\n",
              " '@mention what, *the* guy kawasaki? former appl evangelist? wanw! #sxsw',\n",
              " 'kind funny/sad ipad releas line longer parti line (i saw) #sxsw last night. #sheepl',\n",
              " 'rt @mention #sxsw? forget come #privacybootcamp startup @mention @mention @mention @aclu acc 9abc 3:30!',\n",
              " 'stuck inthat long a$$ line appl store? come check us out! next block across driskill! #appl #sxsw #wam',\n",
              " 'record #sxsw experi iphone. {link}',\n",
              " 'radio 3.0 look new band radio show. listen: {link} {link} #nowplay #newmus #sxsw pl rt',\n",
              " 'it! rt find hottest spot @mention w/ @mention hot spot #sxsw app #wp7 {link} iphon {link}',\n",
              " 'hello gigant line outsid googl v bing seo session. #sxsw #sxswi',\n",
              " '@mention hey, line! #sxsw #appl',\n",
              " 'listen offici #sxsw mixtape: {link}',\n",
              " 'gsd&amp;m google.....sit tree {link} #sxsw #gsdm',\n",
              " 'rt @mention 200 line #sxsw appl pop store',\n",
              " '[softlay blog] softlay #sxsw server challeng - video - {link} \\x89äá tri yet? ipad 2 could yours!',\n",
              " 'success! blah panel found open outlet charg old ipad. #sxsw #fb',\n",
              " 'googl launch major new social network call circles, possibl today (updated) #sxsw {link}',\n",
              " \"look forward hear google' @mention present today #sxsw\",\n",
              " '@mention &quot;omg gonna miss 2 panel #sxsw stand line 1 panel play new ipad, worth it. #ponies&quot;',\n",
              " 'interview w marissa mayer #sxsw googl 3.0, work larri differ work eric {link}',\n",
              " \"wow. shakespeare' pub 6th st. here' delet button iphon video camera. #sxsw\",\n",
              " '#sxsw pepsi max market street team shown popup appl store line hand drink &amp; tshirts. {link}',\n",
              " 'rt @mention hire marketers, designers, creatives, social media pros... come see #aquent booth 1415 #sxsw trade show. might win ipad 2',\n",
              " '@mention #sxsw folk pretti kool-aid-drink bunch. think android tablet hardcor linux nerds. let know',\n",
              " 'rt @mention #sxsw line 100 outsid appl pop- store sixth &amp; congress',\n",
              " 'geniu move appl open temp. store downtown austin #sxsw: {link} /via @mention #ipad2',\n",
              " 'rt @mention blogger due update... googl take action showcas new design #sxsw {link}',\n",
              " \"shout ladi hold ipad 2' free #sxsw show take photo sip free beer. /cc: @mention\",\n",
              " 'rt @mention #sxsw, meet author, host android devs, sat. 12:30pm, hilton room 615ab.',\n",
              " 'marissa mayer: googl map better custom service, quicker responses. #sxsw #fh',\n",
              " 'rt @mention listen @mention discuss new interact paradigm design ipad #uxd #sxsw',\n",
              " 'sure {link} doubl rainbow kind day right now. #googl #sxsw',\n",
              " '@mention head austin #sxsw? @mention austin guid iphon free limit time {link} #lp #travel',\n",
              " \"@mention recount batshit insan doubl &quot;creativity&quot; ensur &quot;don't suck&quot;. googl 'michael room groupon' #sxsw\",\n",
              " 'midday, iphon mid-battery. outlet, block immobil booth, serv purpos taunt me. #sxsw {link}',\n",
              " '#sxsw #macallan formula success day sxsw - good sessions, ipad, glass macallan singl malt. {link}',\n",
              " 'rt @mention sxsw, appl school market experts: {link} via @mention #sxsw #appl #market',\n",
              " 'hey @mention roll tractor trailer 2, full ipad #sxsw, bet would sell entir inventori out! #justsay',\n",
              " 'shock see googl showcas blogger #sxsw - thought complet forgot servic - me?',\n",
              " 'anyon attend googl &amp; aclu parti @mention sxsw? could plz pictures? thanks! #sxsw',\n",
              " 'wait line ipad 2. said may left...cross fingers. #sxsw',\n",
              " 'rt @mention time #sxsw, @mention nfc enabl googl place door sticker! {link}',\n",
              " 'rt @mention ipad thing - addit to, place print - @mention cut #sxsw b.s. #newsapp panel',\n",
              " 'rt @mention #sxsw conf 1 everi 200 peopl mac ipad (includ me). happen pc? becom obsolete?',\n",
              " 'david carr (nyt) austin give drunken interview cnn. want app transport around nyc sit ipad #sxsw',\n",
              " 'damn! appl know like other: even begins, appl winsåêsxsw {link} via @mention #sxsw',\n",
              " 'go without saying.... googl bread go amazing!!!! #sxsw #googlebread',\n",
              " '#sxsw tradeshow floor: engag w/ multi-touch interact wall, take part augment realiti 3d enter win ipad.',\n",
              " 'everi outlet bar iphon charger it. #sxsw (@mention driskil hotel bar w/ 16 others) [pic]: {link}',\n",
              " 'googl save user 2 year time gp navig use altern rout w traffic #sxsw',\n",
              " 'rt @mention get hot! latest version whrrl avail today android, iphon - blackberry! whrrl blackberry! :-) #sxsw',\n",
              " 'peopl think rumor &quot;soci networking&quot; program #googl call #circles. late game? #sxsw',\n",
              " 'popup store de gadget da appl #sxsw {link}',\n",
              " '{link} #tc #googl #sxsw marissa mayer: 40% googl map usag mobil (and 150 million... {link}',\n",
              " 'rt @mention googl art project - like street view, except art museum around world. incl. 7 billion pixel imag starri night. dang! #sxsw',\n",
              " '3g sketchi austin #sxsw, yet @mention still work iphone. know why, sure need to, love it.',\n",
              " 'hootsuit mobil #sxsw ~ updat iphone, blackberri &amp; android {link}',\n",
              " 'official: peopl use ipad 2 take photo look weird. #sxsw',\n",
              " \"ipad2' left appl store #sxsw? anyon know? :)\",\n",
              " 'great blog latest news #sxsw ... like open #appl store? {link} #sxsw2011 @mention',\n",
              " 'rt @mention shut. up. rt @mention rumor: appl open temp store downtown austin #sxsw &amp; ipad 2 launch. {link}',\n",
              " \"flipboard' next platform iphone, ceo @mention say #sxsw\",\n",
              " \"wanna 5'6&quot; chines dude bff? bring effen iphon charger #sxsw\",\n",
              " 'interesting. rt @mention appl open pop-up shop sxsw {link} #sxsw #sxswi #popupshop #appl',\n",
              " 'check {link} - cool geo-loc app #iphone, mix music parti #sxsw #map go next year...',\n",
              " '@mention #iphon price point $49.99 make even explosion? carrier work plans? #sxsw #bolinsxsw',\n",
              " 'rt @mention googl launch major new social network call circles, possibl today #sxsw {link}',\n",
              " 'rt @mention appl set temporari austin store serv hord ipad 2 purchas #sxsw {link}',\n",
              " 'kinda giddi #theindustryparti #googl (&amp; more) #gsdm. finally, fun come us non #swsurrogates. #sxsw #notpout',\n",
              " 'reason 19: keep parakeet employed! {link} keep track ladi #sxsw {link} @mention',\n",
              " 'appl popup store! #sxsw @mention appl store, sxsw {link} #photo',\n",
              " 'wonder #googl place hotpot impact usag thing like #yelp. #marissagoogl #sxsw',\n",
              " 'rt @mention #sxsw quot day ipad interfac design: &quot;...if relatable, discoverable.&quot; #ipad #digit',\n",
              " 'googl doodl aim bring peopl togeth socially, promot commun experience. #sxsw #googledoodl',\n",
              " 'play &quot;peopl people&quot; googl #sxsw party!!! depech mode ftw!!!',\n",
              " 'rt @mention awesom free iphon app keep track friend meet find peopl #sxsw {link}',\n",
              " 'rt @mention rt @mention tweet regist exclus pass events, parti + ipad 2 #sxsw liberti and/or free #sxswpass',\n",
              " 'googl circles. new social network platform. {link} new facebook? #sxsw',\n",
              " 'lot googl effort help japan! mani global issues. :) rt @mention rt @mention wtf w/peopl #sxsw',\n",
              " 'line googl bing pagerank session #crazi #sxsw',\n",
              " 'port everyth new ipad2 head #sxsw sunday. sync 3k song take while. #appl',\n",
              " \"attend tv + new media = formula success #sxsw. see lot ipad 2' around here.\",\n",
              " \"arriv earli get prime seat present google' marissa mayer #sxsw -kek\",\n",
              " '@mention know lightbox android app #sxsw #hhr',\n",
              " 'googl launch major new social network call circles, possibl today @mention {link} via @mention #sxsw #screenfutur',\n",
              " 'walk past suppos #appl #sxsw temp store downstair @mention appl cult outsid take photo iphones.',\n",
              " 'googl launch secret new social network call &quot;circles&quot; #sxsw',\n",
              " 'night end firesid pictionari w. ipad. #sxsw #werdork',\n",
              " 'sound like buzz rebrand w/an inner circl rt @mention googl launch new social network: &quot;circles&quot; {link} #sxsw',\n",
              " 'googl launch major new social network call circles, possibl today {link} #sxsw&quot;',\n",
              " 'droid? surprised. rt @mention spot #sxsw: tabl three peopl 8 phones, ipad macbook out. #gadgetoverload',\n",
              " 'tomorrow go back appl store... *sigh* #sxsw',\n",
              " \"rt @mention media circus: guy walk apple' popup store #sxsw 1st #ipad2 now. austin 6th &amp; congress. {link}\",\n",
              " 'googl launch major new social network call circles, possibl today sxsw: {link} #sxsw #nfusion',\n",
              " \"rt @mention \\x89÷¼ happi woman' day! make love, fuss! \\x89÷_ {link} \\x89ã_ #edchat #musedchat #sxsw #sxswi #classic #newtwitt\",\n",
              " 'googl launch major new social network call circles, possibl today {link} #sxsw #pakistan #cwc2011',\n",
              " 'rt @mention #ipad 2 take #sxsw [video] /bi @mention {link}',\n",
              " 'get badge. find food drink. figur @mention iphon roam #sxsw. unpack. prioriti',\n",
              " 'rt @mention parti #android @mention #sxsw @mention lustr pearl {link}',\n",
              " 'rt @mention #sxsw ipad store sold everyth except 64gig wifi white',\n",
              " \"rt @mention love it. @mention #sxsw: &quot;appl come cool technolog one' ever heard go conferences&quot;\",\n",
              " '\\x89ûï@mention &quot;googl tweet&quot; new &quot;think speak.&quot; - mark belinsky, #911tweet panel #sxsw.\\x89û\\x9d',\n",
              " 'interest tidbit: appl design ipad 2 case design actual device. #sxsw',\n",
              " \"rt @mention #notatsxsw (or #sxsw), here' {link} free download meet nearbi pep\",\n",
              " 'look cool new #iphon twitter app track action #sxsw week, check {link} #tweetignit',\n",
              " \"rt @mention google' marissa mayer: &quot;th mobil phone cursor connect physic digit worlds.&quot; #sxsw\",\n",
              " 'give ad valu locat base servic need battl check-in fatigu #googl #pnid #sxsw',\n",
              " 'googl reveal new social network call circles? #googl #facebook #twitter #sxsw {link} (via @mention',\n",
              " \"buy 2 new ipad' @mention #geekdat #appl #sxsw #ipad2\",\n",
              " 'appl open #popup shop #sxsw. {link} via @mention #in #brand #valu #design #innov',\n",
              " 'ipad 2 rivals: stack {link} #bnet #biz #ipad2 #appl #sxsw #ipad #tablet #xoom #tech #laptop #pic #sale',\n",
              " 'someon austin let borrow iphon charger short time, heart long time. #sxsw',\n",
              " 'rt @mention googl &quot;product gatekeeper&quot; marissa mayer location-bas &quot;fast, fun future&quot; {link} (ht @mention #sxsw',\n",
              " \"per rumor, googl may preview big social strategi '80s-theme costum parti #sxsw. yep. {link} #cnet\",\n",
              " \"instagram photo iamtimbaker: google' 1980' #sxsw parti @mention {link}\",\n",
              " 'check q&amp;a googl &amp; bing websit rank #sxsw #qagb',\n",
              " 'rt @mention gear make splash, @mention launch &quot;groupon live social-type&quot; reward #sxsw {link}',\n",
              " 'even secur guard popup appl store austin love new ipad #sxsw {link}',\n",
              " \"epic. there' one guy wait line ipad 2 austin sxsw. {link} #sxsw #ipad #ipad2\",\n",
              " 'final picture! rt @mention appl open pop-up shop sxsw [report] - {link} #sxsw',\n",
              " '...and @mention seem hold well. surprisingly. big event! #sxsw #lxh #googl',\n",
              " 'look forward delici t-mobil 4g austin iphon user struggl anything. #sxsw',\n",
              " '#sxsw anyon need iphon cabl extra - tweet ;)',\n",
              " 'one lone dude await ipad 2 apple\\x89ûª sxsw store {link} #appl #ipad2 #sxsw #tablet',\n",
              " 'use question/answer, ask/rec kind model ipad app design. give take. entic ask more. @mention #tapworthi #sxsw',\n",
              " \"skore &gt; @mention heard apple' pop-up store downtown austin? pic alreadi gowalla: {link} #sxsw #ipad2\",\n",
              " '(via @mention #sxsw 2011: #googl #bing smackdown bloodi banal {link}',\n",
              " '2nd place fandango karaoke. 1st prize 1 yr fandango tkt - useless canada. 2nd prize *is* useful: ipad! #sxsw',\n",
              " 'line crazi long #sxsw appl store #ipad2',\n",
              " 'art #ipad view daili #sxsw + free coffee, idevic recharg @mention åç austin detail {link}',\n",
              " 'mashabl talk line takers, mani spent better part ... #ipad #sxsw #gadget {link}',\n",
              " 'head #sxsw hear talk integr social network dynam team synergy. got ipad readi go.',\n",
              " 'love googl said, &quot;whi want know?&quot; #sxsw',\n",
              " 'appl congress. nice. rt @mention appl set open popup shop core sxsw action {link} #sxsw #appl',\n",
              " 'rt @mention googl launch new social network circles, link u close peep u connect w/most. possibl today @mention #sxsw!',\n",
              " 'startup talk captiv audienc appl store line. smart idea. it? #sxsw',\n",
              " 'ever seen someon pay guy wait line appl device? yeah, that. #lame #sxsw',\n",
              " \"rt @mention google' marissa mayer demo' &quot;contextu discovery&quot; - use are, history, time search refin results. #sxsw\",\n",
              " 'wonder mani sold #sxsw? ipad 2 sold out, 70% went new buyer [report] {link}',\n",
              " '#ipad unload #sxsw popup store. awesome! {link}',\n",
              " 'hey #sxsw exhibitors, captur booth experi retrollect disc? popular disc win ipad 2! {link}',\n",
              " 'speak #sxsw: #appl store 6th congress? great permanent....? ;)',\n",
              " 'say, pretti smart time #appl drop #ipad2 right top #sxsw. nearli anyon talk about.',\n",
              " 'appl open temporari store downtown austin march 11 accommod #sxsw attendees. god fuck smart.',\n",
              " \"ha! rt @mention \\x89ûï@mention #sxsw: &quot;appl come cool technolog one' ever heard go conferences&quot;\\x89û\\x9d\",\n",
              " '#appl open pop-up shop sxsw {link} &lt;---cool concept spend #sxsw wait #ipad2',\n",
              " 'pretti excit appl pop store come #sxsw {link}',\n",
              " 'tri 2 convinc @mention 2 watch launch googl social network #sxsw . know go comedy?!',\n",
              " 'rt @mention next #sxsw head design ipad app babi boomers. wish app yet? ^tg',\n",
              " '#googledoodl #sxsw googl doodles, simpl surface, complex intric underneath.',\n",
              " \"24 hour later, retreat back hotel, bushwhacked. ringo deathstarr'd, never seen mani effect pedal #sxsw {link}\",\n",
              " \"need #sxsw! ipad, iphone, laptop, dictaphone, vid.camera.... wow! love meet real 'cerebellum' charg people:)\",\n",
              " 'egad guys:get ahold yourselves.seem like lot men ballroomd crush @mention ?realli google?#sxsw',\n",
              " 'rt @mention ipad design headach josh clark #tapworthi #sxsw {link}',\n",
              " \"rt @mention &quot;appl come cool technolog one' ever heard go conferences&quot; #sxsw #pseudoretweet\",\n",
              " 'rt @mention kawasaki: &quot;pagemak save apple.&quot; oh days. #sxsw #jwtatl #enchant',\n",
              " \"googl hotpot new app let' peopl rate are. guess logic busi progress #marissagoogl #sxsw\",\n",
              " '#marissamey #googl go abl get content back out, sure heard right? #sxsw',\n",
              " 'qrafter better paid free qr code apps, scan #vcards, also download them! #qrcode #iphon #sxsw',\n",
              " \"#todo @mention q&amp;a google' @mention &amp; bing' @mention rank - #sxsw mon 12:30pm {link}\",\n",
              " 'wonder get kick #sxsw iphone. ipod. ipad. ianything.',\n",
              " '@mention fyi, past u op met citeren! ;) &quot;@ment googl launch product #sxsw {link}',\n",
              " 'comput droid rt @mention #agnerd confession, use laptop, ipad blackberri follow #sxsw afar see #agchat',\n",
              " 'may man #sxsw without iphone.',\n",
              " 'tweet #sxsw pretti non exist today thank @mention iphon app #fail - hootsuit epic replacement! #owllov',\n",
              " '.@mention bahrain govt turn googl earth. result, peopl learn govt turn back on. #sxsw',\n",
              " 'switch offic ipad next session flipboard: gamechang pass fad? (@mention like one) #sxsw',\n",
              " 'rt @mention #sxsw tip day (again ;-). turn iphon screen bright down. way down. #conservebatterylif #peac @mention',\n",
              " 'improv websit rankings: advic googl bing #sxsw | poynter. {link}',\n",
              " '@mention thought point ipad - carri around #sxsw',\n",
              " 'believ went aussi #sxsw rt @mention ipad 2 sold out, 70% went new buyer [report] - {link}',\n",
              " 'ok, come build custom map googl map night #sxsw organ parti itineraries. #productive.',\n",
              " 'awesom meet @mention @mention @mention stand appl queue #sxsw yesterday. day 2.',\n",
              " 'iphone, ipad, mac oh my! #agchat,#sxsw',\n",
              " '#at&amp;t give away amaz prizes..iphone, android, kindle, tablets...amazing. happen sheraton.#sxsw.',\n",
              " 'goal day: knock govern talks, instal android sdk, &amp; pray #sencha/#phonegap workshop #android #sxsw',\n",
              " '#sxsw knew would happen ipad 2 launched. actual realli funni irl... {link}',\n",
              " 'arriv us wednesday #sxsw, look microsim use data iphon - anyon know option are?',\n",
              " 'user drive 12b+ mile year googl map navig ^jr #sxsw',\n",
              " 'rt @mention best thing heard wknd #sxsw &quot;gav ipad 2 $ #japan relief. need ipad 2.&quot; (@mention @mention',\n",
              " 'line around block #sxsw pop-up appl store. @mention appl store, sxsw {link} #photo',\n",
              " 'follow bing/googl seo session #qagb #sxsw buddi @mention #seo',\n",
              " '21 free track itun #sxsw featur artists: {link} (via @mention',\n",
              " 'sweet siren call #gsdm #googl parti start downstairs, wrap #sxsw work desk. help me, obi-wan, hope!',\n",
              " 'check q&amp;a googl &amp; bing websit rank #sxsw #qagb #raidsxsw',\n",
              " 'dispatch #ipad 2 front line {link} #aspengrov #aspengrov #austin #line #sxsw #tx',\n",
              " 'rt @mention @mention - spread word, #sxsw festiv explor app live free {link}',\n",
              " 'rt @mention rumor: appl open temporari store downtown austin #sxsw ipad 2 l... {link}',\n",
              " \"#sxsw interactive: google' mobil future, elus 'power ofåêhere' {link} via @mention\",\n",
              " 'rt @mention #sxsw free app festiv explor help find band want see base music tast {link}',\n",
              " 'rt @mention (cnnmoney) #sxsw 2011, comput devic bigger ipad passì©. mobil space buzz {link} #wssxsw',\n",
              " 'appl geniu (no pun intended) check #sxsw {link}',\n",
              " 'may so, still rt @mention new post: busi card dead: send card via hashabl #sxsw {link}',\n",
              " 'austin, pal @mention lost phone, pleas help rt @mention left white iphon 4g cab austin #sxsw internet, pleas help.',\n",
              " 'rt @mention appl set open popup shop core #sxsw action {link} (ipad2 ground.)',\n",
              " '#sxsw: #15slides: gruber: keep desk appl extend keyboard 2 (discontinu 1991, $169). loud. feel like write better.',\n",
              " 'great idea behind #circl rt @mention &amp; @mention googl launch secret new social network call circl {link} #sxsw',\n",
              " 'ooooo #appl rumor open temporari store #sxsw {link}',\n",
              " '#virtualwallet #sxsw #paypal get physic good cut #appl get 30% softwar virtual good',\n",
              " '#ipad 2 take #sxsw [video] /bi @mention {link}',\n",
              " \"googl 80' throw down. may last stop night #sxsw\",\n",
              " 'googl smentisc novitìê arrivo rt @mention launch product #sxsw plenti els {link}',\n",
              " 'start think #blackberri like #abacu phones. damn u #iphone. #sxsw (i want # abacus)',\n",
              " 'print ------&gt; tablet ------&gt; web : tablet need bridg gap. #touchingstori #sxsw #ipad',\n",
              " 'failur googl buzz, googl latitude, googl circle! serious googl need concentr search! #fail #googl #sxsw',\n",
              " 'best thing abt @mention #sxsw? $1 sherri patio &amp; plenti free park | 5-10 min n &quot;th mess&quot; {link}',\n",
              " 'there. nuts. rt @mention ipad 2 hand, awesom dude gave cutsi 3 hour line. #austin #appl #sxsw #win',\n",
              " '@mention best thing heard #sxsw &quot;i gave ipad 2 money #japan relief. need ipad 2.(@mention @mention #sxswgood',\n",
              " 'rt @mention look forward #smcdalla pre #sxsw parti wed., hope win #ipad result shameless promotion. #chevysmc',\n",
              " 'see new texa observ ipad app #sxswi 3:30, sheraton #sxsw',\n",
              " 'ipad design headaches. interfac metaphor. look like book, make behav like book. simpl stuff, often forgotten. #sxsw',\n",
              " 'compani embrac nfc today: googl (nfc window decal &amp; nexu s), nokia (willinclud smartphon 2011) #sxsw #mcommerc',\n",
              " 'awesome! rt @mention #sxsw @mention come check @mention get free custom iphon case @mention grill',\n",
              " 'buy ipad2? turn ur ipad1, appl store wipe clean, donat schools. mrs. job idea. #appl #ipad2 #sxsw',\n",
              " 'day bank america launch iphon app got 250k new custom #bankinnov #sxsw',\n",
              " 'saw giant line, thought movi premiere. appl store ipad 2. heard scream premiere! #sxsw',\n",
              " 'grate twitterstream mostli full empathi concern event ipad 2 #sxsw.',\n",
              " 'nice peopl go #sxsw fun. check #twit #twig @mention @mention @mention . #android #podcasters?',\n",
              " 'comprando mi ipad 2 en el #sxsw (@mention appl store, sxsw w/ 62 others) {link}',\n",
              " 'soni area buffalo billard tweet googl tv. #sxsw',\n",
              " '@mention iphon get #sxsw go app.',\n",
              " '3:45 put word &quot;food&quot; googl map search phone. yeah #sxsw',\n",
              " '#sxsw ad schedul android sxsw go app. handy.',\n",
              " '#sxswnui #sxsw laptop denot work, #ipad denot fun',\n",
              " 'akqa hiring. find front design ipad interfac - new navig schema ballroom a. #sxsw',\n",
              " 'dens una vuelta por #socialfuel #sxsw para ver la gran diferencia..rt @mention &quot;th revolut clumsili translat google.&quot;',\n",
              " 'rt @mention get free coverage:sxsw app! know austin get best cellular data connection. #sxsw {link}',\n",
              " '@mention bigger iphon smaller pc, good big event like #sxsw meeti? {link}',\n",
              " '#sxsw #csr reporting: janecek: microsoft give $ charity. appl give nothing. everyon room iphone. drive decision?',\n",
              " '@mention wifi + android geek nearbi #sxsw pleas tri share frostwir {link} (just issu update)',\n",
              " 'go #sxsw? sign filmast iphon app code &quot;sxsw&quot; get cool t-shirt site: {link}',\n",
              " \"augment reality? pah! mayer (google) call &quot;contextu discovery&quot; \\x89ûò search without search, *with users' permission* #sxsw\",\n",
              " 'wonder fit ipad 2 luggag pack austin? hmmm. #sxsw',\n",
              " 'rt @mention important: make sure donat japanes red cross #japan: {link} #sxsw #quak',\n",
              " 'ok, sxsw, garag band ipad notice. #stun #sxsw',\n",
              " \"retail head sxsw month, check @mention - google' sxsw twitter presence. #sxsw\",\n",
              " 'rt @mention anoth great spreadsheet #sxsw parti - {link}',\n",
              " 'lightbox photo want new android camera app (sxsw) [techcrunch] {link} #sxsw #android',\n",
              " '@mention @mention industri parti present #gsdm &amp; #googl austin, tx #sxsw.',\n",
              " 'rt @mention enjoy #sxsw california (hollywood + silicon valley) meet nyc sunni austin by-the-pool cowboy boot + ipad vibe. #sxswi',\n",
              " '@mention &amp; @mention becom competitor 4 @mention start realiz #checkin cool. #sxsw #sxswi',\n",
              " 'bad \\x89\\x9d_ button! rt @mention know #sxsw time abnorm amount app updat iphone.',\n",
              " '#aapl alreadi big winner #sxsw {link} #in',\n",
              " \"miss google' vp search, marissa mayer last week? listen interview {link} #sxsw\",\n",
              " 'rt @mention apple. intel. genentech. atari. cisco...&quot;someth ventured,&quot; trace risk taker wrote checks: {link} #sxsw',\n",
              " 'rt @mention happi exist! go tri whole #sxsw trip w/o laptop. iphon &amp; ipad only. {link}',\n",
              " \"attend design ipad interfac - new navig schemas. akqa' lynn teo. ballroom a. yes, hiring. #sxsw\",\n",
              " 'alway use camera+ iphon b/c imag stabil mode. suggest ipad cam app w/ feature? #sxsw #sxswi',\n",
              " 'rt @mention free #itun #sxsw ... link take @mention #itun store {link}',\n",
              " 'rt @mention rt @mention googl launch major new social network call circles, possibl today @mention #sxsw {link} via @mentionw',\n",
              " '@mention rt @mention gari start new show &quot;daili grape&quot; #iphon @mention #thankyouecon #sxsw\\x89û\\x9d',\n",
              " 'accord marissa mayer, 40% googl map usag mobile. #sxsw',\n",
              " 'youtub second largest search engin (globally) googl say @mention #discotalk #sxsw',\n",
              " 'rt @mention rt @mention new #ubersoci 4 #iphon app store includ uberguid 2 #sxsw sponsor #mashabl (cont) {link}',\n",
              " \"rt @mention order ipad 2 excit #sxsw, seem silli what' happen japan right now.\",\n",
              " '40% googl map search mobil #sxsw (@mention acc - ballroom w/ 78 others) {link}',\n",
              " '1k views! rt @mention appl secur guy lock store..... #sxsw - {link}',\n",
              " 'rt @mention 40% use googl map mobil -marissa mayer #sxsw &lt;--- use time #suxsw',\n",
              " '\\x89ûï@mention 10 danger iphon apps. #sxsw {link}',\n",
              " 'rt @mention #sxsw bound! keep eye may give away @mention #iphon case atx land!',\n",
              " 'rt @mention appl open pop-up store #sxsw releas ipad 2, quit scene. geek power! {link}',\n",
              " \"&quot;thi google/b q&amp;a panel like world' expens seo consultation.&quot; -@mention #sxsw\",\n",
              " 'rt @mention met three girl appl itun connect team @mention iphon develop meetup. got 2 talk would chang itc. #sxsw',\n",
              " 'set pop shop @mention #sxsw smartest move ipad imho | develop matter ipad 2 - {link}',\n",
              " '&quot;@ment #sxsw-googl launch major new social network call circles, possibl today @mention {link} via @mention',\n",
              " 'ok, interested. rt @mention googl launch major new social network call circles, possibl today {link} #sxsw',\n",
              " \"look forward iphon android design session #sxsw. can't wait drink give away stuff get paid too.\",\n",
              " 'best thing abt @mention #sxsw? bad ass brunch w/patio &amp; plenti free park | 5-10 min n &quot;th mess&quot; {link}',\n",
              " \"rt @mention come singapor roar' party. 512 6th street. {link} #sgroar #sxswi #sxsw\",\n",
              " 'friend come austin sxsw: {link} #austin #sxsw',\n",
              " 'credit card compani know 2 year like get divorc @mention (google) #sxsw #urbanmyth',\n",
              " '20% googl search local inform - googl tri fill need place hotpot servic #sxsw',\n",
              " '#googl view final end rather tool point user sourc make decisions. #marissagoogl #sxsw',\n",
              " 'got ipad 2 gave red cross japan first day #sxsw',\n",
              " 'brain zombi like content googl - &quot;cont rules&quot; @mention #sxsw',\n",
              " 'think someon make lot money week iphon intern roam charg #sxsw',\n",
              " \".@mention there' expect engag ipad visual social, delv experi #sxsw #sxfl\",\n",
              " 'good peopl @mention cover ipad 2 launch live appl pop-up store austin #sxsw {link}',\n",
              " 'rt @mention good morning, #sxsw. r u talk abt twitter accord @mention @mention ipad design, geogam design headach',\n",
              " 'mission failur - dri roast beef sandwich soggi tomato, $6.25. oh well, sat chevi loung charg iphon power mat #sxsw',\n",
              " '#sxsw q:android webkit lag safari webkit @mention want acceler pervas #browserwar',\n",
              " 'rt @mention rumor: appl open temporari store dt austin #sxsw &amp; ipad 2 launch {link}',\n",
              " '@mention upside.... #sxsw start today ipad 2 releases...',\n",
              " 'audioboo: american dream bust {link} #ipad #sxsw #bum #begger #u #socialart #document',\n",
              " 'rt @mention @mention put gun @mention head. give iphone! #sxsw {link}',\n",
              " \"brutal question serv marissa mayer jc penney map get rerout macy's? uncomfort @mention #sxsw\",\n",
              " 'score sign print jule vern googl doodle. thank @mention #sxsw #googledoodl {link}',\n",
              " \"#nfc technology: google' test use sticker store window tap get info. #sxsw\",\n",
              " 'rt @mention interest rt @mention @mention launch major new social network call circles, possibl today {link} #sxsw',\n",
              " '#sxsw: potenti breakout gadgets, app &amp; #appl #ipad2 pop-up store. festiv begin tomorrow: {link}',\n",
              " 'hmmm rt @mention rt @mention googl launch major new social network call circles, possibl today {link} #sxsw',\n",
              " 'rt @mention set pop shop @mention #sxsw smartest move ipad imho | develop matter ipad 2 - {link}',\n",
              " 'anyon know appl store #sxsw still ipads? like run today?',\n",
              " 'hey austin, know littl #iphon #android, love music &amp; wanna make $20/hour #sxsw? pleas let know.',\n",
              " \"bought #ipad 2 yet? go #sxsw? check apple' pop-up store. {link}\",\n",
              " 'winner? :) rt: @mention awesome.... got ipad 2 #sxsw! {link} via @mention @mention',\n",
              " 'want line unconfirm appl pop-up store ipad 2. #sxsw',\n",
              " 'pick backup iphon batteri charger airport. also got 2 pair shoe yesterday - hello #sxsw',\n",
              " '#sxsw #applestor @mention appl store, sxsw {link}',\n",
              " \"@mention make feel better google-wannab fanboi act like giggl schoolgirl front marissa mayer y'day #sxsw\",\n",
              " 'head austin #sxsw wkend. love @mention set pop-up store (6th &amp; congress) deal mass geek influx ipad2 releas',\n",
              " 'rt @mention appl secur guy lock store..... #sxsw - {link}',\n",
              " \"&quot;appl like pay them. that' appl likes.&quot; - barri diller #sxsw (@mention acc - ballroom d) [pic]: {link}\",\n",
              " 'rt @mention @mention 2 #sxsw? appl open pop-up store austin sxsw {link}',\n",
              " 'look forward learn #ipad #design #sxsw.',\n",
              " 'lie - chanc watch peopl actual use ipad #sxsw make want one. :-/',\n",
              " 'rt @mention rumor: appl open temporari store downtown austin #sxsw ipad 2 launch {link} (hardcore!)',\n",
              " '@mention near zen guadalup 3/19 1pm trailer space night, play #iphon (maurice, friend @mention #sxsw',\n",
              " 'detail ipad 2 giveaway come tonight, rt this! #sxsw #sxswi',\n",
              " 'go game launch do-it-yourself iphon scaveng hunt {link} (via @mention @mention #li #fb #sxsw',\n",
              " 'tomlinson tx observ say appl subscript data hold biggest impedi success. #newsapp #sxsw',\n",
              " 'rt @mention abl afford attend #sxsw buy ipad today, consid save $$\\x89û_ (cont) {link}',\n",
              " 'rt @mention surviv #sxsw @mention live music app iphon android {link}',\n",
              " '#brandnew: #googl tri social network again. time #circl launch @mention #sxsw. perhap wha\\x89û_ (cont) {link}',\n",
              " 'biggest mistak sinc south southwest last year? writin book bout iphon photographi instead makin photographi iphon app #sxsw',\n",
              " 'iphon ipad me, feel unequip compar everyon else. dang! #sxsw',\n",
              " 'rt @mention rt @mention interrupt regularli schedul #sxsw geek program big news {link} #googl #circl',\n",
              " '@mention think may coin new term: &quot;apptrophy.&quot; happen unus iphon apps. disus apptrophy. #sxsw',\n",
              " '&quot;w start googl doc crowdsource/ arab voices, egyptian world took shift help translate&quot; @mention #arabspr #sxsw',\n",
              " 'rt globalbestaward holler gram ipad itun store: {link} via @mention #sxsw-ster great app #madebymani',\n",
              " \"aol, t-mobil launch 'play' android app {link} via @mention #sxsw\",\n",
              " \"googl launch new social network call 'circles' south southwest today? {link} #sxsw #circl #googl\",\n",
              " 'got given free portabl iphon charger. sweet! thx #powermat #sxsw',\n",
              " 'lone planet releas free austin citi guid iphon app #sxsw. like enough app clutter handset.',\n",
              " '#sxsw #ux #ipad #uxd rememb ultim awar audienc app target towards. unexpect experi good.',\n",
              " 'rt @mention internet blurs, {link} ipad fades, {link} \\x89ûò @mention #sxsw',\n",
              " 'appl open temporari store downtown austin #sxsw &amp; ipad 2 launch. {link} source: statesman.com',\n",
              " 'celebr beauti web @mention msft #ie9 launch &amp; play new #html5 game win ipad2 {link} #sxsw',\n",
              " '#ux #uxd talk realli explor wild wild west #ipad design. #sxsw',\n",
              " 'yen only? rt @mention important: make sure donat japanes red cross: {link} #sxswcare #sxsw #quak',\n",
              " \"long line ginger man' bathroom save $829. #sxsw pop-up appl store close right midnight (a walk up).\",\n",
              " 'even begins, #appl win #sxsw: past week, there\\x89ûª major dilemma in\\x89û_ {link}',\n",
              " 'rt @mention rumor: appl open temporari store downtown austin 4 #sxsw &amp; ipad 2 launch {link}',\n",
              " 'iphone? ;-) rt @mention find one gadget go bag #sxsw? {link}',\n",
              " 'peopl listen #googl #sxsw @mention {link}',\n",
              " 'iphon app peopl use #sxsw scheduling? @mention awesom app! #flummox',\n",
              " '@mention one shirt say #winning?! rofl!! #angrybird #iphon #ipad #sxsw',\n",
              " '#technolog googl launch new social network #sxsw?: report claim googl might use sxsw event this... {link} #tech',\n",
              " 'nice! rt @mention knit staircas attend #sxsw parti tomo 7pm host @mention &amp; @mention {link}',\n",
              " 'googl incap disrupt innovation- acquir 89 startup last year @mention #leanstartup #sxsw',\n",
              " 'rt @mention rt @mention gear make splash, @mention launch &quot;groupon live social-type&quot; reward #sxsw {link}',\n",
              " 'appl two austin store week downtown presence. chang #sxsw popup store {link} ~@mention',\n",
              " 'rt @mention rt @mention #googl launch major new social network call circles, possibl today {link} #sxsw @mention',\n",
              " 'rt @mention : interrupt regularli schedul #sxsw geek program big news {link} #googl #circl',\n",
              " 'rt @mention oooorkut? rt @mention rt @mention googl launch major new social network call circles, possibl today {link} #sxsw',\n",
              " 'curiou know dev think ref. iphon vs android develop #sxsw buzz still seem favour iphon year.',\n",
              " 'pack hous #sxsw session - &quot;q&amp;a w/ googl &amp; bing websit ranking&quot; (w/ @mention (@mention hilton, salon j) {link}',\n",
              " 'rt @mention win #soni xperia play #android phone #sxsw (tuesday 3/15) detail here: {link}',\n",
              " 'also limit abilities. balance. rt @mention @mention ipad cheaper laptops. #newsapp #sxsw',\n",
              " 'hey, #sxsw peeps: go hang w/ burner now! {link} burn-b-q pan-american park 5-8pm: {link} cc @mention',\n",
              " 'percept googl street view \\x89ûïbig brother\\x89û\\x9d - tri transpar data have, give user control - @mention #sxsw',\n",
              " 'googl hotpot demo #sxsw seem whole lot like #yelp me- innov left outa game? show heat maps2 {link}',\n",
              " 'first talk day : ipad design headaches. #sxsw',\n",
              " 'think googl circl effect crop `circle` #sxsw #randomli',\n",
              " 'san jose austin. surround appl googl peeps, everi tech nerd dream. time turn charm find new bff #sxsw',\n",
              " 'rt @mention feel like iphone: alway on, alway something, run batteri fast. #sxsw',\n",
              " \"whoa! there' dude front use googl wave! #sxsw #xplat\",\n",
              " 'success #sxsw trip. learn ton. lot new insight / knowledge. new read list / playlists. wrote &amp; submit new iphon app.',\n",
              " '@mention set team android event #sxsw',\n",
              " 'rt @mention longest line #sxsw? appl store, course. {link}',\n",
              " 'rt @mention @mention spill beans: next platform flipboard iphone. team start work it. #sxflip #sxsw #sxswi',\n",
              " 'pretti content. nat geo pretti articl ipad. cooler twitter list current arctic explorers. #flipboard #sxsw',\n",
              " 'rt @mention rumor: appl open temp store downtown #austin #sxsw &amp; ipad 2 launch {link}',\n",
              " '@mention mean percentag io vs android vs blackberry, etc. #sxsw / @mention',\n",
              " \"awesome! rt @mention apple' temporari megastor #sxsw could model futur conferences/events: {link}\",\n",
              " 'rt @mention ipad 2 sold retail stores...except #sxsw pop store austin? #igottagetit',\n",
              " \"&quot;no one say 'i'm apple' 'i'm drupal' - tribe know peopl care children &amp; powerful&quot; @mention #dgtltribe #sxsw\",\n",
              " 'like googl google? rt @mention *giggle* someon check today gowalla #sxsw #sxswi',\n",
              " '&quot;apple: eleg fascist corpor america today.&quot; -- kara swisher #sxsw #flipboard',\n",
              " '@mention interview @mention #sxsw far... cat: total agre ur comm #appl brand - love - word it!',\n",
              " 'appl store get anoth mention: {link} - rt @mention #sxsw - downtown austin appl store: congress &amp; west 6th street...',\n",
              " '20% #googl search local information. #mayer #sxsw',\n",
              " \"kick 80' style @mention parti @mention @mention #sxsw {link} {link}\",\n",
              " '&quot;foosspotting&quot; ap iphon look pretti good. food guid #sxsw use later.',\n",
              " \"wait @mention #trollfoot appear #sxsw appl store. c'mon! :d\",\n",
              " 'rt @mention guy couch play white ipad 2 mashbash parti around make statement, dammit. #sxsw',\n",
              " 'queue appl store austin four block long. crazi stuff! #sxsw',\n",
              " '&quot;googl tweet&quot; new &quot;think speak.&quot; - mark belinsky, #911tweet panel #sxsw.',\n",
              " 'bu leav googl parti head power plant parti 214 w ave. #sxsw',\n",
              " \"&quot;brain zombi content google, can't get enough&quot; #sxsw #contentrul\",\n",
              " 'rt @mention within hour buy ipad, glenda watson hyatt (with cerebr palsy) abl commun stranger public. #sxsw #poursit',\n",
              " 'fret not, iphon owners. appl open temporari store #sxsw. {link} via @mention',\n",
              " \"post #sxsw make jealous. btw #sxsw auto correct ass' ipad. joke, check it.\",\n",
              " \"good work! \\x89ûï@mention @mention check latest stream apple' store #sxsw {link} . ipad2 come. #playsxsw\\x89û\\x9d\",\n",
              " 'theophilu london mix parti iphone. #swag #sxsw',\n",
              " 'sound like job #sxsw detail new bomb iphon app would love earli ado... {link}',\n",
              " 'ipad 2 line 1 half block #sxsw popup store {link}',\n",
              " \"apple' pop shop lavaca 6th #sxsw yes, line wrap around block (@mention appl store, sxsw) {link}\",\n",
              " 'lynn teo - new nav schema ipad {link} #sxsw #uxd',\n",
              " 'hear marissa mayer googl speak. 3 row back. cool! #sxsw #googl',\n",
              " 'heard #android app bizzy? challeng tdg check #sxsw read more: {link}',\n",
              " 'rt @mention @mention work @mention creat open-sourc s2 fill gap need location-bas applic use nosql db model #sxsw',\n",
              " 'googl launch secret new social network call &quot;circles&quot; {link} #sxsw',\n",
              " 'rt @mention #hashabl rock @mention #sxsw new &quot;cloud&quot; busi cards. #iphon #android',\n",
              " 'line popup appl store 6th &amp; congress still block long. #sxsw',\n",
              " \"rt @mention \\x89ûï@mention appl great exampl retail store lay futur - 'registers' 'checkout line' #sxsw\",\n",
              " 'avoid long line &amp; jam pack parti #sxsw #hurrican #parti new #iphon #app {link} #smm #geo #market',\n",
              " '. @mention parti good colleg parti feel #sxsw',\n",
              " 'love appl pop-up store #sxsw. freak smart. now, one question. at&amp;t bring truck signal again? pleas say yes.',\n",
              " 'new #4sq3 look like go rock. updat iphon android push tonight {link} #sxsw #keepaustinweird',\n",
              " 'fantastico! rt @mention marissa mayer: googl connect digit &amp; physic world mobil - {link} #sxsw',\n",
              " 'rt @mention nfb film app android avail download: {link} {link} time #sxsw!',\n",
              " \"marissa mayer' present #sxsw demo googl map version 5.2 mobil pretti impressive.\",\n",
              " 'anoth hard call morning: design ipad read write genet code. go latter. #sxsw',\n",
              " 'industri parti #gsdm #googl grand affair. #sxsw',\n",
              " 'iphone, blackberri &amp; android hootsuit app updat #sxsw - {link} via hootsuit',\n",
              " '@mention peter cashmor ipad 2: minor improvement. worth unless money burn. #sxsw',\n",
              " '(-: mashable! - ipad 2 take sxsw [video] #ipad #sxsw #gadget {link} {link}',\n",
              " \"rt @mention someon go ask bing copi google' search results? #qagb #sxsw #seo\",\n",
              " \"join {link} friend ur citi @mention end #sxsw win ipad 2! c'mon @mention help @mention chng world!\",\n",
              " 'rt @mention co founder googl teacher academi bring hs student austin show use tech: {link} #sxsw #educ',\n",
              " 'sxsw, appl school market expert {link} #sxsw #essdub',\n",
              " 'ye rt @mention lol u r gadgetzilla! fun! @mention #sxsw festiv time. omg scared! got netbook, #ipad &amp; droid!',\n",
              " 'interview mike mccue - co-found flipboard! - ipad user tune - {link} #smc #sxsw',\n",
              " 'new post: 3 iphon app use south southwest interact #sxsw #sxswi {link}',\n",
              " \"@mention lol. #sxsw appl pop store. ipad 2' fli shelves. hipster feed frenzy!\",\n",
              " 'rt @mention bump @mention austin sxswi accelerat {link} #tech #sxsw',\n",
              " \"rt @mention hey #sxsw, there' offer ya {link}\",\n",
              " 'display tonite: {link} #gsdm #googl industri party: {link} #sxsw',\n",
              " '@mention tell #sxsw friend send ireport today! even fun photo. use cnn app upload iphone.',\n",
              " \"anoth great panel 5 pm hilton - austin' @mention nik daftary: left brain search = google, right brain search = x #sxsw\",\n",
              " 'tonight, @mention check kill @mention check gsd&amp;m/googl party. come say hi. #sxsw #sxswi #music',\n",
              " 'googl test \\x89ûïcheck-in offers\\x89û\\x9d sxsw {link} via @mention #googl #sxsw #app',\n",
              " 'monday night #sxsw #sxswbuffalo win ipad {link}',\n",
              " 'build &quot;sprout up&quot; new googl map mobil #sxsw',\n",
              " '@mention #googl circl rumour ??? @mention say launch product #sxsw',\n",
              " 'iphon dead. find secret batphon #sxsw.',\n",
              " 'rt @mention woohoo! rt @mention go game launch do-it-yourself iphon scaveng hunt {link} (via @mention see #sxsw',\n",
              " 'airport delay #sxsw. introduc @mention #catphysics. feel like drug pusher: first ipad play free that...',\n",
              " 'collect valu user use softwar &amp; hardware: amazon, googl #sxsw #timoreilli',\n",
              " 'whoa. rt @mention googl launch major new social network call circles, possibl today {link} #sxsw',\n",
              " 'rt @mention marissa mayer: googl connect digit &amp; physic world mobil - {link} #sxsw',\n",
              " 'heck googl map use browser geo-location? miss somehow? use chrome. @mention #sxsw #startupbu',\n",
              " 'free #music sampler #sxsw - {link} #itun',\n",
              " 'what name song? {link} #imthetyp ipad #imthetyp #sxsw',\n",
              " 'free #itun store, 22 track #sxsw featur artists.. {link} grab gone.. thank #appl !',\n",
              " \"sweet, apple' open pop-up shop scarbrough build congress ipad 2 - {link} /via @mention #sxsw\",\n",
              " 'yes, hate fanboys. still valid tho- wait ipad2 instead enjoy #sxsw: {link} via @mention',\n",
              " 'woot! rt @mention @mention spill beans: next platform flipboard iphone. team start work it. #sxflip #sxsw',\n",
              " 'rt @mention @mention @mention appl set open popup shop core #sxsw action {link} #ipad2',\n",
              " 'line ipad #sxsw. look bad! (i wait 6.5 hour iphon 4). {link}',\n",
              " 'smart company...appl set open pop-up shop core #sxsw action... {link} #appl',\n",
              " 'rt @mention 40 minut til @mention #sxsw party. free beer, free maudi tacos, free ipad 2, android tablet &amp; kindl giveaway bit.ly/ajs2011',\n",
              " 'googl soll noch heut social network #googl #circl starten. {link} #sxsw (via @mention @mention',\n",
              " 'appl pop-up store line final dwindled. time check ipad2. #sxsw',\n",
              " 'rt @mention all, includ me, emot thing ipad. #barrydil #sxsw #pnid',\n",
              " \"there' lot drink &amp; draw googl sketchup parti #sxsw\",\n",
              " 'new iphon app @mention call dailygrap - replac winelibrari tv mobil content &amp; videos. help make wine choic #sxsw',\n",
              " 'rt @mention bore keynot #sxsw, use ipad draw pictur - even good artist! {link} #sxswi',\n",
              " 'festiv explor austin edit help keep track sxsw band want see &amp; make recommend too: {link} #fb #sxsw',\n",
              " '#sxsw friends, forget download #sxswgo iphone/ipad app. {link}',\n",
              " \"#appl #hp 'pop in' #sxsw; set temp sites: {link} #austin #atx #austinbusi\",\n",
              " 'rt @mention tip @mention iphon users. turn screen bright (way down) conserv batteri power. huge difference! #sxsw',\n",
              " 'new #ubersoci #iphon app store includ uberguid #sxsw sponsor #mashabl {link} #appl',\n",
              " 'even begins, appl win sxsw - techcrunch {link} #sxsw',\n",
              " 'appl open temporari store close #sxsw sell #ipad2. get influenc concept! {link} @mention',\n",
              " 'first stop #sxsw @mention &amp; @mention hunt: austin java. get spi game chanc win ipad!',\n",
              " 'matter time -googleto launch social network may call googl circles? {link} via @mention #sxsw',\n",
              " 'best session seen far #sxsw morning. music ixd design ipad interfac #win',\n",
              " 'rt @mention check free @mention sampler itunes! {link} #sxsw',\n",
              " 'rt @mention @mention @mention check this: {link} #sxsw #googl',\n",
              " 'jealou see peopl ipad 2 take photo it. #iwantacameraonmyipad #sxsw',\n",
              " 'think sucessful? @mention googl possibl launch new social network. #sxsw {link} ...',\n",
              " 'rt @mention &quot;@ment - #appl classiest fascist compani america. realli elegant.&quot; #sxsw #rji',\n",
              " '\\x89ûï@mention walk around #sxsw stare iphon 4... like everyon else.\\x89û\\x9d // ummmm...ditto',\n",
              " 'got ipad courtesi random stranger street...an appl investor #sxsw ... thank you!!!! utter... {link}',\n",
              " 'appar #sxsw appl store line 15 minut moment.',\n",
              " 'rt @mention calvin geek charli sheen goddesses. @mention @mention @mention #googl #sxsw',\n",
              " 'jesu hockey mask?! wors thought... #sxsw @mention appl store, sxsw {link}',\n",
              " 'after... come visit milyoni booth, 1223 right big googl sign #sxsw {link}',\n",
              " \"rt @mention &quot;ther explan apple' continu surviv exist god&quot; #guykawasaki #sxsw\",\n",
              " 'yet walk confer room look like appl ad. think noth else. #sxsw',\n",
              " '@mention price discrimin android users? contact me! #doingsocialmediawrong #sxsw',\n",
              " 'head {link} 1pm cst today win vip access acoust solo set #sxsw tonight #nokiaconnect',\n",
              " 'rt @mention build custom android home screen #sxsw #sxswi stuff. must haves? {link}',\n",
              " \"everyon buy ipad 2's! feel like dinosaur version, blackberri pc. sxsw like appl convent #sxsw\",\n",
              " '@mention thank share news @mention thought news @mention {link} #sxsw',\n",
              " 'group #text war heat up: fast societi launch new android app, updat iphon app: #sxsw\\x89û_ {link}',\n",
              " 'rt @mention #sxsw buy #appleatxdt popup store? anyth ipad 2?',\n",
              " 'rt @mention apple...&quot;th classiest fascist compani america&quot; kara swisher #sxsw',\n",
              " 'chang mind. need ipad! #infektd need wider screen detect zombies. #sxsw',\n",
              " 'still think awesom #smileyparti #sxsw go give ipad! #pleas',\n",
              " 'curious. googl surpris usag delet button gmail mobil app? #sxswdad #sxsw',\n",
              " 'rt @mention googl launch major new social network call circles, possibl today {link} #sxsw buzz 2.0? lol',\n",
              " 'mobil mayhem! rt @mention hoot! new blog post: hootsuit mobil #sxsw ~ updat iphone, blackberri &amp; android {link}',\n",
              " 'rt @mention co founder googl teacher academi bring hs student austin show use tech: #sxsw #educ',\n",
              " 'town #sxsw? sure check us use googl place foursquar kick ass deals! #foursquar #googleplac',\n",
              " '@mention need appl popup store walk distanc #sxsw now!',\n",
              " '#sxsw friend - u iphon charger @mention borrow tonight? cc: @mention @mention @mention @anniem @maura',\n",
              " 'past 15 minut ipad liter bump @mention street. think buy lotteri ticket. #sxsw',\n",
              " 'google/b search smackdown panel giant room enough chairs. hope search &quot;floor-sitting!&quot; #sxsw',\n",
              " 'ask googl chrome team ie9. feeback: anyth rais bar browser perform good thing #tell #ie9 #fast #sxsw',\n",
              " 'googl reportedli unveil new social network call circles, like launch may {link} #googlecircl #googlem #sxsw',\n",
              " 'love new ipad 2-seem much faster fluid origin seem natur hold. excit use #sxsw week',\n",
              " 'head sole #sxsw event, aclu dotrights/googl parti',\n",
              " 'inoffici #sxsw torrent avail here: {link}',\n",
              " 'rt @mention hm? need anoth 1? rt @mention googl launch major new social network call circles, possibl today {link} #sxsw',\n",
              " 'rt @mention also function ipad. \\x89ûï@mention sure lot ipad flight. @mention #nerdsunit #sxsw\\x89û\\x9d',\n",
              " \"rachael harris! that' saw. drive nuts. thank you, google. #sxsw\",\n",
              " 'new #ubersoci #iphon app store includ uberguid #sxsw sponsor #mashabl {link}',\n",
              " 'rt @mention killer thought @mention - pay service, probabl sold (ref google, tv ad etc)#sxsw #psfk',\n",
              " 'new version googl map mobil pretti amaz - vector base &amp; fast! #sxsw',\n",
              " 'new moos tracker - googl discuss import locat mobile. {link} #sxsw',\n",
              " 'anybodi troubl download #sxsw pak @mention app iphone.',\n",
              " 'pick &quot;mophie&quot; iphon charg case #sxsw tradeshow. doubt use time great long day out.',\n",
              " 'appl &quot;pop up&quot; store sxsw event {link} via @mention #sxsw',\n",
              " 'line #ipad 2 @mention @mention #sxsw',\n",
              " 'course! rt @mention #sxsw ipad store sold everyth except 64gig wifi white',\n",
              " 'appl popup store #sxsw {link} #gonnagetanipad2',\n",
              " '&quot;pop up&quot; appl store packed! #sxsw',\n",
              " \"google' two main #seo factors: topic site author via @mention #sxsw\",\n",
              " '#sxsw, appl school market expert {link} via @mention',\n",
              " 'rt @mention #sxsw: ipad design headach (take two tablet call morning) {link}',\n",
              " '@mention googl analyt - 58,967 visits, ipad iphon rank top 5 way peopl access it. #newsapp #sxsw',\n",
              " 'mad alreadi downtown 1st day #sxsw. appl popup store seem brisk biz',\n",
              " 'u = smart 4 pack extra :) rt @mention way sunni austin #sxsw! extra iphon stow, case. @mention @mention',\n",
              " '.@mention someth call googl place hotpot work recommend engine. #sxsw',\n",
              " 'appl brought water ipad line #sxsw',\n",
              " '#technew \\x89ûïwin\\x89û\\x9d sxsw: hint \\x89ûò it\\x89ûª answer everi year {link} #tech_new #bill_murray #how_to #iphon #sxsw #tech',\n",
              " 'wow folks, make sure iphon ringer turn way u pre-sunris flight. #internalalarmclockftw #sxsw',\n",
              " 'came school last thursday, febuari {link} ipad #sxsw',\n",
              " 'crowd control appl pop #sxsw {link}',\n",
              " 'social technolog amazing: googl set person finder english japanese: {link} #sxsw',\n",
              " '@mention check googletv ipad apps: connect tv experi {link} #sxsw #connectedtv',\n",
              " '\\x89ûï@mention rt @mention googl launch new social network call circles, possibl today {link} #sxsw\\x89û\\x9d report buzz?',\n",
              " '&quot;googl product need condensed&quot;, #merissa #mayor #sxsw confer 2011 {link}',\n",
              " \"ain't parti like googl party, caus googl parti got taco n ice cream #sxsw\",\n",
              " 'find stupid stupid game #ipad current special #sxsw sale! {link}',\n",
              " 'rt @mention @mention wanna sign beta: {link} #sxsw #hhr ---&gt;&gt; it!',\n",
              " \"among thing miss #sxsw: google-aclu 80' danc party.\",\n",
              " '@mention {link} get #sxsw app yet? android version schedule.',\n",
              " '#sxsw 2011: demo samsung tv control #android phone {link}',\n",
              " 'rt @mention #sxsw #hootsuit #chilltab #tablet stand rocks! canadian social media #ipad best @mention {link}',\n",
              " \"@mention 'goodguide' iphon app scan barcod rank environment respons company-nic pressure!#smmnextgen #sxsw\",\n",
              " \"homeless guy outsid pop-up #sxsw appl store hold sign: &quot;sav ipad 2&quot; (don't ask photo)\",\n",
              " 'ipad 2 sync complete! live! #livingthedream #sxsw',\n",
              " 'rt @mention agre \\x89ûó novelti #ipad news #app fade fast among digit deleg \\x89ûó {link} #media #sxsw (via @mention',\n",
              " 'iphon go sleep. prepar sleep 30-45 minut #sxsw ^pr',\n",
              " '@mention heard downtown locat sold $1m merchandis last night #sxsw #appl #ipad2',\n",
              " '#tech appl head #sxsw, set temporari store austin {link}',\n",
              " 'austin: surprising, popular accessori seem ipad. close follow bbq pork waffl cone. #sxsw',\n",
              " 'rt @mention 97% farmer mobil phone, 43% smartphone. marketshar - bb - 33% 18% android, 10% iphone. #mobilefarm #sxsw',\n",
              " '@mention @mention nc buzz #ipad2 geekdom austin #sxsw elevate, smart # apple.',\n",
              " 'group next 6 ppl @mention table. everyon use thier phone/ipad instead take other. #sxsw',\n",
              " \"accord google' marissa mayer, futur location: augment reality, contextu discovery, make smartphon smarter. #sxsw #fb\",\n",
              " 'sony, samsung follow apple, hp lead #sxsw {link} #tech',\n",
              " 'get see googl fail social anoth day rt @mention okay, googl circl debut #sxsw today',\n",
              " 'true rt @mention way truli understand materi make thing it. jonathan ive , appl vp design #sxsw',\n",
              " '&quot;th futur touch user interfac design&quot; wonder present (bi microsoft employees) mention ipad. #sxsw',\n",
              " '!?!? @mention #sxsw provid iphon chargers?!? chang mind go next year!',\n",
              " 'full house. appar peopl care googl rank synthet life. tsk, tsk people. #qagb #sxsw',\n",
              " 'got green? check @mention live austin #sxsw ..check show schedul -&gt; {link}',\n",
              " '#technew sxsw, appl school market expert {link} #tech_new #appl #jobs_co #sxsw #tech',\n",
              " 'ipad2 me. 3 week w ipad sinc gave @mention #sxsw!! withdrawal!!!',\n",
              " 'await keynot speaker chri poole. #sxsw #iphon #twitpict {link}',\n",
              " 'guess @mention excus get ipad 2: {link} #sxsw',\n",
              " 'give $100 next person come #sxsw tell cool android -- look around me! look hard.',\n",
              " 'post interview @mention @mention story. realli fun! {link} #appsavvi #sxsw',\n",
              " 'matthew davis/design ipad- &quot;th web like strip mall content...&quot; #sxsw',\n",
              " 'rt @mention thank @mention publish news new medic app #sxswi conf. blog {link} #sxsw #sxswh #mhealth',\n",
              " 'rt @mention @mention @mention austin street closur sxsw googl map form: {link} #sxsw #austin',\n",
              " 'drink call alan ture make lego robot. oh, googl :) #sxsw @mention speakeasi {link}',\n",
              " 'fulli anticip everi geek-douch tote ipad 2 #sxsw. peopl also worth going.',\n",
              " \"can't wait see @mention 's to! @mention big news {link} #googl #circl #sxsw\",\n",
              " 'googl launch major new social network call circles, possibl today #sxsw {link}',\n",
              " 'flipboard develop iphon version, android, say @mention #sxsw',\n",
              " 'use ipad set list! #sxsw band',\n",
              " 'realli find enjoy ipad design principles. well done. #tapworthi use clear point throughout. #sxsw',\n",
              " 'join @mention soon: 12:30pm, hilton 615ab, #sxsw: rt @mention go android develop meetup?',\n",
              " 'rt @mention appl employe show forc #sxsw popup appl store. #ipad2',\n",
              " 'houston airport #sxsw number peep text away hysterical. one #iphon user covet electr outlet lol',\n",
              " 'two appl store atx!! rt @mention ipad 2 goe sale next friday...th austin appl store go busy! #sxsw\\x89û\\x9d',\n",
              " 'austin wk&amp; need #iphon #ipad fixed,find guy w/the sign hilton cnr near conventionctr #sxsw {link}',\n",
              " 'rt @mention rt @mention googl launch major new social network call circles, {link} #sxsw #nptech',\n",
              " '#appl set open popup shop core #sxsw action downtown #austin {link} #ipad',\n",
              " 'rt @mention lack collabor &amp; opportun rt @mention latin america produc next @mention @mention ? #latism #latam #sxsw',\n",
              " 'interview artist behind #ogilvynotes: #ogilvi #sydney #sxsw #podcast ep4 #ausxsw {link}',\n",
              " 'googl launch major new social network call circles, possibl today @mention {link} via @mention #sxsw',\n",
              " 'jut time #sxsw =&gt; group-text war heat up: fast societi launch new android app, updat iphon app {link}',\n",
              " \"rt @mention finish take photo #googl photobooth! know heart you! #sxsw (@mention maggi mae' w/ 101 others) {link}\",\n",
              " \"rt @mention #sxsw @mention talk - demo' googl place w/ hotpot! integr rating/recommend system android/iphon - cool stuff!!!\",\n",
              " 'rt @mention rt @mention interest googl #mobil stat #sxsw - 40% googl map user (~150mm\\x89û_ (cont) {link}',\n",
              " '@mention googl parti tonight? go tri make it. mani events! #sxswi #sxsw',\n",
              " 'cc: @mention rt @mention new #ubersoci #iphon app store includ uberguid #sxsw {link}',\n",
              " 'panel believ daili deal ultim go self-serve, w/caveats. kelt liken googl adwords. interesting. #dailyd #sxsw #fh',\n",
              " 'stop let us make custom iphon case! #zazzlesxsw #sxsw #sxswi {link} {link}',\n",
              " 'rt @mention .@mention retir wine librari tv, move onto daili grape. get app yr iphone. #thankyouecon #sxsw',\n",
              " 'rt @mention download 20+ free track @mention music sampler @mention includ @mention {link} #sxsw',\n",
              " 'welcom tx. make friends, spend lotsa money &amp; importantly, look ur iphon occasion u expect 2 get run #sxsw',\n",
              " 'way &quot;ipad design headaches.&quot; sure bloggable, sure interesting! #sxsw {link}',\n",
              " '#sxsw conf 1 everi 200 peopl mac ipad (includ me). happen pc? becom obsolete?',\n",
              " 'rt @mention googl latina see find? porn...thi first impress peopl get us? #latism #sxsw #sxswlatam #latinasintech\\x89û\\x9d',\n",
              " 'mani austin? follow @mention find googler #sxsw {link}',\n",
              " 'headline: &quot;#ipad 2 must-hav gadget #sxsw&quot; hmm... could seen one coming! {link} #gadget',\n",
              " \"way, love y'all discuss apple-bre midst pre-#sxsw madness!\",\n",
              " 'appl hp popup #sxsw. gee, wonder get traffic. - {link}',\n",
              " 'line ppl around block. #sxsw party? no, appl store! insane! {link}',\n",
              " 'tweet regist exclus pass events, parti + ipad 2 #sxsw - &quot;giv liberti and/or free #sxswpass - pleas rt&quot;',\n",
              " 'rt @mention @mention rainey street nice altern 6th street #sxsw parties. walk direct convent center {link}',\n",
              " 'rt @mention sam unlock tightasstravel achiev #sxsw use googl map transit instructions.',\n",
              " 'check poked, like &amp; re-tweeted: googl love stori sxsw. {link} #sxsw #sxsw15 #sxswic',\n",
              " 'rt @mention @mention launch social network call circles, possibl today {link} #sxsw via: @mention - interest ^ jl',\n",
              " 'technologist think &quot;search histori see 125 person line get &quot;googl bing speak ranking&quot; #sxsw',\n",
              " 'hope best thing come #sxsw fact peopl flew austin pick ipad.',\n",
              " 'rt @mention @mention go beyond hour &amp; share posit action world. download #earthhour iphon app: {link} #sxsw',\n",
              " 'social proof power market motiv -- see white earbud headphon cabl know: appl here. @mention #sxsw',\n",
              " 'woohoo! rt @mention detail ipad 2 giveaway come tonight, rt this! #sxsw #sxswi',\n",
              " \"&quot;i'm fond ipad.&quot; - @mention #sxswi #sxsw\",\n",
              " 'rt @mention new ipad app speech therapi commun showcas #sxsw confer {link} #sxswi #sxsh #sxswh #hcsm #slp',\n",
              " \"rt @mention google' marissa mayer extol cool googl mobil map v 5.2 &quot;mobil surpass desktop usag 4 1st time year.&quot; #sxsw #sxswi\",\n",
              " 'follow buzz? (hee hee) - googl drip feed inform facebook rival: #circl #sxsw',\n",
              " '+2: rt @mention best thing heard weekend #sxsw &quot;i gave ipad 2 money #japan relief. need ipad 2.&quot;',\n",
              " 'rt @mention #googl launch major new social network call circles, possibl today {link} #sxsw @mention',\n",
              " '@mention thanks! good tidbit i/o conference, too, thank share that. #sxsw #googl',\n",
              " 'wonder #sxsw creep everi year still manag know it! stop, please, #google.',\n",
              " 'rt @mention shini new @mention @mention @mention apps, new @garyve book, pop-up ipad 2 stores... #sxsw christma nerds.',\n",
              " 'awesom convers network line #sxsw appl store.',\n",
              " 'temp appl store kill austin. sell earli everi day. #sxsw',\n",
              " 'like vega #ces, iphon best use hand warmer #sxsw.',\n",
              " 'rt @mention want free juic pack air iphon 4? #sxsw? we\\x89ûªll give away 5 to-be-announc location. stay tuned!',\n",
              " 'join heav river flow see marissa mayer (google) #sxsw',\n",
              " '&quot;w want undivid attention, pleas take mobil phone ipad 2s&quot; - @mention #sxsw #leanstartup',\n",
              " 'rt @mention appl open temporari store downtown austin #sxsw ipad 2 launch {link}',\n",
              " 'rt @mention awesom present digit magazin {link} #touchingstori #sxsw #gsdm',\n",
              " 'dear #sxsw iphon app: suck year! (sitby.u great includ film sessions)',\n",
              " 'mayer make clear googl go straight foursquar &amp; gowalla googl hotpot. #sxsw',\n",
              " 'thx rt @mention rt @mention bad want go home read googl reader feed? #geek #sxsw',\n",
              " 'gari vaynerchuck lì_gger ner winelibrary.tv och slì_pper stì_llet iphone-appen daili grape. #thankyoueconomi #sxsw #swesxsw',\n",
              " \"even born yet rt @mention google' #sxsw parti theme &quot;parti like 1986&quot;(@ment maggi mae's) [pic]: {link}\",\n",
              " '#sxsw post-mobil social parti @mention {link} (via @mention could win photographi gear &amp; ipad 2',\n",
              " 'appl open pop-up shop sxsw [report] - {link} #sxsw',\n",
              " \"parti thrown googl aclu...don't tell dad. #sxsw (@mention maggi mae' w/ 78 others) {link}\",\n",
              " 'new social media tool! rt @mention googl launch major new social network, &quot;circles&quot; -possibl today {link} #sxsw',\n",
              " \"line alreadi form apple' pop-up store austin. peopl see festival? {link} #sxsw\",\n",
              " '2+ hour wait makeshift appl store ipad 2. #fail #sxsw',\n",
              " 'rt @mention follow bing/googl seo session #qagb #sxsw buddi @mention #seo',\n",
              " 'rt @mention hey foodies: austin sxsw download new arw iphone/android app use guid dine town! #sxsw',\n",
              " \"@mention wow - gold' gym underneath appl store. kind nutshell, right? #sxsw\",\n",
              " 'wait eagerli googl launch secret new social network call circl today #sxsw &gt;&gt; new updat ?',\n",
              " 'ever wonder googl map captur street views? #sxsw {link}',\n",
              " '#tapworthi #win #tigerblood tenet ipad design? #sxsw',\n",
              " \"tim o'reilli web 2.0 definit - compani surviv built valu consumer-gener data. ebay, amazon, google. #sxsw\",\n",
              " 'rt @mention #sxsw: #15slides: gruber: keep desk appl extend keyboard 2 (discontinu 1991, $169). loud. feel like write better.',\n",
              " 'rt @mention wow, @mention develop ipad app $15k #newsapp #sxsw',\n",
              " 'cool new band alert #sxsw. check hous home. googl now! {link}',\n",
              " 'rt @mention check daili recap #sxsw @mention &amp; @mention @mention hotspot: {link}',\n",
              " 'nice rt @mention appl open pop-up store sxsw festiv {link} #sxsw #ipad #mac',\n",
              " '&quot;googl test \\x89ûï#checkin #offers\\x89û\\x9d #sxsw&quot; @mention {link} s.a. {link} #coupon #4sq',\n",
              " 'listen twit live @mention #sxsw. also went boxe keg party, googl robot event, saw tim ferri speak, check ebay hackathon!',\n",
              " 'rt @mention meet guy bought first ipad 2 #sxsw appl pop-up store {link} /bi @mention',\n",
              " 'googl map mobil go 3d next release, look awesome. #sxsw',\n",
              " '#sxsw, need qr code app #iphon read #vcards. get qrafter -&gt; {link} #qrcode',\n",
              " 'gear make splash, @mention launch &quot;groupon live social-type&quot; reward #sxsw {link} via @mention',\n",
              " '\\x89ûï@mention yet see someon pc (dell otherwise) @mention sxsw - appl macbook pro ipads...#sxsw\\x89û\\x9d b soon!',\n",
              " '@mention @mention googl circl new social media site? wow. #sxsw',\n",
              " 'pack #sxsw = ipad, iphone, blackberry, laptop, video camera. need stylish belt-clip-gadget-holster. oxymoron? #in',\n",
              " 'catch @mention hotel room day 1 #sxsw. also, tweet new ipad.',\n",
              " 'mistak made build netflix iphon #netflixiphon @mention #sxsw',\n",
              " '@mention got ipad #sxsw appl store. thank much!!!!',\n",
              " 'rt @mention launch product #sxsw plenti else. [...] {link}',\n",
              " \"search sxsw via twitter work, check google' real time search, least get result #sxsw\",\n",
              " 'appl #sxsw pop-stor ipad again. 16gb wifi 64gb wifi &amp; wifi/ 3g.',\n",
              " 'rt @mention googl launch major new social network call circles, possibl today @mention #sxsw #sxswi - {link} via @mention',\n",
              " 'good news: break iphone, bad news: 1 screw budge, replac battery. hope stand #sxsw.',\n",
              " '#tech #sxsw, appl school market expert {link}',\n",
              " 'give away ipad 2 kick time #sxsw. visit fb page info: {link}',\n",
              " \"@sxsw hope year' festiv crashi year' iphon app. #sxsw\",\n",
              " \"see google' new social network &quot;circles&quot; today? {link} #sxsw #sxswi\",\n",
              " 'rumor: appl open temporari store downtown austin #sxsw ipad 2 launch {link}',\n",
              " '@mention check #iphon app. nice - check {link} fun #sxsw',\n",
              " \"@mention alreadi line ipad 2' arrived? #sxsw\",\n",
              " 'rt @mention pat #sxsw. know talk about, pleas googl julia sweeney learn.',\n",
              " 'tell #sxsw happen 15 iphon app updat day.',\n",
              " 'googl launch major new social network call circles, possibl today ({link} #sxswi #sxsw via @mention',\n",
              " 'googl plan launch major new social network call circles. preview far super posit #sxsw {link}',\n",
              " 'overload info deliv googl kill discovery? googl say ppl lose curiosity, wonder...w need serendipity. #sxsw',\n",
              " 'rt @mention man, googl *should* launch circl #sxsw. talk strike iron hot. | @mention @mention',\n",
              " 'rt @mention tweet regist exclus pass events, parti + ipad 2 #sxsw - &quot;giv liberti and/or free #sxswpass&quot;',\n",
              " '&quot;p-a-r-t-y-i-n-g&quot; rt @mention gsd&amp;m google.....sit tree {link} #sxsw #gsdm',\n",
              " 'close front #ipad2 line #sxsw appl popup store.',\n",
              " 'nice! @mention #sxsw highlight thu far: made friend w/ istock ux develop :) #singular blow mind: oy! googl own it!',\n",
              " \"google' marissa mayer: &quot;th mobil phone cursor connect physic digit worlds.&quot; #sxsw\",\n",
              " '@mention googl deni work project. releas #sxsw',\n",
              " 'rt @mention rt @mention #sxsw googl launch major new social network call circles, possibl today @mention {link}',\n",
              " 'use googl profil fb entri point? fb personal? tri digg googl reader draw peopl in. #hirem #sxsw',\n",
              " 'noth say douch cake like walk around ipad like iphon #sxsw',\n",
              " \"lawn chair: perfect keyboards. that' dan's, drummer mist giant #sxsw location: {link} {link}\",\n",
              " 'go #sxsw ? doesnt matter, place give away #appl product :) {link}',\n",
              " 'rt @mention rt @mention appl head #sxsw, set temporari store austin {link}',\n",
              " 'rt @mention googl launch major new social network call circles, possibl today @mention #sxsw {link} via @mention #socialmedia',\n",
              " 'rt @mention pack house-go lynn! design ipad interfac - new navig schema #sxsw #uxd {link}',\n",
              " 'appl pop-up store #sxsw? goe impuls control. j.mp/i41h53',\n",
              " 'rt @mention idea combin googl analyt tool know websit program something. #sxsw #bavcid',\n",
              " 'realli great #mophi experi #sxsw -a user 3 month highli recommend iphon 4 batteri #goodcustomerservic',\n",
              " 'launchrock launch ipod ipad sky grab @mention #sxsw! join 2 find location! #launch {link} via @mention',\n",
              " '#tech #appl save #sxsw, set open pop-up store {link} #technolog',\n",
              " 'hurrah!...th #sxswi festiv begun. met mozilla googl folk tonight @mention event. #sxsw',\n",
              " 'lazi f. feed listen #sxsw band iphone? woefulli unprepar music @mention spreadsheet notwithstand',\n",
              " 'rt @mention #pepsicostag yesterday, check bag. may ipad. screen tell mine #sxsw',\n",
              " 'appl quarter music industri 70% digit sale #touchingstori #tbwasxsw #sxsw',\n",
              " 'line wait temp appl store open #sxsw? miss product launch?',\n",
              " 'pleas see josh clark featur @mention client ipad design presentation. #sxsw',\n",
              " 'metric determin engag #sxsw session? ipad batteri drained. use 9 % session no. 1',\n",
              " \"someon ask leo ipad 2 #sxsw, say 'email me, send one free'. o.o\",\n",
              " \"still big line outsid apple' pop-up shop, 3 day ipad' debut. #sxsw\",\n",
              " 'understand, buzz #sxsw : group texting, groupme, ipad 2, apple, deni crowley...mor ?',\n",
              " 'oh, excuse:? rt @mention rt @mention #sxsw: &quot;appl come cool technolog ... go conferences&quot;',\n",
              " 'win ipad 2! via @mention video clipcon! see intro reel {link} #sxsw #suasxsw #sxswaccel #entrepreneur #smallbiz #ceokidschat',\n",
              " '#socialnetworks: #googl noch heut mit #circles? #facebook-konkurrent! {link} via @mention und {link} #sxsw',\n",
              " 'wow. iphon drop side iron cactu balconi screen shatter! amazing. #sxsw #fb',\n",
              " 'dude thought buddi figur put keyboard ipad. told netbook,: guy unconvinced. obvious wasted. #sxsw',\n",
              " 'rt @mention iphon autocorrect &quot;sxsw&quot; &quot;scar&quot; -- foreshadowing? #sxsw',\n",
              " 'rt @mention [just fyi...] breaking: googl launch major new social network call circles...today? {link} via @mention #sxsw #socialmedia',\n",
              " 'best hungri #sxsw tip: mekong river, great vietnames {link} 6th btw brazo &amp; san jacinto till 11pm via @mention',\n",
              " 'great 3d xml visual skier use googl locat data. #sxsw',\n",
              " \":) rt @mention love it. @mention #sxsw: &quot;appl come w/ cool technolog one' ever heard go conferences&quot;\",\n",
              " '@mention get #android updat by/for #sxsw? least alpha? need testers?',\n",
              " \"anoth late start #sxsw #sxswi damn googl rock 80' parti\",\n",
              " 'marissa mayer: 40% googl map usag mobil (and 150 million mobileåêusers) {link} via @mention #sxsw $goog',\n",
              " 'pop-up appl store, #sxsw pop-up bar call #dickbar',\n",
              " '@jessede know @fludapp ? awesom ipad/iphon app like appreci design. also, give free ts #sxsw',\n",
              " '#gowalla launch &quot;groupon live social-type&quot; reward #sxsw {link}',\n",
              " 'rt @mention appl pop store #sxsw. {link}',\n",
              " 'hoot! rt @mention new blog post: hootsuit mobil #sxsw ~ updat iphone, b...',\n",
              " 'way truli understand materi make thing it. jonathan ive , appl vp design #sxsw',\n",
              " 'even secur guard austin enjoy ipad time. #sxsw (cc @mention {link}',\n",
              " '&quot;tattoo ipad&quot; chalk pavement. mean? #sxsw #applefanat',\n",
              " 'rt @mention #sxsw @mention 80 splendor dancin spazzmat aclu googl #partylikeits1986 ! {link}',\n",
              " 'rt @mention line might well popup appl store austin #sxsw #ipad2',\n",
              " \"could fun provid #sxsw mis-direct w/ fictiti parti &amp; giveaways? wtf? appl give away ipad2' ihop!\",\n",
              " '#sxsw: #indieauthors: sanders: &quot;on author talk technolog stories. facebook/iphon show stories?&quot;',\n",
              " 'rt @mention #appl head sxsw, set temporari store #austin {link} #new #sxsw - bastard bring temptat',\n",
              " 'half hour #futureoftouch first mention ipad microsoft speaker #sxsw',\n",
              " 'rt @mention #startups: free premium servic 1st job post {link} #lean #leanux #leanstartup #sxsw #sxswi #launch #startup #founder',\n",
              " 'check poked, like &amp; re-tweeted: googl love stori sxsw. #sxsw #sxsw15 #sxswic',\n",
              " 'said ipad? appl store #sxsw photo @mention @mention @mention @mention @sheltongreen @ericschu_ra {link}',\n",
              " '@mention parti photobooth #sxsw #donthat {link} @mention',\n",
              " 'tx rt @mention {link} rt\\x89ûï@mention googl launch major new social network call circles. #sxsw\\x89û\\x9d',\n",
              " \"googl find new way help small busi say place page #sxsw [here' overview {link}\",\n",
              " 'met rebecca moor fr googl @mention - amaz #womenintech come see room6ab austin conf ctr #sxswi #sxsw',\n",
              " 'rt @mention #sxsw? give away ipad 2 creator popular disc interactive. creat disc &amp; share twitter!',\n",
              " 'met three girl appl itun connect team @mention iphon develop meetup. got 2 talk would chang itc. #sxsw',\n",
              " 'line outsid #sxsw appl pop-up store. #wasteoftimeatsxsw {link}',\n",
              " 'jadi penasaran rt @mention googl launch major new social network call circles, possibl today {link} #sxsw',\n",
              " 'cult apple: emot responses, experiences, magical, work art, control ecosystem. #sxsw #technopriest',\n",
              " \"rt @mention conan asst: 'lot hipster here..she' look man w/ fedora ipad 2' lol! #sxsw\",\n",
              " 'iphon charg parti hallway. ux ia profession unite! #sxsw',\n",
              " 'rt @mention rt @mention texa observ tomlinson say would doubl revenu per issu ipad subscriptions. #newsapp #sxsw',\n",
              " 'rt @mention rt @mention @mention 3 iphon app use south southwest interact {link} #sxsw #sxswi',\n",
              " '150 million mobil googl map user @mention #sxsw',\n",
              " '#sxsw tougher crowd colin quinn rt @mention hey marissa mayer pleas tell us someth new product googl launch month ago',\n",
              " 'en rout austin, tx #sxsw accompani fedora + instrument + weird haircut + appl product',\n",
              " \"apple' #sxsw pop store ipad2 sayeth @mention {link}\",\n",
              " 'via @mention - #appl set open temp store downtown #austin #sxsw - {link} #ipad2',\n",
              " 'got shini new #ipad2 #sxsw ? discov new music {link} (built html5, flash - look great ipad)',\n",
              " \"rt @mention per rumor, googl may preview big social strategi @mention '80s-theme costum parti #sxsw. yep. {link} #cnet\",\n",
              " '&amp; happened? :) rt @mention @mention put gun 2 @mention head.giv iphone! #sxsw {link}',\n",
              " '@mention panel hashtag mom ipad: #yourmom #sxsw #win',\n",
              " 'miss this, @mention check googl doodles: burn man pac-man beyond. {link} #sxsw',\n",
              " 'location, pixieengine! rt @mention googl say futur location, location, location: {link} #sxsw #cnn',\n",
              " \"rt @mention news sxswi apple' temporari ipad store? #sxsw #wth?\",\n",
              " ...]"
            ]
          },
          "execution_count": 42,
          "metadata": {},
          "output_type": "execute_result"
        }
      ],
      "source": [
        "import re\n",
        "corpus=[]\n",
        "ps=PorterStemmer()\n",
        "for i in range(0,len(X)):\n",
        "    review=re.sub(\"[^a-zA-Z]\",\" \",X[i])  # this will take all string that match given pattern of regular expressio\n",
        "    review=review.lower()   # lowercase all words\n",
        "    review=review.split()  # split paragraph in sentences and sentences in word\n",
        "    # review=[print(word) for word in review] # take each word from each review\n",
        "    review=[ps.stem(word) for word in review if word not in stopwords.words(\"english\")] # will stem only those words which are not in stopwords\n",
        "    review=\" \".join(review)\n",
        "    corpus.append(review)\n",
        "\n",
        "corpus"
      ]
    },
    {
      "cell_type": "code",
      "execution_count": 69,
      "id": "57f75709",
      "metadata": {},
      "outputs": [
        {
          "name": "stdout",
          "output_type": "stream",
          "text": [
            "['web', 'designer\\x89ûª', 'guid', 'io', '(', 'and', 'android', ')', 'apps', ',', 'today', '@', 'mention', '10', 'a.m', '!', '{', 'link', '}', '#', 'sxsw']\n",
            "\n",
            "\n",
            "['rt', '@', 'mention', 'line', 'ipad', '2', 'longer', 'today', 'yesterday', '.', '#', 'sxsw', '//', 'get', 'line', 'today', 'fun', '?']\n",
            "\n",
            "\n",
            "['crazi', 'appl', 'open', 'temporari', 'store', 'austin', 'tomorrow', 'handl', 'rabid', '#', 'sxsw', 'eye', 'pad', 'seekers', '.']\n",
            "\n",
            "\n",
            "['lesson', 'googl', 'one', 'pass', ':', 'digit', 'environment', ',', 'user', 'want', 'purchas', 'across', 'everi', 'platform', 'one', 'tool', '.', '#', 'sxsw', '#', 'elonsxsw']\n",
            "\n",
            "\n",
            "['rt', '@', 'mention', 'panel', ':', '&', 'quot', ';', 'your', 'mom', 'ipad', ',', 'design', 'boomers', '&', 'quot', ';', '#', 'sxsw']\n",
            "\n",
            "\n"
          ]
        }
      ],
      "source": [
        "# Tokenization for model better performance \n",
        "from nltk.tokenize import word_tokenize\n",
        "\n",
        "tokenized_corpus = []  # This will store tokenized versions\n",
        "\n",
        "for each in corpus:\n",
        "    tokens = word_tokenize(each)  # Split into words\n",
        "    tokenized_corpus.append(tokens)\n",
        "\n",
        "# Optional: To check\n",
        "for tokens in tokenized_corpus[:5]:  # just showing first 5 examples\n",
        "    print(tokens)\n",
        "    print(\"\\n\")\n"
      ]
    },
    {
      "cell_type": "markdown",
      "id": "9860da26",
      "metadata": {
        "id": "9860da26"
      },
      "source": [
        "## One hot ecoding of text"
      ]
    },
    {
      "cell_type": "code",
      "execution_count": 72,
      "id": "855a5e14",
      "metadata": {
        "colab": {
          "base_uri": "https://localhost:8080/"
        },
        "id": "855a5e14",
        "outputId": "04910d23-383e-4b2d-afb7-56bf447a0ba0"
      },
      "outputs": [
        {
          "name": "stdout",
          "output_type": "stream",
          "text": [
            "[1630, 4196, 480, 2254, 1847, 3605, 818, 264, 888, 4234, 1776, 17, 1941, 1087]\n"
          ]
        }
      ],
      "source": [
        "# Suppose tokenized_corpus is already made using word_tokenize()\n",
        "\n",
        "from tensorflow.keras.preprocessing.text import one_hot\n",
        "\n",
        "voc_size = 5000\n",
        "\n",
        "# JOIN each token list into a string and then one_hot to avoid error of \" list has no attribute .lower()\"\n",
        "one_hot_repr = [one_hot(\" \".join(tokens), voc_size) for tokens in tokenized_corpus]\n",
        "\n",
        "print(one_hot_repr[0])\n"
      ]
    },
    {
      "cell_type": "markdown",
      "id": "5906c469",
      "metadata": {
        "id": "5906c469"
      },
      "source": [
        "# Padding\n",
        "Making all sentences of same size so that they can be provided as the input to model"
      ]
    },
    {
      "cell_type": "code",
      "execution_count": 73,
      "id": "599326f9",
      "metadata": {
        "colab": {
          "base_uri": "https://localhost:8080/"
        },
        "id": "599326f9",
        "outputId": "f980b464-9772-4e28-fe90-790ebad0be40"
      },
      "outputs": [
        {
          "data": {
            "text/plain": [
              "array([[   0,    0,    0, ...,   17, 1941, 1087],\n",
              "       [   0,    0,    0, ..., 4344,  264, 3561],\n",
              "       [   0,    0,    0, ..., 2398, 1776, 2685],\n",
              "       ...,\n",
              "       [   0,    0,    0, ..., 4680, 1941, 1087],\n",
              "       [   0,    0,    0, ..., 2036,  854, 1087],\n",
              "       [   0,    0,    0, ..., 1087, 4046, 1386]])"
            ]
          },
          "execution_count": 73,
          "metadata": {},
          "output_type": "execute_result"
        }
      ],
      "source": [
        "from tensorflow.keras.preprocessing.sequence import pad_sequences\n",
        "max_sentence_length=20\n",
        "same_sized_sentence=pad_sequences(one_hot_repr,padding=\"pre\",maxlen=max_sentence_length)\n",
        "same_sized_sentence"
      ]
    },
    {
      "cell_type": "markdown",
      "id": "c261eae8",
      "metadata": {
        "id": "c261eae8"
      },
      "source": [
        "# Deep Learning + NLP\n",
        "## Model Creation, adding Embedding layer and LSTM RNN"
      ]
    },
    {
      "cell_type": "code",
      "execution_count": 74,
      "id": "0904d099",
      "metadata": {
        "colab": {
          "base_uri": "https://localhost:8080/",
          "height": 241
        },
        "id": "0904d099",
        "outputId": "2a4f3c1e-d76b-4277-bcfa-b1bea4651117"
      },
      "outputs": [
        {
          "data": {
            "text/plain": [
              "Sentiment\n",
              "2    3765\n",
              "3    2089\n",
              "1     399\n",
              "0     111\n",
              "Name: count, dtype: int64"
            ]
          },
          "execution_count": 74,
          "metadata": {},
          "output_type": "execute_result"
        }
      ],
      "source": [
        "y.value_counts()"
      ]
    },
    {
      "cell_type": "code",
      "execution_count": 75,
      "id": "b9859111",
      "metadata": {
        "id": "b9859111"
      },
      "outputs": [
        {
          "name": "stderr",
          "output_type": "stream",
          "text": [
            "e:\\vs code software\\python\\Lib\\site-packages\\keras\\src\\layers\\core\\embedding.py:90: UserWarning: Argument `input_length` is deprecated. Just remove it.\n",
            "  warnings.warn(\n"
          ]
        }
      ],
      "source": [
        "model=Sequential()\n",
        "each_word_vectors=10\n",
        "model.add(Embedding(input_dim=voc_size,output_dim=each_word_vectors,input_length=max_sentence_length))\n",
        "model.add(LSTM(30))\n",
        "model.add(Dense(4,activation=\"softmax\"))\n",
        "model.compile(loss=\"sparse_categorical_crossentropy\", metrics=[\"accuracy\"],optimizer=\"adam\")"
      ]
    },
    {
      "cell_type": "code",
      "execution_count": 76,
      "id": "nmpguVtiNHwc",
      "metadata": {
        "colab": {
          "base_uri": "https://localhost:8080/",
          "height": 225
        },
        "id": "nmpguVtiNHwc",
        "outputId": "f3da1c07-41b2-4847-96a8-982d08b9b360"
      },
      "outputs": [
        {
          "data": {
            "text/html": [
              "<pre style=\"white-space:pre;overflow-x:auto;line-height:normal;font-family:Menlo,'DejaVu Sans Mono',consolas,'Courier New',monospace\"><span style=\"font-weight: bold\">Model: \"sequential_2\"</span>\n",
              "</pre>\n"
            ],
            "text/plain": [
              "\u001b[1mModel: \"sequential_2\"\u001b[0m\n"
            ]
          },
          "metadata": {},
          "output_type": "display_data"
        },
        {
          "data": {
            "text/html": [
              "<pre style=\"white-space:pre;overflow-x:auto;line-height:normal;font-family:Menlo,'DejaVu Sans Mono',consolas,'Courier New',monospace\">┏━━━━━━━━━━━━━━━━━━━━━━━━━━━━━━━━━┳━━━━━━━━━━━━━━━━━━━━━━━━┳━━━━━━━━━━━━━━━┓\n",
              "┃<span style=\"font-weight: bold\"> Layer (type)                    </span>┃<span style=\"font-weight: bold\"> Output Shape           </span>┃<span style=\"font-weight: bold\">       Param # </span>┃\n",
              "┡━━━━━━━━━━━━━━━━━━━━━━━━━━━━━━━━━╇━━━━━━━━━━━━━━━━━━━━━━━━╇━━━━━━━━━━━━━━━┩\n",
              "│ embedding_2 (<span style=\"color: #0087ff; text-decoration-color: #0087ff\">Embedding</span>)         │ (<span style=\"color: #00d7ff; text-decoration-color: #00d7ff\">None</span>, <span style=\"color: #00af00; text-decoration-color: #00af00\">20</span>, <span style=\"color: #00af00; text-decoration-color: #00af00\">10</span>)         │        <span style=\"color: #00af00; text-decoration-color: #00af00\">50,000</span> │\n",
              "├─────────────────────────────────┼────────────────────────┼───────────────┤\n",
              "│ lstm_2 (<span style=\"color: #0087ff; text-decoration-color: #0087ff\">LSTM</span>)                   │ (<span style=\"color: #00d7ff; text-decoration-color: #00d7ff\">None</span>, <span style=\"color: #00af00; text-decoration-color: #00af00\">30</span>)             │         <span style=\"color: #00af00; text-decoration-color: #00af00\">4,920</span> │\n",
              "├─────────────────────────────────┼────────────────────────┼───────────────┤\n",
              "│ dense_2 (<span style=\"color: #0087ff; text-decoration-color: #0087ff\">Dense</span>)                 │ (<span style=\"color: #00d7ff; text-decoration-color: #00d7ff\">None</span>, <span style=\"color: #00af00; text-decoration-color: #00af00\">4</span>)              │           <span style=\"color: #00af00; text-decoration-color: #00af00\">124</span> │\n",
              "└─────────────────────────────────┴────────────────────────┴───────────────┘\n",
              "</pre>\n"
            ],
            "text/plain": [
              "┏━━━━━━━━━━━━━━━━━━━━━━━━━━━━━━━━━┳━━━━━━━━━━━━━━━━━━━━━━━━┳━━━━━━━━━━━━━━━┓\n",
              "┃\u001b[1m \u001b[0m\u001b[1mLayer (type)                   \u001b[0m\u001b[1m \u001b[0m┃\u001b[1m \u001b[0m\u001b[1mOutput Shape          \u001b[0m\u001b[1m \u001b[0m┃\u001b[1m \u001b[0m\u001b[1m      Param #\u001b[0m\u001b[1m \u001b[0m┃\n",
              "┡━━━━━━━━━━━━━━━━━━━━━━━━━━━━━━━━━╇━━━━━━━━━━━━━━━━━━━━━━━━╇━━━━━━━━━━━━━━━┩\n",
              "│ embedding_2 (\u001b[38;5;33mEmbedding\u001b[0m)         │ (\u001b[38;5;45mNone\u001b[0m, \u001b[38;5;34m20\u001b[0m, \u001b[38;5;34m10\u001b[0m)         │        \u001b[38;5;34m50,000\u001b[0m │\n",
              "├─────────────────────────────────┼────────────────────────┼───────────────┤\n",
              "│ lstm_2 (\u001b[38;5;33mLSTM\u001b[0m)                   │ (\u001b[38;5;45mNone\u001b[0m, \u001b[38;5;34m30\u001b[0m)             │         \u001b[38;5;34m4,920\u001b[0m │\n",
              "├─────────────────────────────────┼────────────────────────┼───────────────┤\n",
              "│ dense_2 (\u001b[38;5;33mDense\u001b[0m)                 │ (\u001b[38;5;45mNone\u001b[0m, \u001b[38;5;34m4\u001b[0m)              │           \u001b[38;5;34m124\u001b[0m │\n",
              "└─────────────────────────────────┴────────────────────────┴───────────────┘\n"
            ]
          },
          "metadata": {},
          "output_type": "display_data"
        },
        {
          "data": {
            "text/html": [
              "<pre style=\"white-space:pre;overflow-x:auto;line-height:normal;font-family:Menlo,'DejaVu Sans Mono',consolas,'Courier New',monospace\"><span style=\"font-weight: bold\"> Total params: </span><span style=\"color: #00af00; text-decoration-color: #00af00\">55,044</span> (215.02 KB)\n",
              "</pre>\n"
            ],
            "text/plain": [
              "\u001b[1m Total params: \u001b[0m\u001b[38;5;34m55,044\u001b[0m (215.02 KB)\n"
            ]
          },
          "metadata": {},
          "output_type": "display_data"
        },
        {
          "data": {
            "text/html": [
              "<pre style=\"white-space:pre;overflow-x:auto;line-height:normal;font-family:Menlo,'DejaVu Sans Mono',consolas,'Courier New',monospace\"><span style=\"font-weight: bold\"> Trainable params: </span><span style=\"color: #00af00; text-decoration-color: #00af00\">55,044</span> (215.02 KB)\n",
              "</pre>\n"
            ],
            "text/plain": [
              "\u001b[1m Trainable params: \u001b[0m\u001b[38;5;34m55,044\u001b[0m (215.02 KB)\n"
            ]
          },
          "metadata": {},
          "output_type": "display_data"
        },
        {
          "data": {
            "text/html": [
              "<pre style=\"white-space:pre;overflow-x:auto;line-height:normal;font-family:Menlo,'DejaVu Sans Mono',consolas,'Courier New',monospace\"><span style=\"font-weight: bold\"> Non-trainable params: </span><span style=\"color: #00af00; text-decoration-color: #00af00\">0</span> (0.00 B)\n",
              "</pre>\n"
            ],
            "text/plain": [
              "\u001b[1m Non-trainable params: \u001b[0m\u001b[38;5;34m0\u001b[0m (0.00 B)\n"
            ]
          },
          "metadata": {},
          "output_type": "display_data"
        }
      ],
      "source": [
        "model.build((None,20))\n",
        "model.summary()"
      ]
    },
    {
      "cell_type": "markdown",
      "id": "e27cea5f",
      "metadata": {},
      "source": [
        "## Balancing the Data due to being unbalanced model considers everything positive\n",
        "This is the best way in Deep learning to tell model where to focus more\n"
      ]
    },
    {
      "cell_type": "code",
      "execution_count": null,
      "id": "1f0ba6e9",
      "metadata": {},
      "outputs": [],
      "source": [
        "#Class weights help the model to pay more attention to the underrepresented classes (minority classes) \n",
        "# and less attention to the overrepresented classes (majority classes).\n",
        "from sklearn.utils import class_weight\n",
        "class_weights=class_weight.compute_class_weight(class_weight=\"balanced\",\n",
        "            classes=np.unique(y),\n",
        "            y=y\n",
        "            )\n",
        "class_weights=dict(enumerate(class_weights))"
      ]
    },
    {
      "cell_type": "markdown",
      "id": "bb61035d",
      "metadata": {
        "id": "bb61035d"
      },
      "source": [
        "## Model Training"
      ]
    },
    {
      "cell_type": "code",
      "execution_count": 86,
      "id": "c25085dd",
      "metadata": {
        "id": "c25085dd"
      },
      "outputs": [],
      "source": [
        "X_final=np.array(same_sized_sentence)\n",
        "y_final=np.array(y)"
      ]
    },
    {
      "cell_type": "code",
      "execution_count": 87,
      "id": "fb1e9784",
      "metadata": {
        "id": "fb1e9784"
      },
      "outputs": [],
      "source": [
        "from sklearn.model_selection import train_test_split\n",
        "X_train,X_test,y_train,y_test=train_test_split(X_final,y_final,train_size=0.8, random_state=42)"
      ]
    },
    {
      "cell_type": "code",
      "execution_count": null,
      "id": "249af63f",
      "metadata": {},
      "outputs": [],
      "source": [
        "# Oversampling the minority class increases the number of examples from the minority class.\n",
        "# I apply this technique b/c most of the setiment in my dataset is positive and that's model predict positive even for negative sentiments.\n",
        "# It will increase the number of negative sentiments in the dataset.\n",
        "from imblearn.over_sampling import SMOTE\n",
        "\n",
        "# Apply SMOTE (Synthetic Minority Over-sampling Technique)\n",
        "smote = SMOTE(sampling_strategy='auto')  # 'auto' means balance all classes\n",
        "X_resampled, y_resampled = smote.fit_resample(X_train, y_train)"
      ]
    },
    {
      "cell_type": "code",
      "execution_count": 101,
      "id": "6f14d746",
      "metadata": {
        "colab": {
          "base_uri": "https://localhost:8080/"
        },
        "id": "6f14d746",
        "outputId": "54da2e9b-8d69-4a77-c45d-059a5738a38d"
      },
      "outputs": [
        {
          "name": "stdout",
          "output_type": "stream",
          "text": [
            "Epoch 1/10\n",
            "\u001b[1m102/102\u001b[0m \u001b[32m━━━━━━━━━━━━━━━━━━━━\u001b[0m\u001b[37m\u001b[0m \u001b[1m1s\u001b[0m 9ms/step - accuracy: 0.9030 - loss: 0.1997\n",
            "Epoch 2/10\n",
            "\u001b[1m102/102\u001b[0m \u001b[32m━━━━━━━━━━━━━━━━━━━━\u001b[0m\u001b[37m\u001b[0m \u001b[1m1s\u001b[0m 10ms/step - accuracy: 0.9047 - loss: 0.2187\n",
            "Epoch 3/10\n",
            "\u001b[1m102/102\u001b[0m \u001b[32m━━━━━━━━━━━━━━━━━━━━\u001b[0m\u001b[37m\u001b[0m \u001b[1m1s\u001b[0m 12ms/step - accuracy: 0.9107 - loss: 0.2263\n",
            "Epoch 4/10\n",
            "\u001b[1m102/102\u001b[0m \u001b[32m━━━━━━━━━━━━━━━━━━━━\u001b[0m\u001b[37m\u001b[0m \u001b[1m1s\u001b[0m 9ms/step - accuracy: 0.9152 - loss: 0.1879\n",
            "Epoch 5/10\n",
            "\u001b[1m102/102\u001b[0m \u001b[32m━━━━━━━━━━━━━━━━━━━━\u001b[0m\u001b[37m\u001b[0m \u001b[1m1s\u001b[0m 11ms/step - accuracy: 0.9161 - loss: 0.1713\n",
            "Epoch 6/10\n",
            "\u001b[1m102/102\u001b[0m \u001b[32m━━━━━━━━━━━━━━━━━━━━\u001b[0m\u001b[37m\u001b[0m \u001b[1m1s\u001b[0m 9ms/step - accuracy: 0.9130 - loss: 0.1597\n",
            "Epoch 7/10\n",
            "\u001b[1m102/102\u001b[0m \u001b[32m━━━━━━━━━━━━━━━━━━━━\u001b[0m\u001b[37m\u001b[0m \u001b[1m1s\u001b[0m 10ms/step - accuracy: 0.9237 - loss: 0.1477\n",
            "Epoch 8/10\n",
            "\u001b[1m102/102\u001b[0m \u001b[32m━━━━━━━━━━━━━━━━━━━━\u001b[0m\u001b[37m\u001b[0m \u001b[1m1s\u001b[0m 9ms/step - accuracy: 0.9153 - loss: 0.1725\n",
            "Epoch 9/10\n",
            "\u001b[1m102/102\u001b[0m \u001b[32m━━━━━━━━━━━━━━━━━━━━\u001b[0m\u001b[37m\u001b[0m \u001b[1m1s\u001b[0m 9ms/step - accuracy: 0.9186 - loss: 0.1452\n",
            "Epoch 10/10\n",
            "\u001b[1m102/102\u001b[0m \u001b[32m━━━━━━━━━━━━━━━━━━━━\u001b[0m\u001b[37m\u001b[0m \u001b[1m1s\u001b[0m 11ms/step - accuracy: 0.9215 - loss: 0.1502\n"
          ]
        },
        {
          "data": {
            "text/plain": [
              "<keras.src.callbacks.history.History at 0x2efd45defc0>"
            ]
          },
          "execution_count": 101,
          "metadata": {},
          "output_type": "execute_result"
        }
      ],
      "source": [
        "model.fit(X_train,y_train, epochs=10,batch_size=50,class_weight=class_weights)"
      ]
    },
    {
      "cell_type": "markdown",
      "id": "badc7e3f",
      "metadata": {
        "id": "badc7e3f"
      },
      "source": [
        "## Getting Predictions and Accuracy score\n",
        "Note: When you use softmax function , it results in probabilites not direct class numbers.\n",
        "\n",
        "You have to convert probabilities to class labels before calculating accuracy or any metric."
      ]
    },
    {
      "cell_type": "code",
      "execution_count": 102,
      "id": "00e4df0e",
      "metadata": {
        "colab": {
          "base_uri": "https://localhost:8080/"
        },
        "id": "00e4df0e",
        "outputId": "2912237c-aa25-4f45-a77c-73fb68fa246f"
      },
      "outputs": [
        {
          "name": "stdout",
          "output_type": "stream",
          "text": [
            "\u001b[1m40/40\u001b[0m \u001b[32m━━━━━━━━━━━━━━━━━━━━\u001b[0m\u001b[37m\u001b[0m \u001b[1m0s\u001b[0m 4ms/step\n"
          ]
        },
        {
          "data": {
            "text/plain": [
              "array([[5.0013146e-05, 3.5006626e-04, 9.9910235e-01, 4.9761304e-04],\n",
              "       [5.9053907e-04, 7.4746707e-03, 9.8413152e-01, 7.8032422e-03],\n",
              "       [3.5274857e-01, 1.2294807e-03, 1.6594777e-04, 6.4585602e-01],\n",
              "       ...,\n",
              "       [5.4682579e-02, 5.3319694e-03, 8.0928523e-03, 9.3189257e-01],\n",
              "       [3.3622724e-05, 2.9501625e-04, 9.9958223e-01, 8.9189089e-05],\n",
              "       [3.9037285e-04, 7.1196357e-04, 1.4192882e-01, 8.5696888e-01]],\n",
              "      dtype=float32)"
            ]
          },
          "execution_count": 102,
          "metadata": {},
          "output_type": "execute_result"
        }
      ],
      "source": [
        "y_pred=model.predict(X_test)\n",
        "y_pred  # it contains the probability of each class"
      ]
    },
    {
      "cell_type": "code",
      "execution_count": 103,
      "id": "38afe8bc",
      "metadata": {
        "colab": {
          "base_uri": "https://localhost:8080/"
        },
        "id": "38afe8bc",
        "outputId": "ff7b6018-1cf6-4733-f588-787020a82e7e"
      },
      "outputs": [
        {
          "data": {
            "text/plain": [
              "array([2, 2, 3, ..., 3, 2, 3], dtype=int64)"
            ]
          },
          "execution_count": 103,
          "metadata": {},
          "output_type": "execute_result"
        }
      ],
      "source": [
        "# Converting the probability to class labels and then find the accuracy score\n",
        "y_pred=np.argmax(y_pred,axis=1)\n",
        "y_pred\n"
      ]
    },
    {
      "cell_type": "code",
      "execution_count": 104,
      "id": "4bbf0768",
      "metadata": {
        "colab": {
          "base_uri": "https://localhost:8080/"
        },
        "id": "4bbf0768",
        "outputId": "08da6182-3279-457b-abf7-268756cfbc54"
      },
      "outputs": [
        {
          "data": {
            "text/plain": [
              "0.6087981146897093"
            ]
          },
          "execution_count": 104,
          "metadata": {},
          "output_type": "execute_result"
        }
      ],
      "source": [
        "accuracy=accuracy_score(y_test,y_pred)\n",
        "accuracy"
      ]
    },
    {
      "cell_type": "markdown",
      "id": "10c8ea13",
      "metadata": {},
      "source": [
        "# Saving the model"
      ]
    },
    {
      "cell_type": "code",
      "execution_count": 105,
      "id": "9ba0bfaa",
      "metadata": {},
      "outputs": [],
      "source": [
        "model.save(\"sentiment_model.keras\")"
      ]
    },
    {
      "cell_type": "code",
      "execution_count": null,
      "id": "a0840234",
      "metadata": {},
      "outputs": [],
      "source": []
    },
    {
      "cell_type": "markdown",
      "id": "70fea898",
      "metadata": {
        "id": "70fea898"
      },
      "source": [
        "ERROR NOTE: if you get any error in traing then try to recheck the lines of codes in which you make model and then add layers to it\n"
      ]
    }
  ],
  "metadata": {
    "accelerator": "GPU",
    "colab": {
      "gpuType": "T4",
      "provenance": []
    },
    "kernelspec": {
      "display_name": "Python 3",
      "name": "python3"
    },
    "language_info": {
      "codemirror_mode": {
        "name": "ipython",
        "version": 3
      },
      "file_extension": ".py",
      "mimetype": "text/x-python",
      "name": "python",
      "nbconvert_exporter": "python",
      "pygments_lexer": "ipython3",
      "version": "3.12.3"
    }
  },
  "nbformat": 4,
  "nbformat_minor": 5
}
