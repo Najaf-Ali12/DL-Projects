{
 "cells": [
  {
   "cell_type": "markdown",
   "metadata": {},
   "source": [
    "According to the World Health Organization (WHO) stroke is the 2nd leading cause of death globally, responsible for approximately 11% of total deaths.\n",
    "This dataset is used to predict whether a patient is likely to get stroke based on the input parameters like gender, age, various diseases, and smoking status. Each row in the data provides relavant information about the patient."
   ]
  },
  {
   "cell_type": "code",
   "execution_count": 1,
   "metadata": {},
   "outputs": [],
   "source": [
    "# importing the libraries\n",
    "import pandas as pd\n",
    "import numpy as np\n",
    "import tensorflow  as tf\n",
    "import random\n",
    "import os\n",
    "\n",
    "# Set random seeds for getting same output accuracy at each run\n",
    "np.random.seed(42)\n",
    "tf.random.set_seed(42)\n",
    "random.seed(42)\n",
    "os.environ['PYTHONHASHSEED'] = '42'"
   ]
  },
  {
   "cell_type": "code",
   "execution_count": 2,
   "metadata": {},
   "outputs": [
    {
     "name": "stdout",
     "output_type": "stream",
     "text": [
      "<class 'pandas.core.frame.DataFrame'>\n",
      "RangeIndex: 5110 entries, 0 to 5109\n",
      "Data columns (total 12 columns):\n",
      " #   Column             Non-Null Count  Dtype  \n",
      "---  ------             --------------  -----  \n",
      " 0   id                 5110 non-null   int64  \n",
      " 1   gender             5110 non-null   object \n",
      " 2   age                5110 non-null   float64\n",
      " 3   hypertension       5110 non-null   int64  \n",
      " 4   heart_disease      5110 non-null   int64  \n",
      " 5   ever_married       5110 non-null   object \n",
      " 6   work_type          5110 non-null   object \n",
      " 7   Residence_type     5110 non-null   object \n",
      " 8   avg_glucose_level  5110 non-null   float64\n",
      " 9   bmi                4909 non-null   float64\n",
      " 10  smoking_status     5110 non-null   object \n",
      " 11  stroke             5110 non-null   int64  \n",
      "dtypes: float64(3), int64(4), object(5)\n",
      "memory usage: 479.2+ KB\n"
     ]
    },
    {
     "name": "stderr",
     "output_type": "stream",
     "text": [
      "<>:2: SyntaxWarning: invalid escape sequence '\\M'\n",
      "<>:2: SyntaxWarning: invalid escape sequence '\\M'\n",
      "C:\\Users\\NEW\\AppData\\Local\\Temp\\ipykernel_3184\\1493232621.py:2: SyntaxWarning: invalid escape sequence '\\M'\n",
      "  dataset=pd.read_csv(\"D:\\Machine Learning\\Deep learning\\Deep learning needed datasets\\healthcare-dataset-stroke-data.csv\")\n"
     ]
    }
   ],
   "source": [
    "# Loading the dataset\n",
    "dataset=pd.read_csv(\"D:\\Machine Learning\\Deep learning\\Deep learning needed datasets\\healthcare-dataset-stroke-data.csv\")\n",
    "dataset.head()\n",
    "dataset.info()"
   ]
  },
  {
   "cell_type": "code",
   "execution_count": 3,
   "metadata": {},
   "outputs": [
    {
     "name": "stdout",
     "output_type": "stream",
     "text": [
      "<class 'pandas.core.frame.DataFrame'>\n",
      "RangeIndex: 5110 entries, 0 to 5109\n",
      "Data columns (total 11 columns):\n",
      " #   Column             Non-Null Count  Dtype  \n",
      "---  ------             --------------  -----  \n",
      " 0   gender             5110 non-null   object \n",
      " 1   age                5110 non-null   float64\n",
      " 2   hypertension       5110 non-null   int64  \n",
      " 3   heart_disease      5110 non-null   int64  \n",
      " 4   ever_married       5110 non-null   object \n",
      " 5   work_type          5110 non-null   object \n",
      " 6   Residence_type     5110 non-null   object \n",
      " 7   avg_glucose_level  5110 non-null   float64\n",
      " 8   bmi                4909 non-null   float64\n",
      " 9   smoking_status     5110 non-null   object \n",
      " 10  stroke             5110 non-null   int64  \n",
      "dtypes: float64(3), int64(3), object(5)\n",
      "memory usage: 439.3+ KB\n"
     ]
    }
   ],
   "source": [
    "# Removing the irrelevant column id\n",
    "dataset=dataset.drop('id',axis=1)\n",
    "dataset.info()"
   ]
  },
  {
   "cell_type": "code",
   "execution_count": 4,
   "metadata": {},
   "outputs": [
    {
     "name": "stdout",
     "output_type": "stream",
     "text": [
      "<class 'pandas.core.frame.DataFrame'>\n",
      "RangeIndex: 5110 entries, 0 to 5109\n",
      "Data columns (total 10 columns):\n",
      " #   Column             Non-Null Count  Dtype  \n",
      "---  ------             --------------  -----  \n",
      " 0   gender             5110 non-null   object \n",
      " 1   age                5110 non-null   float64\n",
      " 2   hypertension       5110 non-null   int64  \n",
      " 3   heart_disease      5110 non-null   int64  \n",
      " 4   ever_married       5110 non-null   object \n",
      " 5   work_type          5110 non-null   object \n",
      " 6   Residence_type     5110 non-null   object \n",
      " 7   avg_glucose_level  5110 non-null   float64\n",
      " 8   bmi                4909 non-null   float64\n",
      " 9   smoking_status     5110 non-null   object \n",
      "dtypes: float64(3), int64(2), object(5)\n",
      "memory usage: 399.3+ KB\n"
     ]
    }
   ],
   "source": [
    "# Dividing the data into X and Y\n",
    "X=dataset.drop('stroke',axis=1)\n",
    "y=dataset['stroke']\n",
    "X.info()"
   ]
  },
  {
   "cell_type": "markdown",
   "metadata": {},
   "source": [
    "# Data Preprocessing"
   ]
  },
  {
   "cell_type": "code",
   "execution_count": 5,
   "metadata": {},
   "outputs": [
    {
     "name": "stdout",
     "output_type": "stream",
     "text": [
      "Categorical columns are  ['gender', 'ever_married', 'work_type', 'Residence_type', 'smoking_status']\n",
      "numerical_columns: ['age', 'hypertension', 'heart_disease', 'avg_glucose_level', 'bmi']\n"
     ]
    },
    {
     "data": {
      "text/plain": [
       "smoking_status\n",
       "never smoked       1892\n",
       "Unknown            1544\n",
       "formerly smoked     885\n",
       "smokes              789\n",
       "Name: count, dtype: int64"
      ]
     },
     "execution_count": 5,
     "metadata": {},
     "output_type": "execute_result"
    }
   ],
   "source": [
    "# Separating the numerical and categorical columns\n",
    "categorical_columns=[]\n",
    "numerical_columns=[]\n",
    "for each in X.columns:\n",
    "    if X[each].dtype=='object':\n",
    "        categorical_columns.append(each)\n",
    "    else:\n",
    "        numerical_columns.append(each)\n",
    "print(\"Categorical columns are \",categorical_columns)\n",
    "print(\"numerical_columns:\",numerical_columns)\n",
    "X['smoking_status'].value_counts()"
   ]
  },
  {
   "cell_type": "code",
   "execution_count": 6,
   "metadata": {},
   "outputs": [
    {
     "name": "stderr",
     "output_type": "stream",
     "text": [
      "e:\\vs code software\\python\\Lib\\site-packages\\sklearn\\preprocessing\\_label.py:114: DataConversionWarning: A column-vector y was passed when a 1d array was expected. Please change the shape of y to (n_samples, ), for example using ravel().\n",
      "  y = column_or_1d(y, warn=True)\n",
      "e:\\vs code software\\python\\Lib\\site-packages\\sklearn\\preprocessing\\_label.py:114: DataConversionWarning: A column-vector y was passed when a 1d array was expected. Please change the shape of y to (n_samples, ), for example using ravel().\n",
      "  y = column_or_1d(y, warn=True)\n",
      "e:\\vs code software\\python\\Lib\\site-packages\\sklearn\\preprocessing\\_label.py:114: DataConversionWarning: A column-vector y was passed when a 1d array was expected. Please change the shape of y to (n_samples, ), for example using ravel().\n",
      "  y = column_or_1d(y, warn=True)\n",
      "e:\\vs code software\\python\\Lib\\site-packages\\sklearn\\preprocessing\\_label.py:114: DataConversionWarning: A column-vector y was passed when a 1d array was expected. Please change the shape of y to (n_samples, ), for example using ravel().\n",
      "  y = column_or_1d(y, warn=True)\n",
      "e:\\vs code software\\python\\Lib\\site-packages\\sklearn\\preprocessing\\_label.py:114: DataConversionWarning: A column-vector y was passed when a 1d array was expected. Please change the shape of y to (n_samples, ), for example using ravel().\n",
      "  y = column_or_1d(y, warn=True)\n"
     ]
    },
    {
     "data": {
      "text/plain": [
       "0    1\n",
       "1    1\n",
       "2    1\n",
       "3    1\n",
       "4    1\n",
       "Name: ever_married, dtype: int32"
      ]
     },
     "execution_count": 6,
     "metadata": {},
     "output_type": "execute_result"
    }
   ],
   "source": [
    "# Encoding the categorical columns\n",
    "from sklearn.preprocessing import LabelEncoder\n",
    "le=LabelEncoder()\n",
    "for each in categorical_columns:\n",
    "    X[each]=le.fit_transform(X[[each]])\n",
    "X['ever_married'].head()"
   ]
  },
  {
   "cell_type": "code",
   "execution_count": 7,
   "metadata": {},
   "outputs": [
    {
     "data": {
      "text/plain": [
       "gender                 0\n",
       "age                    0\n",
       "hypertension           0\n",
       "heart_disease          0\n",
       "ever_married           0\n",
       "work_type              0\n",
       "Residence_type         0\n",
       "avg_glucose_level      0\n",
       "bmi                  201\n",
       "smoking_status         0\n",
       "dtype: int64"
      ]
     },
     "execution_count": 7,
     "metadata": {},
     "output_type": "execute_result"
    }
   ],
   "source": [
    "# Finding the columns having missing values\n",
    "X.isnull().sum()\n",
    "\n",
    "# bmi column contains 201 missing values"
   ]
  },
  {
   "cell_type": "code",
   "execution_count": 8,
   "metadata": {},
   "outputs": [],
   "source": [
    "# Imputing missing values\n",
    "from sklearn.experimental import enable_iterative_imputer\n",
    "from sklearn.impute import IterativeImputer\n",
    "ii=IterativeImputer()\n",
    "X['bmi']=ii.fit_transform(X[['bmi']])\n"
   ]
  },
  {
   "cell_type": "code",
   "execution_count": 9,
   "metadata": {},
   "outputs": [
    {
     "data": {
      "text/html": [
       "<div>\n",
       "<style scoped>\n",
       "    .dataframe tbody tr th:only-of-type {\n",
       "        vertical-align: middle;\n",
       "    }\n",
       "\n",
       "    .dataframe tbody tr th {\n",
       "        vertical-align: top;\n",
       "    }\n",
       "\n",
       "    .dataframe thead th {\n",
       "        text-align: right;\n",
       "    }\n",
       "</style>\n",
       "<table border=\"1\" class=\"dataframe\">\n",
       "  <thead>\n",
       "    <tr style=\"text-align: right;\">\n",
       "      <th></th>\n",
       "      <th>gender</th>\n",
       "      <th>age</th>\n",
       "      <th>hypertension</th>\n",
       "      <th>heart_disease</th>\n",
       "      <th>ever_married</th>\n",
       "      <th>work_type</th>\n",
       "      <th>Residence_type</th>\n",
       "      <th>avg_glucose_level</th>\n",
       "      <th>bmi</th>\n",
       "      <th>smoking_status</th>\n",
       "    </tr>\n",
       "  </thead>\n",
       "  <tbody>\n",
       "    <tr>\n",
       "      <th>0</th>\n",
       "      <td>1</td>\n",
       "      <td>1.051434</td>\n",
       "      <td>0</td>\n",
       "      <td>1</td>\n",
       "      <td>1</td>\n",
       "      <td>2</td>\n",
       "      <td>1</td>\n",
       "      <td>2.706375</td>\n",
       "      <td>1.001234e+00</td>\n",
       "      <td>1</td>\n",
       "    </tr>\n",
       "    <tr>\n",
       "      <th>1</th>\n",
       "      <td>0</td>\n",
       "      <td>0.786070</td>\n",
       "      <td>0</td>\n",
       "      <td>0</td>\n",
       "      <td>1</td>\n",
       "      <td>3</td>\n",
       "      <td>0</td>\n",
       "      <td>2.121559</td>\n",
       "      <td>4.615554e-16</td>\n",
       "      <td>2</td>\n",
       "    </tr>\n",
       "    <tr>\n",
       "      <th>2</th>\n",
       "      <td>1</td>\n",
       "      <td>1.626390</td>\n",
       "      <td>0</td>\n",
       "      <td>1</td>\n",
       "      <td>1</td>\n",
       "      <td>2</td>\n",
       "      <td>0</td>\n",
       "      <td>-0.005028</td>\n",
       "      <td>4.685773e-01</td>\n",
       "      <td>2</td>\n",
       "    </tr>\n",
       "    <tr>\n",
       "      <th>3</th>\n",
       "      <td>0</td>\n",
       "      <td>0.255342</td>\n",
       "      <td>0</td>\n",
       "      <td>0</td>\n",
       "      <td>1</td>\n",
       "      <td>2</td>\n",
       "      <td>1</td>\n",
       "      <td>1.437358</td>\n",
       "      <td>7.154182e-01</td>\n",
       "      <td>3</td>\n",
       "    </tr>\n",
       "    <tr>\n",
       "      <th>4</th>\n",
       "      <td>0</td>\n",
       "      <td>1.582163</td>\n",
       "      <td>1</td>\n",
       "      <td>0</td>\n",
       "      <td>1</td>\n",
       "      <td>3</td>\n",
       "      <td>0</td>\n",
       "      <td>1.501184</td>\n",
       "      <td>-6.357112e-01</td>\n",
       "      <td>2</td>\n",
       "    </tr>\n",
       "  </tbody>\n",
       "</table>\n",
       "</div>"
      ],
      "text/plain": [
       "   gender       age  hypertension  heart_disease  ever_married  work_type  \\\n",
       "0       1  1.051434             0              1             1          2   \n",
       "1       0  0.786070             0              0             1          3   \n",
       "2       1  1.626390             0              1             1          2   \n",
       "3       0  0.255342             0              0             1          2   \n",
       "4       0  1.582163             1              0             1          3   \n",
       "\n",
       "   Residence_type  avg_glucose_level           bmi  smoking_status  \n",
       "0               1           2.706375  1.001234e+00               1  \n",
       "1               0           2.121559  4.615554e-16               2  \n",
       "2               0          -0.005028  4.685773e-01               2  \n",
       "3               1           1.437358  7.154182e-01               3  \n",
       "4               0           1.501184 -6.357112e-01               2  "
      ]
     },
     "execution_count": 9,
     "metadata": {},
     "output_type": "execute_result"
    }
   ],
   "source": [
    "# Scaling selected numerical columns\n",
    "from sklearn.preprocessing import StandardScaler\n",
    "scaler=StandardScaler()\n",
    "X['age']=scaler.fit_transform(X[['age']])\n",
    "X['bmi']=scaler.fit_transform(X[['bmi']])\n",
    "X['avg_glucose_level']=scaler.fit_transform(X[['avg_glucose_level']])\n",
    "X.head()"
   ]
  },
  {
   "cell_type": "markdown",
   "metadata": {},
   "source": [
    "# Neural Networks"
   ]
  },
  {
   "cell_type": "code",
   "execution_count": 10,
   "metadata": {},
   "outputs": [
    {
     "name": "stdout",
     "output_type": "stream",
     "text": [
      "<class 'pandas.core.frame.DataFrame'>\n",
      "Index: 4088 entries, 802 to 860\n",
      "Data columns (total 10 columns):\n",
      " #   Column             Non-Null Count  Dtype  \n",
      "---  ------             --------------  -----  \n",
      " 0   gender             4088 non-null   int32  \n",
      " 1   age                4088 non-null   float64\n",
      " 2   hypertension       4088 non-null   int64  \n",
      " 3   heart_disease      4088 non-null   int64  \n",
      " 4   ever_married       4088 non-null   int32  \n",
      " 5   work_type          4088 non-null   int32  \n",
      " 6   Residence_type     4088 non-null   int32  \n",
      " 7   avg_glucose_level  4088 non-null   float64\n",
      " 8   bmi                4088 non-null   float64\n",
      " 9   smoking_status     4088 non-null   int32  \n",
      "dtypes: float64(3), int32(5), int64(2)\n",
      "memory usage: 271.5 KB\n"
     ]
    }
   ],
   "source": [
    "# Splitting the data into train ,test\n",
    "from sklearn.model_selection import train_test_split\n",
    "X_train,X_test,y_train,y_test=train_test_split(X,y,train_size=0.8,random_state=42)\n",
    "X_train.info()"
   ]
  },
  {
   "cell_type": "code",
   "execution_count": 11,
   "metadata": {},
   "outputs": [],
   "source": [
    "# Importing neural networks related material\n",
    "from tensorflow.keras.models import Sequential\n",
    "from tensorflow.keras.layers import Dense\n",
    "from tensorflow.keras.layers import ReLU,Activation\n",
    "from tensorflow.keras.layers import Dropout  # dropout will drop neurons in case the model becomes overfitted\n",
    "from tensorflow.keras.optimizers import Adam"
   ]
  },
  {
   "cell_type": "code",
   "execution_count": 12,
   "metadata": {},
   "outputs": [],
   "source": [
    "# Initializing the model\n",
    "model=Sequential()"
   ]
  },
  {
   "cell_type": "code",
   "execution_count": 13,
   "metadata": {},
   "outputs": [],
   "source": [
    "no_of_input_columns=0\n",
    "for each in X.columns:\n",
    "    no_of_input_columns+=1"
   ]
  },
  {
   "cell_type": "code",
   "execution_count": 14,
   "metadata": {},
   "outputs": [],
   "source": [
    "# Adding the input layer\n",
    "model.add(Dense(units=no_of_input_columns, activation='relu'))\n",
    "\n"
   ]
  },
  {
   "cell_type": "code",
   "execution_count": 15,
   "metadata": {},
   "outputs": [],
   "source": [
    "# Adding the first hidden layer\n",
    "model.add(Dense(units=10, activation='relu'))\n",
    "model.add(Dropout(0.2))"
   ]
  },
  {
   "cell_type": "code",
   "execution_count": 16,
   "metadata": {},
   "outputs": [],
   "source": [
    "# Adding the second hidden layer\n",
    "model.add(Dense(units=10, activation='relu'))\n",
    "model.add(Dropout(0.2))"
   ]
  },
  {
   "cell_type": "code",
   "execution_count": 17,
   "metadata": {},
   "outputs": [],
   "source": [
    "# Adding the third hidden layer\n",
    "model.add(Dense(units=10, activation='relu'))\n",
    "model.add(Dropout(0.2))"
   ]
  },
  {
   "cell_type": "code",
   "execution_count": 18,
   "metadata": {},
   "outputs": [],
   "source": [
    "# Adding the output layer\n",
    "# As it is problem of binary classification , so it is recommended to use Sigmoid activation function\n",
    "model.add(Dense(units=1,activation='sigmoid')) #here units will show number of outputs the NN will provide"
   ]
  },
  {
   "cell_type": "code",
   "execution_count": 20,
   "metadata": {},
   "outputs": [],
   "source": [
    "import tensorflow\n",
    "# Compiling the model\n",
    "model.compile(optimizer=tensorflow.keras.optimizers.Adam(learning_rate=0.02), loss='binary_crossentropy', metrics=['accuracy'])"
   ]
  },
  {
   "cell_type": "code",
   "execution_count": 21,
   "metadata": {},
   "outputs": [],
   "source": [
    "# The code for early stopping\n",
    "early_stopping=tensorflow.keras.callbacks.EarlyStopping(monitor='val_loss',start_from_epoch=0)"
   ]
  },
  {
   "cell_type": "code",
   "execution_count": 22,
   "metadata": {},
   "outputs": [
    {
     "name": "stdout",
     "output_type": "stream",
     "text": [
      "Epoch 1/5\n",
      "\u001b[1m28/28\u001b[0m \u001b[32m━━━━━━━━━━━━━━━━━━━━\u001b[0m\u001b[37m\u001b[0m \u001b[1m4s\u001b[0m 20ms/step - accuracy: 0.7220 - loss: 0.5858 - val_accuracy: 0.9496 - val_loss: 0.1780\n",
      "Epoch 2/5\n",
      "\u001b[1m28/28\u001b[0m \u001b[32m━━━━━━━━━━━━━━━━━━━━\u001b[0m\u001b[37m\u001b[0m \u001b[1m0s\u001b[0m 7ms/step - accuracy: 0.9583 - loss: 0.1788 - val_accuracy: 0.9496 - val_loss: 0.1691\n",
      "Epoch 3/5\n",
      "\u001b[1m28/28\u001b[0m \u001b[32m━━━━━━━━━━━━━━━━━━━━\u001b[0m\u001b[37m\u001b[0m \u001b[1m0s\u001b[0m 10ms/step - accuracy: 0.9583 - loss: 0.1630 - val_accuracy: 0.9496 - val_loss: 0.1652\n",
      "Epoch 4/5\n",
      "\u001b[1m28/28\u001b[0m \u001b[32m━━━━━━━━━━━━━━━━━━━━\u001b[0m\u001b[37m\u001b[0m \u001b[1m0s\u001b[0m 7ms/step - accuracy: 0.9583 - loss: 0.1558 - val_accuracy: 0.9496 - val_loss: 0.1656\n"
     ]
    }
   ],
   "source": [
    "# Training the model\n",
    "model_history=model.fit(X_train,y_train,validation_split=0.33,batch_size=100,epochs=5,callbacks=early_stopping)"
   ]
  },
  {
   "cell_type": "code",
   "execution_count": 23,
   "metadata": {},
   "outputs": [
    {
     "data": {
      "text/plain": [
       "dict_keys(['accuracy', 'loss', 'val_accuracy', 'val_loss'])"
      ]
     },
     "execution_count": 23,
     "metadata": {},
     "output_type": "execute_result"
    }
   ],
   "source": [
    "# List all data, what parameters we have focused on\n",
    "model_history.history.keys()"
   ]
  },
  {
   "cell_type": "code",
   "execution_count": 24,
   "metadata": {},
   "outputs": [
    {
     "data": {
      "image/png": "[encoded data removed]",
      "text/plain": [
       "<Figure size 640x480 with 1 Axes>"
      ]
     },
     "metadata": {},
     "output_type": "display_data"
    }
   ],
   "source": [
    "# Summarizing history of accuracy\n",
    "import matplotlib.pyplot as plt\n",
    "plt.plot(model_history.history['accuracy'])\n",
    "plt.plot(model_history.history['val_accuracy'])\n",
    "plt.ylabel(\"Accuracy\")\n",
    "plt.xlabel(\"epoch\")\n",
    "plt.title(\"Model accuracy\")\n",
    "plt.legend(['train','test'],loc='upper left')\n",
    "plt.show()"
   ]
  },
  {
   "cell_type": "code",
   "execution_count": 25,
   "metadata": {},
   "outputs": [
    {
     "data": {
      "image/png": "[encoded data removed]",
      "text/plain": [
       "<Figure size 640x480 with 1 Axes>"
      ]
     },
     "metadata": {},
     "output_type": "display_data"
    }
   ],
   "source": [
    "# Summarizing history of loss \n",
    "plt.plot(model_history.history['loss'])\n",
    "plt.plot(model_history.history['val_loss'])\n",
    "plt.title(\"Model loss\")\n",
    "plt.ylabel(\"Loss\")\n",
    "plt.xlabel(\"epoch\")\n",
    "plt.legend(['train','test'],loc='upper right')\n",
    "plt.show()"
   ]
  },
  {
   "cell_type": "markdown",
   "metadata": {},
   "source": [
    "# Making the predictions and evaluating the model\n"
   ]
  },
  {
   "cell_type": "code",
   "execution_count": 26,
   "metadata": {},
   "outputs": [
    {
     "name": "stdout",
     "output_type": "stream",
     "text": [
      "\u001b[1m32/32\u001b[0m \u001b[32m━━━━━━━━━━━━━━━━━━━━\u001b[0m\u001b[37m\u001b[0m \u001b[1m0s\u001b[0m 5ms/step\n"
     ]
    }
   ],
   "source": [
    "# Predicting the test set results\n",
    "y_pred=model.predict(X_test)\n",
    "y_pred=(y_pred>0.5)  #if sigmoid gives value greater than 0.5 it will be considered as one ,otherwise 0"
   ]
  },
  {
   "cell_type": "code",
   "execution_count": 27,
   "metadata": {},
   "outputs": [
    {
     "data": {
      "text/plain": [
       "array([[960,   0],\n",
       "       [ 62,   0]], dtype=int64)"
      ]
     },
     "execution_count": 27,
     "metadata": {},
     "output_type": "execute_result"
    }
   ],
   "source": [
    "# Making the confusion matrix\n",
    "from sklearn.metrics import confusion_matrix\n",
    "cm=confusion_matrix(y_test,y_pred)\n",
    "cm"
   ]
  },
  {
   "cell_type": "code",
   "execution_count": 28,
   "metadata": {},
   "outputs": [
    {
     "data": {
      "text/plain": [
       "0.9393346379647749"
      ]
     },
     "execution_count": 28,
     "metadata": {},
     "output_type": "execute_result"
    }
   ],
   "source": [
    "# Calculating the testing accuracy\n",
    "from sklearn.metrics import accuracy_score\n",
    "score=accuracy_score(y_pred,y_test)\n",
    "score"
   ]
  },
  {
   "cell_type": "code",
   "execution_count": 29,
   "metadata": {},
   "outputs": [
    {
     "data": {
      "text/plain": [
       "[array([[ 0.24462101,  0.13033438, -0.31780088,  0.19766118, -0.5274131 ,\n",
       "         -0.01227313,  0.4077244 , -0.46854323, -0.06289667,  0.42102954],\n",
       "        [-0.8986619 , -0.35818824,  0.29100436,  0.00581883,  0.62244415,\n",
       "         -0.00954331, -1.128899  , -0.7305005 ,  0.31295332, -0.57166594],\n",
       "        [-0.5932917 ,  0.19499698,  0.29110044, -0.26012352,  0.61556864,\n",
       "         -0.68978506, -0.5402043 , -0.14414252,  0.01415874, -0.5402684 ],\n",
       "        [-0.21717499,  0.32215965, -0.5984901 , -0.13961634,  0.13617833,\n",
       "         -0.59633344, -0.16958402, -0.36847717,  0.26777884,  0.31330264],\n",
       "        [-0.27079463,  0.16424914, -0.3911564 , -0.35661212,  0.29724696,\n",
       "         -0.17260137,  0.04133807, -0.46490592, -0.41315353,  0.5340168 ],\n",
       "        [ 0.13732743,  0.06066093, -0.6669121 , -0.5696311 ,  0.12454469,\n",
       "          0.18225938, -0.0447683 , -0.25835642, -0.6493996 , -0.580935  ],\n",
       "        [ 0.1277495 ,  0.40585542, -0.30056787, -0.03347646, -0.29630795,\n",
       "         -0.02933905, -0.34466767, -0.13316241,  0.22012496,  0.4787291 ],\n",
       "        [ 0.05422603, -0.0263809 ,  0.2089506 , -0.13130696,  0.6044308 ,\n",
       "         -0.33028093,  0.1128374 ,  0.13116577, -0.1041097 , -0.49863032],\n",
       "        [-0.63568753,  0.62468815, -0.422852  ,  0.00979433,  0.02786276,\n",
       "         -0.2974938 ,  0.01122445,  0.18372194,  0.1480593 ,  0.67178917],\n",
       "        [ 0.1505487 ,  0.33960873, -0.22328384, -0.5605943 ,  0.27076757,\n",
       "         -0.30180463,  0.3039711 ,  0.33927333, -0.20718916, -0.12247156]],\n",
       "       dtype=float32),\n",
       " array([ 0.17463383,  0.09700201, -0.20152545, -0.309094  , -0.19186202,\n",
       "        -0.1637528 ,  0.09104213, -0.01008038, -0.12892781,  0.15437873],\n",
       "       dtype=float32),\n",
       " array([[ 0.6694516 , -0.14431168,  0.0779439 ,  0.13120992,  0.1042643 ,\n",
       "         -0.58710265,  0.5324185 ,  0.3092329 , -0.1691128 , -0.23639965],\n",
       "        [-0.30221462, -0.1742733 , -0.12164101, -0.11791392, -0.24862967,\n",
       "         -0.70246565,  0.2735901 ,  0.31792742, -0.13845184, -0.0352635 ],\n",
       "        [ 0.18614544,  0.34922117,  0.14951117,  0.32909855,  0.01392361,\n",
       "          0.258001  , -0.00782087, -0.27599022,  0.41195375,  0.05994492],\n",
       "        [-0.12421591,  0.01026589,  0.3274224 ,  0.25949222, -0.51822513,\n",
       "         -0.4833445 , -0.13668346, -0.11453892, -0.30494127,  0.14567111],\n",
       "        [-0.26227868,  0.37702826, -0.20661072,  0.0874401 , -0.02281187,\n",
       "          0.3246469 , -0.38166863, -0.2132366 , -0.41422987, -0.4467204 ],\n",
       "        [ 0.36883038,  0.1324065 ,  0.30665353, -0.08825037,  0.15928635,\n",
       "          0.13322851,  0.20896176,  0.73428047, -0.10020912, -0.28637683],\n",
       "        [ 0.41760948, -0.44353706, -0.6388186 , -0.2469928 , -0.146164  ,\n",
       "          0.0122803 ,  0.23785068, -0.01691893,  0.7153833 , -0.34257382],\n",
       "        [ 0.6556818 , -0.09228545, -0.5769189 , -0.2288231 ,  0.04433858,\n",
       "          0.3338008 ,  0.6080096 , -0.19904156,  0.7597578 , -0.5089623 ],\n",
       "        [ 0.58824986,  0.09056103,  0.5002683 ,  0.20575786,  0.21879561,\n",
       "         -0.11344895, -0.06901275,  0.33745185,  0.82412666,  0.2609558 ],\n",
       "        [-0.01564237,  0.14146352, -0.5845654 ,  0.18405679, -0.23675112,\n",
       "         -0.48675844,  0.6374316 ,  0.4827417 ,  0.46846214,  1.0499482 ]],\n",
       "       dtype=float32),\n",
       " array([ 0.1983752 , -0.16522945, -0.22725724, -0.22415891, -0.24149048,\n",
       "        -0.19097795,  0.20721611,  0.13580197,  0.12912932, -0.02067137],\n",
       "       dtype=float32),\n",
       " array([[ 0.22679348,  0.3739033 , -0.14702484, -0.01595819,  0.29349118,\n",
       "          0.29611245,  0.38507545,  0.6235168 , -0.52687144,  0.09952445],\n",
       "        [-0.48073637,  0.46763685, -0.25969014, -0.32619387, -0.18027474,\n",
       "         -0.29866102, -0.73195606,  0.18686298,  0.24477264, -0.25568908],\n",
       "        [-0.10860427,  0.16022763,  0.34730566,  0.17526735, -0.5982817 ,\n",
       "          0.16144885,  0.30938724, -0.19871828,  0.33417994, -0.05525722],\n",
       "        [ 0.1761945 ,  0.1957074 , -0.5284481 , -0.5569115 ,  0.27012944,\n",
       "          0.67935175, -0.5426134 ,  0.13474265,  0.2821312 , -0.01715658],\n",
       "        [-0.03543083,  0.02484925,  0.05166126,  0.08858929, -0.0793879 ,\n",
       "          0.70993   , -0.6032678 , -0.18379684,  0.08579117, -0.3442436 ],\n",
       "        [-0.3743078 , -0.26199073,  0.3882237 , -0.24732539, -0.08965579,\n",
       "          0.04199142, -0.08602215,  0.56680477,  0.35085955,  0.1516235 ],\n",
       "        [ 0.49301788,  0.3218362 ,  0.01078089, -0.63113916, -0.24964227,\n",
       "          0.0085574 , -0.19460285,  0.38758668, -0.39089546,  0.15654273],\n",
       "        [-0.4770664 ,  0.25450394, -0.67972034,  0.16804673, -0.6180579 ,\n",
       "          0.4739806 ,  0.12432653,  0.17183779, -0.69272184,  0.33721906],\n",
       "        [ 0.40549293,  0.21346326, -0.15079823,  1.2076807 , -0.03182658,\n",
       "          0.43007722,  0.11973292,  0.17575091, -0.46746066, -0.32630864],\n",
       "        [ 0.05548145,  0.49694872,  0.04403494,  0.5425792 ,  0.47111583,\n",
       "          0.5477275 , -0.15909587,  0.1605901 , -0.42382812,  0.26723197]],\n",
       "       dtype=float32),\n",
       " array([ 0.13388158,  0.3144533 , -0.1510693 , -0.20887887, -0.1560546 ,\n",
       "         0.20881203,  0.2512212 ,  0.28487223, -0.20802933, -0.06314153],\n",
       "       dtype=float32),\n",
       " array([[ 0.8232685 ,  0.08881874, -0.24265783, -0.0536536 ,  0.22925892,\n",
       "         -0.30601585,  0.62343675,  0.27460426,  0.03416261,  0.25734496],\n",
       "        [ 0.14103302,  0.63231045, -0.72741175, -0.6675681 , -0.2606595 ,\n",
       "         -0.39289114,  0.459383  , -0.3619832 ,  0.59387964, -0.09978113],\n",
       "        [ 0.2006243 ,  0.28072652, -0.56649965,  0.27642083, -0.1137339 ,\n",
       "          0.36957526,  0.34403372,  0.3780728 ,  0.16602315,  0.04451691],\n",
       "        [ 0.5933235 ,  0.44298923,  0.16024111,  0.24567217,  0.11233454,\n",
       "         -0.19617315,  0.16543685, -0.6728109 , -0.21951587, -0.23547219],\n",
       "        [ 0.3309491 ,  0.10027649,  0.34323058, -0.12151765, -0.06215129,\n",
       "          0.06270867,  0.5139975 ,  0.36320814,  0.31904444, -0.36816153],\n",
       "        [ 0.414725  , -0.02951511, -0.42846373, -0.27867457,  0.02727681,\n",
       "         -0.25727642,  0.5455684 ,  0.09045057,  0.26491645, -0.3469918 ],\n",
       "        [ 0.77237624,  0.98294854, -0.4933042 ,  0.15217692,  0.10053854,\n",
       "         -0.5701536 ,  0.11947812, -0.6538506 ,  0.0249857 ,  0.30925816],\n",
       "        [-0.00102554,  0.5849162 , -0.1823206 , -0.0809782 , -0.7356489 ,\n",
       "         -0.29755783,  0.3639076 , -0.3034738 ,  0.42220455, -0.49197996],\n",
       "        [ 0.04977581,  0.3545796 ,  0.08989754, -0.2505216 ,  0.23026223,\n",
       "         -0.12969415, -0.08571696,  0.06210775, -0.09769972,  0.21097931],\n",
       "        [ 0.59855705, -0.06533118,  0.04050481, -0.20059381, -0.514676  ,\n",
       "          0.32018688, -0.15817988, -0.31695744,  0.0682306 , -0.04502933]],\n",
       "       dtype=float32),\n",
       " array([ 0.66908324,  0.6098665 , -0.18463922, -0.1951959 , -0.24742395,\n",
       "        -0.1565791 ,  0.34179103, -0.23441881,  0.08263705, -0.18000531],\n",
       "       dtype=float32),\n",
       " array([[-0.41179702],\n",
       "        [-0.32472295],\n",
       "        [ 0.53258806],\n",
       "        [ 0.40083563],\n",
       "        [ 0.42443103],\n",
       "        [ 0.4437452 ],\n",
       "        [-0.5123213 ],\n",
       "        [ 0.15306596],\n",
       "        [-0.21240716],\n",
       "        [-0.09149462]], dtype=float32),\n",
       " array([-0.49786752], dtype=float32)]"
      ]
     },
     "execution_count": 29,
     "metadata": {},
     "output_type": "execute_result"
    }
   ],
   "source": [
    "# get the weights assigned to inputs\n",
    "model.get_weights()"
   ]
  },
  {
   "cell_type": "markdown",
   "metadata": {},
   "source": [
    "# Acheived training accuracy of 95.83 %\n",
    "# Acheived validation accuracy of 94.96 %\n",
    "# Acheived testing accuracy of 93.93 or 94%"
   ]
  },
  {
   "cell_type": "code",
   "execution_count": 31,
   "metadata": {},
   "outputs": [
    {
     "name": "stderr",
     "output_type": "stream",
     "text": [
      "WARNING:absl:You are saving your model as an HDF5 file via `model.save()` or `keras.saving.save_model(model)`. This file format is considered legacy. We recommend using instead the native Keras format, e.g. `model.save('my_model.keras')` or `keras.saving.save_model(model, 'my_model.keras')`. \n"
     ]
    }
   ],
   "source": [
    "# Saving the model\n",
    "from tensorflow.keras.models import load_model\n",
    "model.save(\"Stroke_prediction_model.h5\")"
   ]
  },
  {
   "cell_type": "markdown",
   "metadata": {},
   "source": [
    "\"from tensorflow.keras.models import load_model\n",
    "     model.save(\"Stroke_prediction_model.h5\")\""
   ]
  }
 ],
 "metadata": {
  "kernelspec": {
   "display_name": "Python 3",
   "language": "python",
   "name": "python3"
  },
  "language_info": {
   "codemirror_mode": {
    "name": "ipython",
    "version": 3
   },
   "file_extension": ".py",
   "mimetype": "text/x-python",
   "name": "python",
   "nbconvert_exporter": "python",
   "pygments_lexer": "ipython3",
   "version": "3.12.3"
  }
 },
 "nbformat": 4,
 "nbformat_minor": 2
}
