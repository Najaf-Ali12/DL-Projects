{
 "cells": [
  {
   "cell_type": "code",
   "execution_count": 1,
   "metadata": {},
   "outputs": [],
   "source": [
    "# Importing libraries\n",
    "import pandas as pd\n",
    "import numpy as np\n",
    "import tensorflow as tf\n",
    "import random\n",
    "import os\n",
    "\n",
    "# Set random seeds for getting same output accuracy at each run\n",
    "np.random.seed(42)\n",
    "tf.random.set_seed(42)\n",
    "random.seed(42)\n",
    "os.environ['PYTHONHASHSEED'] = '42'"
   ]
  },
  {
   "cell_type": "code",
   "execution_count": 3,
   "metadata": {},
   "outputs": [
    {
     "data": {
      "text/html": [
       "<div>\n",
       "<style scoped>\n",
       "    .dataframe tbody tr th:only-of-type {\n",
       "        vertical-align: middle;\n",
       "    }\n",
       "\n",
       "    .dataframe tbody tr th {\n",
       "        vertical-align: top;\n",
       "    }\n",
       "\n",
       "    .dataframe thead th {\n",
       "        text-align: right;\n",
       "    }\n",
       "</style>\n",
       "<table border=\"1\" class=\"dataframe\">\n",
       "  <thead>\n",
       "    <tr style=\"text-align: right;\">\n",
       "      <th></th>\n",
       "      <th>Gold (grams)</th>\n",
       "      <th>Monthly Income (PKR)</th>\n",
       "      <th>Monthly Expenses (PKR)</th>\n",
       "      <th>Marital Status</th>\n",
       "      <th>Employment Type</th>\n",
       "      <th>Region</th>\n",
       "      <th>Income (USD)</th>\n",
       "      <th>Assets (USD)</th>\n",
       "      <th>Liabilities (USD)</th>\n",
       "      <th>Dependents</th>\n",
       "      <th>Net Worth (USD)</th>\n",
       "      <th>Zakat Eligibility</th>\n",
       "    </tr>\n",
       "  </thead>\n",
       "  <tbody>\n",
       "    <tr>\n",
       "      <th>0</th>\n",
       "      <td>115</td>\n",
       "      <td>242827</td>\n",
       "      <td>14511</td>\n",
       "      <td>Divorced</td>\n",
       "      <td>Salaried</td>\n",
       "      <td>Urban</td>\n",
       "      <td>4778</td>\n",
       "      <td>337576</td>\n",
       "      <td>37930</td>\n",
       "      <td>3</td>\n",
       "      <td>299646</td>\n",
       "      <td>0</td>\n",
       "    </tr>\n",
       "    <tr>\n",
       "      <th>1</th>\n",
       "      <td>124</td>\n",
       "      <td>251506</td>\n",
       "      <td>138501</td>\n",
       "      <td>Single</td>\n",
       "      <td>Business</td>\n",
       "      <td>Rural</td>\n",
       "      <td>5752</td>\n",
       "      <td>499822</td>\n",
       "      <td>19857</td>\n",
       "      <td>1</td>\n",
       "      <td>479965</td>\n",
       "      <td>0</td>\n",
       "    </tr>\n",
       "    <tr>\n",
       "      <th>2</th>\n",
       "      <td>154</td>\n",
       "      <td>109603</td>\n",
       "      <td>272333</td>\n",
       "      <td>Divorced</td>\n",
       "      <td>Business</td>\n",
       "      <td>Rural</td>\n",
       "      <td>2205</td>\n",
       "      <td>63704</td>\n",
       "      <td>29980</td>\n",
       "      <td>8</td>\n",
       "      <td>33724</td>\n",
       "      <td>0</td>\n",
       "    </tr>\n",
       "    <tr>\n",
       "      <th>3</th>\n",
       "      <td>46</td>\n",
       "      <td>109230</td>\n",
       "      <td>19821</td>\n",
       "      <td>Divorced</td>\n",
       "      <td>Unemployed</td>\n",
       "      <td>Urban</td>\n",
       "      <td>5850</td>\n",
       "      <td>328562</td>\n",
       "      <td>14018</td>\n",
       "      <td>5</td>\n",
       "      <td>314544</td>\n",
       "      <td>0</td>\n",
       "    </tr>\n",
       "    <tr>\n",
       "      <th>4</th>\n",
       "      <td>46</td>\n",
       "      <td>482888</td>\n",
       "      <td>315176</td>\n",
       "      <td>Single</td>\n",
       "      <td>Unemployed</td>\n",
       "      <td>Rural</td>\n",
       "      <td>7565</td>\n",
       "      <td>216309</td>\n",
       "      <td>225995</td>\n",
       "      <td>3</td>\n",
       "      <td>-9686</td>\n",
       "      <td>1</td>\n",
       "    </tr>\n",
       "  </tbody>\n",
       "</table>\n",
       "</div>"
      ],
      "text/plain": [
       "   Gold (grams)  Monthly Income (PKR)  Monthly Expenses (PKR) Marital Status  \\\n",
       "0           115                242827                   14511       Divorced   \n",
       "1           124                251506                  138501         Single   \n",
       "2           154                109603                  272333       Divorced   \n",
       "3            46                109230                   19821       Divorced   \n",
       "4            46                482888                  315176         Single   \n",
       "\n",
       "  Employment Type Region  Income (USD)  Assets (USD)  Liabilities (USD)  \\\n",
       "0        Salaried  Urban          4778        337576              37930   \n",
       "1        Business  Rural          5752        499822              19857   \n",
       "2        Business  Rural          2205         63704              29980   \n",
       "3      Unemployed  Urban          5850        328562              14018   \n",
       "4      Unemployed  Rural          7565        216309             225995   \n",
       "\n",
       "   Dependents  Net Worth (USD)  Zakat Eligibility  \n",
       "0           3           299646                  0  \n",
       "1           1           479965                  0  \n",
       "2           8            33724                  0  \n",
       "3           5           314544                  0  \n",
       "4           3            -9686                  1  "
      ]
     },
     "execution_count": 3,
     "metadata": {},
     "output_type": "execute_result"
    }
   ],
   "source": [
    "# Importing dataset\n",
    "dataset=pd.read_csv('zakat_eligibility_dataset (2).csv')\n",
    "dataset.head()"
   ]
  },
  {
   "cell_type": "code",
   "execution_count": 4,
   "metadata": {},
   "outputs": [],
   "source": [
    "# Dividing the dataset into X and y\n",
    "X=dataset.drop(\"Zakat Eligibility\",axis=1)\n",
    "y=dataset['Zakat Eligibility']\n"
   ]
  },
  {
   "cell_type": "code",
   "execution_count": 5,
   "metadata": {},
   "outputs": [],
   "source": [
    "# Dividing the X into numerical and categorical columns\n",
    "numerical_columns=[]\n",
    "categorical_columns=[]\n",
    "for each in X.columns:\n",
    "    if X[each].dtype=='object':\n",
    "        categorical_columns.append(each)\n",
    "    else:\n",
    "        numerical_columns.append(each)\n"
   ]
  },
  {
   "cell_type": "code",
   "execution_count": 6,
   "metadata": {},
   "outputs": [],
   "source": [
    "# Encoding the categorical columns\n",
    "from sklearn.preprocessing import LabelEncoder\n",
    "le=LabelEncoder()\n",
    "X['Employment Type']=le.fit_transform(X['Employment Type'])\n",
    "X['Marital Status']=le.fit_transform(X['Marital Status'])\n",
    "X['Region']=le.fit_transform(X['Region'])"
   ]
  },
  {
   "cell_type": "code",
   "execution_count": 7,
   "metadata": {},
   "outputs": [],
   "source": [
    "# Scaling the numerical columns\n",
    "from sklearn.preprocessing import StandardScaler\n",
    "se=StandardScaler()\n",
    "for each in numerical_columns:\n",
    "    if each=='Dependents':\n",
    "        pass\n",
    "    else:\n",
    "        X[each]=se.fit_transform(X[[each]])\n",
    "        "
   ]
  },
  {
   "cell_type": "code",
   "execution_count": 8,
   "metadata": {},
   "outputs": [
    {
     "data": {
      "text/plain": [
       "Gold (grams)              0\n",
       "Monthly Income (PKR)      0\n",
       "Monthly Expenses (PKR)    0\n",
       "Marital Status            0\n",
       "Employment Type           0\n",
       "Region                    0\n",
       "Income (USD)              0\n",
       "Assets (USD)              0\n",
       "Liabilities (USD)         0\n",
       "Dependents                0\n",
       "Net Worth (USD)           0\n",
       "dtype: int64"
      ]
     },
     "execution_count": 8,
     "metadata": {},
     "output_type": "execute_result"
    }
   ],
   "source": [
    "# Searching for missing values\n",
    "X.isnull().sum()"
   ]
  },
  {
   "cell_type": "code",
   "execution_count": 9,
   "metadata": {},
   "outputs": [
    {
     "data": {
      "text/html": [
       "<div>\n",
       "<style scoped>\n",
       "    .dataframe tbody tr th:only-of-type {\n",
       "        vertical-align: middle;\n",
       "    }\n",
       "\n",
       "    .dataframe tbody tr th {\n",
       "        vertical-align: top;\n",
       "    }\n",
       "\n",
       "    .dataframe thead th {\n",
       "        text-align: right;\n",
       "    }\n",
       "</style>\n",
       "<table border=\"1\" class=\"dataframe\">\n",
       "  <thead>\n",
       "    <tr style=\"text-align: right;\">\n",
       "      <th></th>\n",
       "      <th>Gold (grams)</th>\n",
       "      <th>Monthly Income (PKR)</th>\n",
       "      <th>Monthly Expenses (PKR)</th>\n",
       "      <th>Marital Status</th>\n",
       "      <th>Employment Type</th>\n",
       "      <th>Region</th>\n",
       "      <th>Income (USD)</th>\n",
       "      <th>Assets (USD)</th>\n",
       "      <th>Liabilities (USD)</th>\n",
       "      <th>Dependents</th>\n",
       "      <th>Net Worth (USD)</th>\n",
       "    </tr>\n",
       "  </thead>\n",
       "  <tbody>\n",
       "    <tr>\n",
       "      <th>0</th>\n",
       "      <td>0.268457</td>\n",
       "      <td>-0.067554</td>\n",
       "      <td>-1.655021</td>\n",
       "      <td>0</td>\n",
       "      <td>2</td>\n",
       "      <td>1</td>\n",
       "      <td>-0.119162</td>\n",
       "      <td>0.602037</td>\n",
       "      <td>-1.290511</td>\n",
       "      <td>3</td>\n",
       "      <td>1.168135</td>\n",
       "    </tr>\n",
       "    <tr>\n",
       "      <th>1</th>\n",
       "      <td>0.424408</td>\n",
       "      <td>-0.006849</td>\n",
       "      <td>-0.563742</td>\n",
       "      <td>2</td>\n",
       "      <td>0</td>\n",
       "      <td>0</td>\n",
       "      <td>0.222996</td>\n",
       "      <td>1.718291</td>\n",
       "      <td>-1.499505</td>\n",
       "      <td>1</td>\n",
       "      <td>2.226058</td>\n",
       "    </tr>\n",
       "    <tr>\n",
       "      <th>2</th>\n",
       "      <td>0.944247</td>\n",
       "      <td>-0.999382</td>\n",
       "      <td>0.614159</td>\n",
       "      <td>0</td>\n",
       "      <td>0</td>\n",
       "      <td>0</td>\n",
       "      <td>-1.023033</td>\n",
       "      <td>-1.282204</td>\n",
       "      <td>-1.382444</td>\n",
       "      <td>8</td>\n",
       "      <td>-0.392016</td>\n",
       "    </tr>\n",
       "    <tr>\n",
       "      <th>3</th>\n",
       "      <td>-0.927172</td>\n",
       "      <td>-1.001991</td>\n",
       "      <td>-1.608286</td>\n",
       "      <td>0</td>\n",
       "      <td>3</td>\n",
       "      <td>1</td>\n",
       "      <td>0.257422</td>\n",
       "      <td>0.540021</td>\n",
       "      <td>-1.567026</td>\n",
       "      <td>5</td>\n",
       "      <td>1.255541</td>\n",
       "    </tr>\n",
       "    <tr>\n",
       "      <th>4</th>\n",
       "      <td>-0.927172</td>\n",
       "      <td>1.611541</td>\n",
       "      <td>0.991235</td>\n",
       "      <td>2</td>\n",
       "      <td>3</td>\n",
       "      <td>0</td>\n",
       "      <td>0.859887</td>\n",
       "      <td>-0.232280</td>\n",
       "      <td>0.884241</td>\n",
       "      <td>3</td>\n",
       "      <td>-0.646701</td>\n",
       "    </tr>\n",
       "  </tbody>\n",
       "</table>\n",
       "</div>"
      ],
      "text/plain": [
       "   Gold (grams)  Monthly Income (PKR)  Monthly Expenses (PKR)  Marital Status  \\\n",
       "0      0.268457             -0.067554               -1.655021               0   \n",
       "1      0.424408             -0.006849               -0.563742               2   \n",
       "2      0.944247             -0.999382                0.614159               0   \n",
       "3     -0.927172             -1.001991               -1.608286               0   \n",
       "4     -0.927172              1.611541                0.991235               2   \n",
       "\n",
       "   Employment Type  Region  Income (USD)  Assets (USD)  Liabilities (USD)  \\\n",
       "0                2       1     -0.119162      0.602037          -1.290511   \n",
       "1                0       0      0.222996      1.718291          -1.499505   \n",
       "2                0       0     -1.023033     -1.282204          -1.382444   \n",
       "3                3       1      0.257422      0.540021          -1.567026   \n",
       "4                3       0      0.859887     -0.232280           0.884241   \n",
       "\n",
       "   Dependents  Net Worth (USD)  \n",
       "0           3         1.168135  \n",
       "1           1         2.226058  \n",
       "2           8        -0.392016  \n",
       "3           5         1.255541  \n",
       "4           3        -0.646701  "
      ]
     },
     "execution_count": 9,
     "metadata": {},
     "output_type": "execute_result"
    }
   ],
   "source": [
    "X.head()"
   ]
  },
  {
   "cell_type": "code",
   "execution_count": 10,
   "metadata": {},
   "outputs": [],
   "source": [
    "# Importing Neural Networks\n",
    "from tensorflow.keras.models import Sequential\n",
    "from tensorflow.keras.layers import Dense\n",
    "from tensorflow.keras.layers import Dropout\n",
    "from tensorflow.keras.layers import ReLU,LeakyReLU"
   ]
  },
  {
   "cell_type": "code",
   "execution_count": 11,
   "metadata": {},
   "outputs": [],
   "source": [
    "# Dividing the data into train and test\n",
    "from sklearn.model_selection import train_test_split\n",
    "X_train,X_test,y_train,y_test=train_test_split(X,y,train_size=0.8,random_state=42)\n"
   ]
  },
  {
   "cell_type": "code",
   "execution_count": 12,
   "metadata": {},
   "outputs": [],
   "source": [
    "# Initializing the model\n",
    "model=Sequential()\n"
   ]
  },
  {
   "cell_type": "code",
   "execution_count": 13,
   "metadata": {},
   "outputs": [],
   "source": [
    "# Adding the input layer\n",
    "model.add(Dense(units=11, activation='relu'))"
   ]
  },
  {
   "cell_type": "code",
   "execution_count": 14,
   "metadata": {},
   "outputs": [],
   "source": [
    "# Adding the first hidden layer\n",
    "model.add(Dense(units=10, activation='relu'))\n",
    "model.add(Dropout(0.2))"
   ]
  },
  {
   "cell_type": "code",
   "execution_count": 15,
   "metadata": {},
   "outputs": [],
   "source": [
    "# Adding the second hidden layer\n",
    "model.add(Dense(units=10, activation='relu'))\n",
    "model.add(Dropout(0.2))"
   ]
  },
  {
   "cell_type": "code",
   "execution_count": 16,
   "metadata": {},
   "outputs": [],
   "source": [
    "# Adding the third hidden layer\n",
    "model.add(Dense(units=10, activation='elu'))\n",
    "model.add(Dropout(0.2))"
   ]
  },
  {
   "cell_type": "code",
   "execution_count": 17,
   "metadata": {},
   "outputs": [],
   "source": [
    "# Adding the output layer\n",
    "model.add(Dense(units=1,activation='sigmoid'))\n",
    "model.add(Dropout(0.2))"
   ]
  },
  {
   "cell_type": "code",
   "execution_count": 18,
   "metadata": {},
   "outputs": [],
   "source": [
    "# Compiling the model\n",
    "model.compile(optimizer='adam',loss='binary_crossentropy', metrics=['accuracy'])\n"
   ]
  },
  {
   "cell_type": "code",
   "execution_count": 19,
   "metadata": {},
   "outputs": [],
   "source": [
    "# Making the code of early stopping\n",
    "import tensorflow\n",
    "early_stopping=tensorflow.keras.callbacks.EarlyStopping(monitor='accuracy',start_from_epoch=0)"
   ]
  },
  {
   "cell_type": "code",
   "execution_count": 21,
   "metadata": {},
   "outputs": [
    {
     "name": "stdout",
     "output_type": "stream",
     "text": [
      "Epoch 1/20\n",
      "\u001b[1m64/64\u001b[0m \u001b[32m━━━━━━━━━━━━━━━━━━━━\u001b[0m\u001b[37m\u001b[0m \u001b[1m0s\u001b[0m 5ms/step - accuracy: 0.8918 - loss: 1.1349 - val_accuracy: 0.9644 - val_loss: 0.1381\n",
      "Epoch 2/20\n",
      "\u001b[1m64/64\u001b[0m \u001b[32m━━━━━━━━━━━━━━━━━━━━\u001b[0m\u001b[37m\u001b[0m \u001b[1m0s\u001b[0m 5ms/step - accuracy: 0.8907 - loss: 1.1172 - val_accuracy: 0.9694 - val_loss: 0.1243\n"
     ]
    }
   ],
   "source": [
    "# Training the model\n",
    "model_history=model.fit(X_train,y_train,validation_split=0.2,batch_size=100,epochs=20,callbacks=early_stopping)"
   ]
  },
  {
   "cell_type": "code",
   "execution_count": 22,
   "metadata": {},
   "outputs": [
    {
     "data": {
      "text/plain": [
       "dict_keys(['accuracy', 'loss', 'val_accuracy', 'val_loss'])"
      ]
     },
     "execution_count": 22,
     "metadata": {},
     "output_type": "execute_result"
    }
   ],
   "source": [
    "# List all data, parameters we have focused on \n",
    "model_history.history.keys()\n"
   ]
  },
  {
   "cell_type": "code",
   "execution_count": 27,
   "metadata": {},
   "outputs": [
    {
     "data": {
      "image/png": "[encoded data removed]",
      "text/plain": [
       "<Figure size 640x480 with 1 Axes>"
      ]
     },
     "metadata": {},
     "output_type": "display_data"
    }
   ],
   "source": [
    "# Drawing the graph of accuracy\n",
    "import matplotlib.pyplot as plt\n",
    "plt.plot(model_history.history['accuracy'])\n",
    "plt.plot(model_history.history['val_accuracy'])\n",
    "plt.title(\"Accuracy graph\")\n",
    "plt.ylabel('Accuracy')\n",
    "plt.xlabel(\"epochs\")\n",
    "plt.legend(['train','test'])\n",
    "plt.show()"
   ]
  },
  {
   "cell_type": "code",
   "execution_count": 31,
   "metadata": {},
   "outputs": [
    {
     "data": {
      "image/png": "[encoded data removed]",
      "text/plain": [
       "<Figure size 640x480 with 1 Axes>"
      ]
     },
     "metadata": {},
     "output_type": "display_data"
    }
   ],
   "source": [
    "# Plotting the graph of loss\n",
    "plt.plot(model_history.history['loss'])\n",
    "plt.plot(model_history.history['val_loss'])\n",
    "plt.title(\"Loss graph\")\n",
    "plt.ylabel(\"Loss\")\n",
    "plt.xlabel(\"epochs\")\n",
    "plt.legend([\"train\",'test'])\n",
    "plt.show()"
   ]
  },
  {
   "cell_type": "markdown",
   "metadata": {},
   "source": [
    "We have acheived accuracy of 89.07% and validation accuracy of 96.94\n",
    "testing accuracy is 96.85 %\n"
   ]
  },
  {
   "cell_type": "code",
   "execution_count": 36,
   "metadata": {},
   "outputs": [
    {
     "name": "stdout",
     "output_type": "stream",
     "text": [
      "\u001b[1m63/63\u001b[0m \u001b[32m━━━━━━━━━━━━━━━━━━━━\u001b[0m\u001b[37m\u001b[0m \u001b[1m0s\u001b[0m 2ms/step\n",
      "0.9685\n",
      "\u001b[1m250/250\u001b[0m \u001b[32m━━━━━━━━━━━━━━━━━━━━\u001b[0m\u001b[37m\u001b[0m \u001b[1m0s\u001b[0m 1ms/step\n"
     ]
    },
    {
     "data": {
      "text/plain": [
       "0.9705"
      ]
     },
     "execution_count": 36,
     "metadata": {},
     "output_type": "execute_result"
    }
   ],
   "source": [
    "# Making the predictions on testing data\n",
    "y_pred=model.predict(X_test)\n",
    "y_pred=(y_pred>0.5)\n",
    "\n",
    "# Getting the test accuracy\n",
    "from sklearn.metrics import accuracy_score\n",
    "test_accuracy=accuracy_score(y_test,y_pred)\n",
    "print(test_accuracy)\n",
    "\n",
    "#Making predictions on training data\n",
    "y_pred_train=model.predict(X_train)\n",
    "y_pred_train=(y_pred_train>0.5)\n",
    "\n",
    "\n",
    "# Getting the training accuracy\n",
    "train_accuracy=accuracy_score(y_train,y_pred_train)\n",
    "train_accuracy"
   ]
  },
  {
   "cell_type": "code",
   "execution_count": 37,
   "metadata": {},
   "outputs": [
    {
     "data": {
      "text/plain": [
       "array([[1359,   17],\n",
       "       [  46,  578]], dtype=int64)"
      ]
     },
     "execution_count": 37,
     "metadata": {},
     "output_type": "execute_result"
    }
   ],
   "source": [
    "# Making confusion matrix\n",
    "from sklearn.metrics import confusion_matrix\n",
    "cm=confusion_matrix(y_test,y_pred)\n",
    "cm"
   ]
  },
  {
   "cell_type": "code",
   "execution_count": 38,
   "metadata": {},
   "outputs": [
    {
     "data": {
      "text/plain": [
       "[array([[ 0.37489578,  0.1506032 , -0.10018731,  0.38810432, -0.327954  ,\n",
       "          0.15432064,  0.41679764, -0.40919152,  0.09968279,  0.09180024,\n",
       "         -0.27995548],\n",
       "        [-0.05990725,  0.3533642 ,  0.05919226,  0.0690405 ,  0.17214526,\n",
       "         -0.4329315 , -0.34802434, -0.03974565, -0.11186779, -0.54464126,\n",
       "          0.2911481 ],\n",
       "        [ 0.42732868, -0.28285253,  0.28562373, -0.23842156, -0.03120699,\n",
       "          0.05671127,  0.02546578, -0.3592226 , -0.05178558,  0.4690807 ,\n",
       "         -0.32552704],\n",
       "        [-0.08488436, -0.06206618, -0.42006272,  0.18255031, -0.4364386 ,\n",
       "          0.11251906,  0.21301836, -0.430855  ,  0.07303423, -0.16740018,\n",
       "         -0.24386694],\n",
       "        [ 0.4430859 , -0.12535852,  0.06573536, -0.03210802, -0.47824186,\n",
       "          0.16867353,  0.09681054, -0.01987852, -0.18545716, -0.46764746,\n",
       "          0.18477646],\n",
       "        [ 0.34986255,  0.01573534, -0.1938771 , -0.40617907, -0.5793135 ,\n",
       "          0.17420687,  0.4255697 , -0.03384852,  0.20679659, -0.20397992,\n",
       "          0.16590212],\n",
       "        [-0.1982229 ,  0.050293  ,  0.27437836,  0.24869342,  0.153341  ,\n",
       "          0.37545845,  0.43024898, -0.24543242, -0.04780751, -0.34114352,\n",
       "          0.38211423],\n",
       "        [ 0.22270964,  0.30756804, -0.42182314, -0.5552714 ,  0.39187923,\n",
       "         -0.40317366, -0.04416388, -0.18506221, -0.68566686,  0.54660904,\n",
       "          0.25552705],\n",
       "        [ 0.11136866, -0.13544396,  0.17815408,  0.3815697 , -0.02919279,\n",
       "         -0.3302748 ,  0.2602878 , -0.21537206,  0.59564847,  0.3322657 ,\n",
       "         -0.06292662],\n",
       "        [-0.46022615,  0.479342  ,  0.2952273 ,  0.04200846, -0.3682793 ,\n",
       "         -0.33050478,  0.2459949 , -0.4887568 ,  0.09351256,  0.29176852,\n",
       "         -0.16850823],\n",
       "        [-0.32242298,  0.5088744 , -0.2528794 ,  0.09950482, -0.12017336,\n",
       "         -0.14425568,  0.72779363, -0.29137313, -0.81603426,  0.00116535,\n",
       "         -0.1056533 ]], dtype=float32),\n",
       " array([-0.04054498,  0.18288371, -0.06163056, -0.06709024, -0.14234604,\n",
       "        -0.07904092,  0.10829662,  0.00172621,  0.04032118, -0.02256138,\n",
       "        -0.16508909], dtype=float32),\n",
       " array([[ 0.44610772,  0.0646877 ,  0.24711886,  0.2128573 ,  0.24866788,\n",
       "         -0.4257436 ,  0.26697505,  0.0158309 , -0.43227378,  0.18923298],\n",
       "        [-0.21933725, -0.03379343,  0.11773483,  0.04786929, -0.08416937,\n",
       "         -0.48244578,  0.32623962,  0.47565067, -0.35262892,  0.21498667],\n",
       "        [ 0.1536498 ,  0.480376  ,  0.12898579,  0.3985912 ,  0.19910856,\n",
       "          0.39007407, -0.14975065, -0.3222157 ,  0.14545873,  0.02511627],\n",
       "        [-0.36199003,  0.06439639,  0.39109173,  0.2285242 , -0.36474296,\n",
       "         -0.4621775 , -0.2918514 , -0.2811798 , -0.4075402 , -0.01742611],\n",
       "        [-0.1984257 ,  0.4216576 , -0.10609237,  0.2897021 ,  0.06941085,\n",
       "          0.49587694, -0.39006406, -0.1516396 , -0.28692594, -0.11268665],\n",
       "        [ 0.16740629,  0.29994398,  0.46159863,  0.0644286 ,  0.29451928,\n",
       "          0.2573889 ,  0.22805482,  0.5365309 ,  0.11845127,  0.16392304],\n",
       "        [ 0.3131915 , -0.29620332, -0.43547297, -0.18044469, -0.03031352,\n",
       "          0.1580265 ,  0.20472163, -0.06317469,  0.37248263, -0.06626134],\n",
       "        [ 0.44210687,  0.16209841, -0.4405534 , -0.07020485,  0.16017479,\n",
       "          0.49882442,  0.43286756, -0.2758498 ,  0.04541556, -0.32662863],\n",
       "        [-0.22274831,  0.25992212,  0.7119139 ,  0.40573052,  0.5921305 ,\n",
       "         -0.10656141, -0.6548516 , -0.18366073, -0.25113115, -0.54878646],\n",
       "        [-0.39038983,  0.28248566, -0.2741448 ,  0.29328382, -0.14723203,\n",
       "         -0.39873323,  0.20294799, -0.08070631,  0.22080363,  0.3673655 ],\n",
       "        [ 0.17508422, -0.27281037,  0.04322872, -0.10305999,  0.43780568,\n",
       "         -0.24990515, -0.266976  , -0.13864975,  0.0211258 , -0.07703096]],\n",
       "       dtype=float32),\n",
       " array([ 0.02640981, -0.03207172, -0.09191003, -0.1046945 , -0.15710187,\n",
       "        -0.03067126,  0.26190197,  0.12979998,  0.04982799,  0.27693012],\n",
       "       dtype=float32),\n",
       " array([[ 0.3044375 ,  0.19083443, -0.0336992 ,  0.15760332,  0.36268085,\n",
       "          0.19537584,  0.41291443,  0.48976654, -0.34986356,  0.22344202],\n",
       "        [-0.37998334,  0.04765319, -0.01382221, -0.08423662, -0.04209311,\n",
       "         -0.6069514 , -0.43122384, -0.0815097 ,  0.39797994, -0.1492316 ],\n",
       "        [-0.0546569 , -0.23208596,  0.5428634 ,  0.3855497 , -0.32135347,\n",
       "         -0.28651315,  0.32574177, -0.49551162,  0.49782193, -0.003334  ],\n",
       "        [ 0.18928958, -0.0920434 , -0.28314838, -0.2632901 ,  0.4144431 ,\n",
       "          0.28116325, -0.4203144 , -0.07499649,  0.43501493,  0.06361138],\n",
       "        [ 0.05899094, -0.2923589 ,  0.1801607 ,  0.23678954,  0.07477018,\n",
       "          0.24829288, -0.47702256, -0.41968885,  0.2539495 , -0.27162537],\n",
       "        [-0.29978737, -0.36941087,  0.4947301 , -0.15027459,  0.1109302 ,\n",
       "          0.09848582,  0.0927549 ,  0.3880593 ,  0.4875221 ,  0.28938973],\n",
       "        [ 0.38413623,  0.5106594 , -0.01186404, -0.5225034 , -0.20501441,\n",
       "          0.32325912,  0.38851845,  0.64158094, -0.2565675 ,  0.2120567 ],\n",
       "        [-0.48641658,  0.37400904, -0.56040365,  0.34789005, -0.48929772,\n",
       "          0.5493185 ,  0.28255048,  0.44593552, -0.51189774,  0.45686957],\n",
       "        [ 0.16988742,  0.01232811, -0.3807902 ,  0.39364082, -0.5419308 ,\n",
       "          0.44237202,  0.08349887,  0.16617414, -0.5072587 ,  0.08236161],\n",
       "        [-0.19059356,  0.61926544, -0.07220118, -0.3850463 , -0.00555738,\n",
       "          0.62676835,  0.6584757 ,  0.3326945 , -0.4055434 ,  0.42576542]],\n",
       "       dtype=float32),\n",
       " array([-0.08340152,  0.21517012, -0.02969776, -0.07084217, -0.04322254,\n",
       "         0.07055957,  0.1794563 ,  0.2746168 , -0.07681213,  0.05869757],\n",
       "       dtype=float32),\n",
       " array([[ 0.4305603 , -0.20678918, -0.11202762,  0.07157444,  0.45767462,\n",
       "         -0.20431852,  0.5379083 ,  0.45141608, -0.08471224,  0.25516   ],\n",
       "        [ 0.42172363,  0.97201014, -0.62924606, -0.72198164, -0.10793324,\n",
       "         -0.44004473,  0.6261173 , -0.24104324,  0.34893662, -0.21459557],\n",
       "        [-0.11267805, -0.16254586, -0.4188377 ,  0.44651103,  0.03197783,\n",
       "          0.5522643 ,  0.09515032,  0.56098765,  0.3254497 ,  0.23988596],\n",
       "        [-0.25818053, -0.3040473 ,  0.2987845 ,  0.39820576,  0.27607974,\n",
       "         -0.08612723, -0.10119142, -0.52725154, -0.2548584 , -0.09832413],\n",
       "        [-0.24113539, -0.24041973,  0.49999568,  0.01835967,  0.09979336,\n",
       "          0.19762781,  0.23393142,  0.5268211 ,  0.45812604, -0.2031825 ],\n",
       "        [ 0.2407633 , -0.09437337, -0.28096166, -0.15422033,  0.22345446,\n",
       "         -0.14692463,  0.4588072 ,  0.27661702,  0.2545668 , -0.21277805],\n",
       "        [ 0.7701797 ,  0.9976127 , -0.45392147,  0.3388218 ,  0.27277437,\n",
       "         -0.50857955,  0.01936708, -0.5681622 , -0.22519253,  0.24405266],\n",
       "        [ 0.4675339 ,  1.112561  , -0.2391273 , -0.12475576, -0.72714096,\n",
       "         -0.4098964 ,  0.7391173 , -0.33261806,  0.07825714, -0.6560815 ],\n",
       "        [-0.23573582,  0.07221269,  0.2299855 , -0.10631003,  0.35834792,\n",
       "         -0.01174427, -0.33810118,  0.21228899,  0.05292946,  0.37529483],\n",
       "        [ 0.67752695, -0.00504113,  0.04193588, -0.18163563, -0.47398397,\n",
       "          0.29887018,  0.11902972, -0.2977002 , -0.23057945, -0.1424117 ]],\n",
       "       dtype=float32),\n",
       " array([ 0.1815414 ,  0.1097638 , -0.07685097, -0.08274834, -0.10686778,\n",
       "        -0.07561477,  0.06830175, -0.09561627, -0.08800235, -0.09047669],\n",
       "       dtype=float32),\n",
       " array([[-0.25934798],\n",
       "        [-0.2651139 ],\n",
       "        [ 0.71893436],\n",
       "        [ 0.57218665],\n",
       "        [ 0.58420175],\n",
       "        [ 0.7626992 ],\n",
       "        [-0.54879946],\n",
       "        [ 0.34260988],\n",
       "        [ 0.04086604],\n",
       "        [ 0.18063731]], dtype=float32),\n",
       " array([-0.10710035], dtype=float32)]"
      ]
     },
     "execution_count": 38,
     "metadata": {},
     "output_type": "execute_result"
    }
   ],
   "source": [
    "# Getting the weights assigned to inputs\n",
    "weights=model.get_weights()\n",
    "weights"
   ]
  },
  {
   "cell_type": "code",
   "execution_count": null,
   "metadata": {},
   "outputs": [],
   "source": [
    "# Saving the model\n",
    "from tensorflow.keras.models import load_model\n",
    "model.save(\"Zakat eligibility predictor.h5\")"
   ]
  }
 ],
 "metadata": {
  "kernelspec": {
   "display_name": "Python 3",
   "language": "python",
   "name": "python3"
  },
  "language_info": {
   "codemirror_mode": {
    "name": "ipython",
    "version": 3
   },
   "file_extension": ".py",
   "mimetype": "text/x-python",
   "name": "python",
   "nbconvert_exporter": "python",
   "pygments_lexer": "ipython3",
   "version": "3.12.3"
  }
 },
 "nbformat": 4,
 "nbformat_minor": 2
}
